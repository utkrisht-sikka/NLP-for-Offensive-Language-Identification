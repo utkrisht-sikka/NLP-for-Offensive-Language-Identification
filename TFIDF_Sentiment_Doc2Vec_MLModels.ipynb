{
 "cells": [
  {
   "cell_type": "code",
   "execution_count": 1,
   "id": "b6ea6f26",
   "metadata": {
    "colab": {
     "base_uri": "https://localhost:8080/"
    },
    "id": "b6ea6f26",
    "outputId": "e4ef1523-128a-47cf-98ee-36b67e79948d"
   },
   "outputs": [
    {
     "name": "stderr",
     "output_type": "stream",
     "text": [
      "[nltk_data] Downloading package vader_lexicon to\n",
      "[nltk_data]     C:\\Users\\udit1\\AppData\\Roaming\\nltk_data...\n",
      "[nltk_data]   Package vader_lexicon is already up-to-date!\n"
     ]
    }
   ],
   "source": [
    "# from google.colab import drive\n",
    "import pandas as pd\n",
    "import numpy as np\n",
    "import math\n",
    "import string\n",
    "from sklearn.model_selection import train_test_split\n",
    "\n",
    "from sklearn.feature_extraction.text import TfidfVectorizer\n",
    "from sklearn.naive_bayes import MultinomialNB\n",
    "from sklearn.pipeline import make_pipeline\n",
    "from sklearn.metrics import accuracy_score, f1_score\n",
    "\n",
    "from sklearn.feature_extraction.text import CountVectorizer\n",
    "from sklearn.feature_extraction.text import TfidfVectorizer\n",
    "from sklearn.metrics import confusion_matrix\n",
    "\n",
    "from sklearn.linear_model import LogisticRegression\n",
    "from sklearn.model_selection import train_test_split\n",
    "from sklearn.metrics import f1_score\n",
    "from sklearn.feature_selection import SelectFromModel\n",
    "from sklearn.metrics import classification_report\n",
    "from sklearn.svm import LinearSVC\n",
    "from sklearn.ensemble import RandomForestClassifier\n",
    "\n",
    "from sklearn.linear_model import PassiveAggressiveClassifier\n",
    "\n",
    "from gensim.test.utils import common_texts\n",
    "from gensim.models.doc2vec import Doc2Vec, TaggedDocument\n",
    "\n",
    "import gensim\n",
    "from gensim.models import Word2Vec\n",
    "\n",
    "import nltk\n",
    "nltk.download('vader_lexicon')\n",
    "from nltk.sentiment.vader import SentimentIntensityAnalyzer as VS\n",
    "\n",
    "from sklearn.naive_bayes import MultinomialNB\n",
    "from sklearn.metrics import classification_report, accuracy_score, confusion_matrix\n",
    "\n",
    "from sklearn.tree import DecisionTreeClassifier"
   ]
  },
  {
   "cell_type": "code",
   "execution_count": 2,
   "id": "JylhMRa0VM3f",
   "metadata": {
    "colab": {
     "base_uri": "https://localhost:8080/"
    },
    "id": "JylhMRa0VM3f",
    "outputId": "330c00a1-95e6-45ec-ccf4-d87ba79cf63c"
   },
   "outputs": [
    {
     "name": "stderr",
     "output_type": "stream",
     "text": [
      "[nltk_data] Downloading package punkt to\n",
      "[nltk_data]     C:\\Users\\udit1\\AppData\\Roaming\\nltk_data...\n",
      "[nltk_data]   Package punkt is already up-to-date!\n"
     ]
    },
    {
     "data": {
      "text/plain": [
       "True"
      ]
     },
     "execution_count": 2,
     "metadata": {},
     "output_type": "execute_result"
    }
   ],
   "source": [
    "from nltk.tokenize import sent_tokenize, word_tokenize\n",
    "nltk.download('punkt')"
   ]
  },
  {
   "cell_type": "code",
   "execution_count": 3,
   "id": "BOAzbLnOCxcu",
   "metadata": {
    "colab": {
     "base_uri": "https://localhost:8080/"
    },
    "id": "BOAzbLnOCxcu",
    "outputId": "0ed1496e-b88d-451c-a408-9abafbdf8e2e"
   },
   "outputs": [],
   "source": [
    "# drive.mount('/content/drive')"
   ]
  },
  {
   "cell_type": "code",
   "execution_count": 4,
   "id": "Z-v7cG5Pvga2",
   "metadata": {
    "colab": {
     "base_uri": "https://localhost:8080/"
    },
    "id": "Z-v7cG5Pvga2",
    "outputId": "34fec0cc-dcca-451d-e75a-8d002460407b"
   },
   "outputs": [
    {
     "name": "stderr",
     "output_type": "stream",
     "text": [
      "C:\\Users\\udit1\\AppData\\Local\\Temp\\ipykernel_17912\\2185684462.py:30: FutureWarning: The default value of regex will change from True to False in a future version.\n",
      "  df.loc[:, 'tweet'] = df.tweet.str.replace('\\d+','') #Remove numbers\n"
     ]
    },
    {
     "name": "stdout",
     "output_type": "stream",
     "text": [
      " what is the difference between #kavanaugh and    one of these men admitted to groping a  year old girl years ago.  the other is going to be #confirmed to the scj   #demsarefrauds #demsaredone   #walkawaydemocrats #redwave #voteredsaveamerica #trumptrain #maga \n"
     ]
    },
    {
     "name": "stderr",
     "output_type": "stream",
     "text": [
      "C:\\Users\\udit1\\AppData\\Local\\Temp\\ipykernel_17912\\2185684462.py:40: FutureWarning: The default value of regex will change from True to False in a future version. In addition, single character regular expressions will *not* be treated as literal strings when regex=True.\n",
      "  df.loc[:, 'tweet'] = df.tweet.str.replace(punctuation, '')\n"
     ]
    }
   ],
   "source": [
    "datapath = \"H1_train.csv\"\n",
    "trainset = pd.read_csv(datapath);\n",
    "\n",
    "#remove contractions\n",
    "def decontract(text):\n",
    "    text = text.replace(r\"can't\", \"can not \")\n",
    "    text = text.replace(r\"n't\", \" not \")\n",
    "    text = text.replace(r\"'re\", \" are \")\n",
    "    text = text.replace(r\"'s \", \" is \")\n",
    "    text = text.replace(r\"'d \", \" would \")\n",
    "    text = text.replace(r\"'ll\", \" will \")\n",
    "    text = text.replace(r\"'t\", \" not \")\n",
    "    text = text.replace(r\"'ve\", \" have \")\n",
    "    text = text.replace(r\"'m\", \" am \")\n",
    "    return text\n",
    "    \n",
    "    \n",
    "def text_preprocessing(df):\n",
    "    '''\n",
    "    input : df is the dataframe(obtained by  pd.read_csv(H1_Offensive_Language_Identification_train.csv) ) \n",
    "    output: None . Tweets in df will be preprocessed internally.\n",
    "    '''\n",
    "    punctuations = string.punctuation\n",
    "    \n",
    "    df.loc[:, 'tweet'] = df.tweet.str.replace('@USER', '') #Remove mentions (@USER)\n",
    "    df.loc[:, 'tweet'] = df.tweet.str.replace('URL', '') #Remove URLs\n",
    "    df.loc[:, 'tweet'] = df.tweet.str.replace('&amp', 'and') #Replace ampersand (&) with and\n",
    "    df.loc[:, 'tweet'] = df.tweet.str.replace('&lt','') #Remove &lt\n",
    "    df.loc[:, 'tweet'] = df.tweet.str.replace('&gt','') #Remove &gt\n",
    "    df.loc[:, 'tweet'] = df.tweet.str.replace('\\d+','') #Remove numbers\n",
    "    df.loc[:, 'tweet'] = df.tweet.str.replace('’',\"'\") #convert webpage apostrophe to ascii 39 \n",
    "    df.loc[:, 'tweet'] = df.tweet.str.replace('‘',\"'\") #convert webpage apostrophe to ascii 39 \n",
    "    df.loc[:, 'tweet'] = df.tweet.str.lower() #Lowercase\n",
    "    for index_label, row_series in df.iterrows():\n",
    "    \n",
    "      df.at[index_label , 'tweet'] = decontract(row_series['tweet'])  \n",
    "    print(df.loc[11,'tweet'])\n",
    "    #Remove punctuations\n",
    "    for punctuation in punctuations:\n",
    "        df.loc[:, 'tweet'] = df.tweet.str.replace(punctuation, '')\n",
    "    \n",
    "    #Remove emojis\n",
    "    df.loc[:, 'tweet'] = df.astype(str).apply(\n",
    "        lambda x: x.str.encode('ascii', 'ignore').str.decode('ascii')\n",
    "    )\n",
    "\n",
    "    #remove multiple spaces\n",
    "    for index_label, row_series in df.iterrows():\n",
    "    \n",
    "      df.at[index_label , 'tweet'] = \" \".join(row_series['tweet'].split(\" \")) \n",
    "    df.loc[:, 'tweet'] = df.tweet.str.strip() #Trim leading and trailing whitespaces\n",
    "\n",
    "text_preprocessing(trainset)"
   ]
  },
  {
   "cell_type": "code",
   "execution_count": 5,
   "id": "pglIxtgsv6y4",
   "metadata": {
    "colab": {
     "base_uri": "https://localhost:8080/",
     "height": 206
    },
    "id": "pglIxtgsv6y4",
    "outputId": "5aa5f748-1f69-4009-cb6b-ac3e4b643017"
   },
   "outputs": [
    {
     "data": {
      "text/html": [
       "<div>\n",
       "<style scoped>\n",
       "    .dataframe tbody tr th:only-of-type {\n",
       "        vertical-align: middle;\n",
       "    }\n",
       "\n",
       "    .dataframe tbody tr th {\n",
       "        vertical-align: top;\n",
       "    }\n",
       "\n",
       "    .dataframe thead th {\n",
       "        text-align: right;\n",
       "    }\n",
       "</style>\n",
       "<table border=\"1\" class=\"dataframe\">\n",
       "  <thead>\n",
       "    <tr style=\"text-align: right;\">\n",
       "      <th></th>\n",
       "      <th>tweet</th>\n",
       "      <th>label</th>\n",
       "      <th>id</th>\n",
       "    </tr>\n",
       "  </thead>\n",
       "  <tbody>\n",
       "    <tr>\n",
       "      <th>0</th>\n",
       "      <td>she should ask a few native americans what the...</td>\n",
       "      <td>OFF</td>\n",
       "      <td>0</td>\n",
       "    </tr>\n",
       "    <tr>\n",
       "      <th>1</th>\n",
       "      <td>go home you are  drunk  maga trump</td>\n",
       "      <td>OFF</td>\n",
       "      <td>1</td>\n",
       "    </tr>\n",
       "    <tr>\n",
       "      <th>2</th>\n",
       "      <td>amazon is investigating chinese employees who ...</td>\n",
       "      <td>NOT</td>\n",
       "      <td>2</td>\n",
       "    </tr>\n",
       "    <tr>\n",
       "      <th>3</th>\n",
       "      <td>someone should have taken this piece of shit t...</td>\n",
       "      <td>OFF</td>\n",
       "      <td>3</td>\n",
       "    </tr>\n",
       "    <tr>\n",
       "      <th>4</th>\n",
       "      <td>obama wanted liberals and illegals to move int...</td>\n",
       "      <td>NOT</td>\n",
       "      <td>4</td>\n",
       "    </tr>\n",
       "  </tbody>\n",
       "</table>\n",
       "</div>"
      ],
      "text/plain": [
       "                                               tweet label  id\n",
       "0  she should ask a few native americans what the...   OFF   0\n",
       "1                 go home you are  drunk  maga trump   OFF   1\n",
       "2  amazon is investigating chinese employees who ...   NOT   2\n",
       "3  someone should have taken this piece of shit t...   OFF   3\n",
       "4  obama wanted liberals and illegals to move int...   NOT   4"
      ]
     },
     "execution_count": 5,
     "metadata": {},
     "output_type": "execute_result"
    }
   ],
   "source": [
    "trainset.head()"
   ]
  },
  {
   "cell_type": "code",
   "execution_count": 6,
   "id": "8f94a1b6",
   "metadata": {
    "colab": {
     "base_uri": "https://localhost:8080/"
    },
    "id": "8f94a1b6",
    "outputId": "ee0db2dd-769c-492a-e3f1-8e1097752ab6"
   },
   "outputs": [
    {
     "data": {
      "text/plain": [
       "(13240, 3)"
      ]
     },
     "execution_count": 6,
     "metadata": {},
     "output_type": "execute_result"
    }
   ],
   "source": [
    "trainset.shape"
   ]
  },
  {
   "cell_type": "code",
   "execution_count": 8,
   "id": "04a052f4",
   "metadata": {
    "colab": {
     "base_uri": "https://localhost:8080/"
    },
    "id": "04a052f4",
    "outputId": "24d04b7d-be63-4a6d-b7bb-0cda7db84616"
   },
   "outputs": [
    {
     "data": {
      "text/plain": [
       "4400"
      ]
     },
     "execution_count": 8,
     "metadata": {},
     "output_type": "execute_result"
    }
   ],
   "source": [
    "np.sum(trainset[\"label\"] == \"OFF\")"
   ]
  },
  {
   "cell_type": "code",
   "execution_count": 9,
   "id": "32d84249",
   "metadata": {
    "colab": {
     "base_uri": "https://localhost:8080/"
    },
    "id": "32d84249",
    "outputId": "9e267c6f-724d-4bd3-e407-3493c43f13f1"
   },
   "outputs": [
    {
     "data": {
      "text/plain": [
       "8840"
      ]
     },
     "execution_count": 9,
     "metadata": {},
     "output_type": "execute_result"
    }
   ],
   "source": [
    "np.sum(trainset[\"label\"] == \"NOT\")"
   ]
  },
  {
   "cell_type": "markdown",
   "id": "8a0e84c1",
   "metadata": {
    "id": "8a0e84c1"
   },
   "source": [
    "Observation 1 : The dataset is not balanced"
   ]
  },
  {
   "cell_type": "code",
   "execution_count": 10,
   "id": "086bc51f",
   "metadata": {
    "id": "086bc51f"
   },
   "outputs": [],
   "source": [
    "X_train, X_val, y_train, y_val = train_test_split(trainset[\"tweet\"], trainset[\"label\"], test_size=0.33, random_state=42)"
   ]
  },
  {
   "cell_type": "code",
   "execution_count": 11,
   "id": "b879f453",
   "metadata": {
    "colab": {
     "base_uri": "https://localhost:8080/"
    },
    "id": "b879f453",
    "outputId": "36ca6be0-0824-4ac5-fe35-aa8fb2d7f669"
   },
   "outputs": [
    {
     "data": {
      "text/plain": [
       "8870"
      ]
     },
     "execution_count": 11,
     "metadata": {},
     "output_type": "execute_result"
    }
   ],
   "source": [
    "len(X_train)"
   ]
  },
  {
   "cell_type": "code",
   "execution_count": 12,
   "id": "KeXG5tZZxVQS",
   "metadata": {
    "id": "KeXG5tZZxVQS"
   },
   "outputs": [],
   "source": [
    "X_train, X_val, y_train, y_val=list(X_train), list(X_val), list(y_train), list(y_val)"
   ]
  },
  {
   "cell_type": "code",
   "execution_count": 13,
   "id": "107da0fe",
   "metadata": {
    "colab": {
     "base_uri": "https://localhost:8080/"
    },
    "id": "107da0fe",
    "outputId": "f1573f49-a51d-4051-e836-120f268b0850"
   },
   "outputs": [
    {
     "data": {
      "text/plain": [
       "4370"
      ]
     },
     "execution_count": 13,
     "metadata": {},
     "output_type": "execute_result"
    }
   ],
   "source": [
    "len(X_val)"
   ]
  },
  {
   "cell_type": "code",
   "execution_count": 14,
   "id": "f9037adb",
   "metadata": {
    "colab": {
     "base_uri": "https://localhost:8080/"
    },
    "id": "f9037adb",
    "outputId": "2a7227ee-f229-40a9-df66-4976b5f86921"
   },
   "outputs": [
    {
     "data": {
      "text/plain": [
       "8870"
      ]
     },
     "execution_count": 14,
     "metadata": {},
     "output_type": "execute_result"
    }
   ],
   "source": [
    "len(y_train)"
   ]
  },
  {
   "cell_type": "code",
   "execution_count": 15,
   "id": "pJANBX9XLPmb",
   "metadata": {
    "colab": {
     "base_uri": "https://localhost:8080/"
    },
    "id": "pJANBX9XLPmb",
    "outputId": "b6ef8055-9b77-4b1e-e2d0-42cdb6c709e8"
   },
   "outputs": [
    {
     "name": "stdout",
     "output_type": "stream",
     "text": [
      "Defaulting to user installation because normal site-packages is not writeable\n",
      "Requirement already satisfied: nltk in c:\\users\\udit1\\appdata\\roaming\\python\\python310\\site-packages (3.7)\n",
      "Requirement already satisfied: tqdm in c:\\users\\udit1\\appdata\\roaming\\python\\python310\\site-packages (from nltk) (4.64.1)\n",
      "Requirement already satisfied: joblib in c:\\users\\udit1\\appdata\\roaming\\python\\python310\\site-packages (from nltk) (1.2.0)\n",
      "Requirement already satisfied: regex>=2021.8.3 in c:\\users\\udit1\\appdata\\roaming\\python\\python310\\site-packages (from nltk) (2022.9.13)\n",
      "Requirement already satisfied: click in c:\\users\\udit1\\appdata\\roaming\\python\\python310\\site-packages (from nltk) (8.1.3)\n",
      "Requirement already satisfied: colorama in c:\\users\\udit1\\appdata\\roaming\\python\\python310\\site-packages (from click->nltk) (0.4.5)\n"
     ]
    },
    {
     "name": "stderr",
     "output_type": "stream",
     "text": [
      "WARNING: You are using pip version 22.0.4; however, version 22.3.1 is available.\n",
      "You should consider upgrading via the 'C:\\Program Files\\Python310\\python.exe -m pip install --upgrade pip' command.\n"
     ]
    },
    {
     "name": "stdout",
     "output_type": "stream",
     "text": [
      "Defaulting to user installation because normal site-packages is not writeable\n",
      "Requirement already satisfied: sentence-transformers in c:\\users\\udit1\\appdata\\roaming\\python\\python310\\site-packages (2.2.2)\n",
      "Requirement already satisfied: torch>=1.6.0 in c:\\users\\udit1\\appdata\\roaming\\python\\python310\\site-packages (from sentence-transformers) (1.12.1)\n",
      "Requirement already satisfied: sentencepiece in c:\\users\\udit1\\appdata\\roaming\\python\\python310\\site-packages (from sentence-transformers) (0.1.97)\n",
      "Requirement already satisfied: nltk in c:\\users\\udit1\\appdata\\roaming\\python\\python310\\site-packages (from sentence-transformers) (3.7)\n",
      "Requirement already satisfied: huggingface-hub>=0.4.0 in c:\\users\\udit1\\appdata\\roaming\\python\\python310\\site-packages (from sentence-transformers) (0.11.0)\n",
      "Requirement already satisfied: transformers<5.0.0,>=4.6.0 in c:\\users\\udit1\\appdata\\roaming\\python\\python310\\site-packages (from sentence-transformers) (4.24.0)\n",
      "Requirement already satisfied: numpy in c:\\users\\udit1\\appdata\\roaming\\python\\python310\\site-packages (from sentence-transformers) (1.22.4)\n",
      "Requirement already satisfied: scipy in c:\\users\\udit1\\appdata\\roaming\\python\\python310\\site-packages (from sentence-transformers) (1.9.1)\n",
      "Requirement already satisfied: tqdm in c:\\users\\udit1\\appdata\\roaming\\python\\python310\\site-packages (from sentence-transformers) (4.64.1)\n",
      "Requirement already satisfied: torchvision in c:\\users\\udit1\\appdata\\roaming\\python\\python310\\site-packages (from sentence-transformers) (0.13.1)\n",
      "Requirement already satisfied: scikit-learn in c:\\users\\udit1\\appdata\\roaming\\python\\python310\\site-packages (from sentence-transformers) (1.1.2)\n",
      "Requirement already satisfied: requests in c:\\users\\udit1\\appdata\\roaming\\python\\python310\\site-packages (from huggingface-hub>=0.4.0->sentence-transformers) (2.28.1)\n",
      "Requirement already satisfied: pyyaml>=5.1 in c:\\users\\udit1\\appdata\\roaming\\python\\python310\\site-packages (from huggingface-hub>=0.4.0->sentence-transformers) (6.0)\n",
      "Requirement already satisfied: packaging>=20.9 in c:\\users\\udit1\\appdata\\roaming\\python\\python310\\site-packages (from huggingface-hub>=0.4.0->sentence-transformers) (21.3)\n",
      "Requirement already satisfied: typing-extensions>=3.7.4.3 in c:\\users\\udit1\\appdata\\roaming\\python\\python310\\site-packages (from huggingface-hub>=0.4.0->sentence-transformers) (4.4.0)\n",
      "Requirement already satisfied: filelock in c:\\users\\udit1\\appdata\\roaming\\python\\python310\\site-packages (from huggingface-hub>=0.4.0->sentence-transformers) (3.8.0)\n",
      "Requirement already satisfied: tokenizers!=0.11.3,<0.14,>=0.11.1 in c:\\users\\udit1\\appdata\\roaming\\python\\python310\\site-packages (from transformers<5.0.0,>=4.6.0->sentence-transformers) (0.13.2)\n",
      "Requirement already satisfied: regex!=2019.12.17 in c:\\users\\udit1\\appdata\\roaming\\python\\python310\\site-packages (from transformers<5.0.0,>=4.6.0->sentence-transformers) (2022.9.13)\n",
      "Requirement already satisfied: colorama in c:\\users\\udit1\\appdata\\roaming\\python\\python310\\site-packages (from tqdm->sentence-transformers) (0.4.5)\n",
      "Requirement already satisfied: joblib in c:\\users\\udit1\\appdata\\roaming\\python\\python310\\site-packages (from nltk->sentence-transformers) (1.2.0)\n",
      "Requirement already satisfied: click in c:\\users\\udit1\\appdata\\roaming\\python\\python310\\site-packages (from nltk->sentence-transformers) (8.1.3)\n",
      "Requirement already satisfied: threadpoolctl>=2.0.0 in c:\\users\\udit1\\appdata\\roaming\\python\\python310\\site-packages (from scikit-learn->sentence-transformers) (3.1.0)\n",
      "Requirement already satisfied: pillow!=8.3.*,>=5.3.0 in c:\\users\\udit1\\appdata\\roaming\\python\\python310\\site-packages (from torchvision->sentence-transformers) (9.2.0)\n",
      "Requirement already satisfied: pyparsing!=3.0.5,>=2.0.2 in c:\\users\\udit1\\appdata\\roaming\\python\\python310\\site-packages (from packaging>=20.9->huggingface-hub>=0.4.0->sentence-transformers) (3.0.9)\n",
      "Requirement already satisfied: idna<4,>=2.5 in c:\\users\\udit1\\appdata\\roaming\\python\\python310\\site-packages (from requests->huggingface-hub>=0.4.0->sentence-transformers) (3.4)\n",
      "Requirement already satisfied: urllib3<1.27,>=1.21.1 in c:\\users\\udit1\\appdata\\roaming\\python\\python310\\site-packages (from requests->huggingface-hub>=0.4.0->sentence-transformers) (1.26.12)\n",
      "Requirement already satisfied: charset-normalizer<3,>=2 in c:\\users\\udit1\\appdata\\roaming\\python\\python310\\site-packages (from requests->huggingface-hub>=0.4.0->sentence-transformers) (2.1.1)\n",
      "Requirement already satisfied: certifi>=2017.4.17 in c:\\users\\udit1\\appdata\\roaming\\python\\python310\\site-packages (from requests->huggingface-hub>=0.4.0->sentence-transformers) (2022.9.14)\n"
     ]
    },
    {
     "name": "stderr",
     "output_type": "stream",
     "text": [
      "WARNING: You are using pip version 22.0.4; however, version 22.3.1 is available.\n",
      "You should consider upgrading via the 'C:\\Program Files\\Python310\\python.exe -m pip install --upgrade pip' command.\n"
     ]
    },
    {
     "name": "stdout",
     "output_type": "stream",
     "text": [
      "Defaulting to user installation because normal site-packages is not writeable\n",
      "Requirement already satisfied: spacy in c:\\users\\udit1\\appdata\\roaming\\python\\python310\\site-packages (3.4.3)\n",
      "Requirement already satisfied: pydantic!=1.8,!=1.8.1,<1.11.0,>=1.7.4 in c:\\users\\udit1\\appdata\\roaming\\python\\python310\\site-packages (from spacy) (1.10.2)\n",
      "Requirement already satisfied: wasabi<1.1.0,>=0.9.1 in c:\\users\\udit1\\appdata\\roaming\\python\\python310\\site-packages (from spacy) (0.10.1)\n",
      "Requirement already satisfied: requests<3.0.0,>=2.13.0 in c:\\users\\udit1\\appdata\\roaming\\python\\python310\\site-packages (from spacy) (2.28.1)\n",
      "Requirement already satisfied: packaging>=20.0 in c:\\users\\udit1\\appdata\\roaming\\python\\python310\\site-packages (from spacy) (21.3)\n",
      "Requirement already satisfied: catalogue<2.1.0,>=2.0.6 in c:\\users\\udit1\\appdata\\roaming\\python\\python310\\site-packages (from spacy) (2.0.8)\n",
      "Requirement already satisfied: pathy>=0.3.5 in c:\\users\\udit1\\appdata\\roaming\\python\\python310\\site-packages (from spacy) (0.10.0)\n",
      "Requirement already satisfied: cymem<2.1.0,>=2.0.2 in c:\\users\\udit1\\appdata\\roaming\\python\\python310\\site-packages (from spacy) (2.0.7)\n",
      "Requirement already satisfied: spacy-loggers<2.0.0,>=1.0.0 in c:\\users\\udit1\\appdata\\roaming\\python\\python310\\site-packages (from spacy) (1.0.3)\n",
      "Requirement already satisfied: spacy-legacy<3.1.0,>=3.0.10 in c:\\users\\udit1\\appdata\\roaming\\python\\python310\\site-packages (from spacy) (3.0.10)\n",
      "Requirement already satisfied: murmurhash<1.1.0,>=0.28.0 in c:\\users\\udit1\\appdata\\roaming\\python\\python310\\site-packages (from spacy) (1.0.9)\n",
      "Requirement already satisfied: setuptools in c:\\program files\\python310\\lib\\site-packages (from spacy) (58.1.0)\n",
      "Requirement already satisfied: srsly<3.0.0,>=2.4.3 in c:\\users\\udit1\\appdata\\roaming\\python\\python310\\site-packages (from spacy) (2.4.5)\n",
      "Requirement already satisfied: tqdm<5.0.0,>=4.38.0 in c:\\users\\udit1\\appdata\\roaming\\python\\python310\\site-packages (from spacy) (4.64.1)\n",
      "Requirement already satisfied: langcodes<4.0.0,>=3.2.0 in c:\\users\\udit1\\appdata\\roaming\\python\\python310\\site-packages (from spacy) (3.3.0)\n",
      "Requirement already satisfied: thinc<8.2.0,>=8.1.0 in c:\\users\\udit1\\appdata\\roaming\\python\\python310\\site-packages (from spacy) (8.1.5)\n",
      "Requirement already satisfied: jinja2 in c:\\users\\udit1\\appdata\\roaming\\python\\python310\\site-packages (from spacy) (3.1.2)\n",
      "Requirement already satisfied: preshed<3.1.0,>=3.0.2 in c:\\users\\udit1\\appdata\\roaming\\python\\python310\\site-packages (from spacy) (3.0.8)\n",
      "Requirement already satisfied: typer<0.8.0,>=0.3.0 in c:\\users\\udit1\\appdata\\roaming\\python\\python310\\site-packages (from spacy) (0.7.0)\n",
      "Requirement already satisfied: numpy>=1.15.0 in c:\\users\\udit1\\appdata\\roaming\\python\\python310\\site-packages (from spacy) (1.22.4)\n",
      "Requirement already satisfied: pyparsing!=3.0.5,>=2.0.2 in c:\\users\\udit1\\appdata\\roaming\\python\\python310\\site-packages (from packaging>=20.0->spacy) (3.0.9)\n",
      "Requirement already satisfied: smart-open<6.0.0,>=5.2.1 in c:\\users\\udit1\\appdata\\roaming\\python\\python310\\site-packages (from pathy>=0.3.5->spacy) (5.2.1)\n",
      "Requirement already satisfied: typing-extensions>=4.1.0 in c:\\users\\udit1\\appdata\\roaming\\python\\python310\\site-packages (from pydantic!=1.8,!=1.8.1,<1.11.0,>=1.7.4->spacy) (4.4.0)\n",
      "Requirement already satisfied: certifi>=2017.4.17 in c:\\users\\udit1\\appdata\\roaming\\python\\python310\\site-packages (from requests<3.0.0,>=2.13.0->spacy) (2022.9.14)\n",
      "Requirement already satisfied: charset-normalizer<3,>=2 in c:\\users\\udit1\\appdata\\roaming\\python\\python310\\site-packages (from requests<3.0.0,>=2.13.0->spacy) (2.1.1)\n",
      "Requirement already satisfied: idna<4,>=2.5 in c:\\users\\udit1\\appdata\\roaming\\python\\python310\\site-packages (from requests<3.0.0,>=2.13.0->spacy) (3.4)\n",
      "Requirement already satisfied: urllib3<1.27,>=1.21.1 in c:\\users\\udit1\\appdata\\roaming\\python\\python310\\site-packages (from requests<3.0.0,>=2.13.0->spacy) (1.26.12)\n",
      "Requirement already satisfied: confection<1.0.0,>=0.0.1 in c:\\users\\udit1\\appdata\\roaming\\python\\python310\\site-packages (from thinc<8.2.0,>=8.1.0->spacy) (0.0.3)\n",
      "Requirement already satisfied: blis<0.8.0,>=0.7.8 in c:\\users\\udit1\\appdata\\roaming\\python\\python310\\site-packages (from thinc<8.2.0,>=8.1.0->spacy) (0.7.9)\n",
      "Requirement already satisfied: colorama in c:\\users\\udit1\\appdata\\roaming\\python\\python310\\site-packages (from tqdm<5.0.0,>=4.38.0->spacy) (0.4.5)\n",
      "Requirement already satisfied: click<9.0.0,>=7.1.1 in c:\\users\\udit1\\appdata\\roaming\\python\\python310\\site-packages (from typer<0.8.0,>=0.3.0->spacy) (8.1.3)\n",
      "Requirement already satisfied: MarkupSafe>=2.0 in c:\\users\\udit1\\appdata\\roaming\\python\\python310\\site-packages (from jinja2->spacy) (2.1.1)\n"
     ]
    },
    {
     "name": "stderr",
     "output_type": "stream",
     "text": [
      "WARNING: You are using pip version 22.0.4; however, version 22.3.1 is available.\n",
      "You should consider upgrading via the 'C:\\Program Files\\Python310\\python.exe -m pip install --upgrade pip' command.\n"
     ]
    }
   ],
   "source": [
    "!pip install nltk\n",
    "!pip install sentence-transformers\n",
    "!pip install spacy"
   ]
  },
  {
   "cell_type": "code",
   "execution_count": 16,
   "id": "QJXYzpLvQI8O",
   "metadata": {
    "id": "QJXYzpLvQI8O"
   },
   "outputs": [],
   "source": [
    "X_train=np.array(X_train)\n",
    "X_val=np.array(X_val)\n",
    "\n",
    "y_train=np.array(y_train)\n",
    "y_val=np.array(y_val)"
   ]
  },
  {
   "cell_type": "code",
   "execution_count": 17,
   "id": "Tf1HowG5U3ZP",
   "metadata": {
    "colab": {
     "base_uri": "https://localhost:8080/"
    },
    "id": "Tf1HowG5U3ZP",
    "outputId": "6820476f-d6ac-45b0-e4c0-984ec27f7c42"
   },
   "outputs": [
    {
     "data": {
      "text/plain": [
       "array(['i believe that serena would not cheat yet even her manager has admitted to breaking the rules this was not her finest hour first a temper tantrum then calling the umpire a thief that crossed the line she is the one that should apologize',\n",
       "       'is not  this bodyshaming  good to see the feminists and liberals have no issue with bodyshaming as long as it is directed towards a man',\n",
       "       'funny how he believes antifa is a thing but calls himself reality checks',\n",
       "       ..., 'you are so right',\n",
       "       'sam is act is working i swear she is acting', 'chuckle heads'],\n",
       "      dtype='<U287')"
      ]
     },
     "execution_count": 17,
     "metadata": {},
     "output_type": "execute_result"
    }
   ],
   "source": [
    "X_train"
   ]
  },
  {
   "cell_type": "code",
   "execution_count": 18,
   "id": "XV5g60V9K-zL",
   "metadata": {
    "id": "XV5g60V9K-zL"
   },
   "outputs": [],
   "source": [
    "\n",
    "import re\n",
    "from nltk.corpus import stopwords\n",
    "\n",
    "from sklearn import linear_model\n",
    "from  sentence_transformers import SentenceTransformer\n",
    "\n",
    "from sklearn import svm\n",
    "import torch \n",
    "\n",
    "from scipy.stats import spearmanr\n",
    "\n",
    "from sentence_transformers import InputExample, losses, models\n",
    "from sentence_transformers import util\n",
    "from sentence_transformers.evaluation import EmbeddingSimilarityEvaluator\n",
    "from torch.utils.data import DataLoader\n",
    "from torch import nn\n",
    "from datetime import datetime\n",
    "import math"
   ]
  },
  {
   "cell_type": "code",
   "execution_count": 19,
   "id": "e1A2KIxFNY_j",
   "metadata": {
    "id": "e1A2KIxFNY_j"
   },
   "outputs": [],
   "source": [
    "vectorizer = TfidfVectorizer()\n",
    "X_train_tfidf = vectorizer.fit_transform(X_train)"
   ]
  },
  {
   "cell_type": "code",
   "execution_count": 20,
   "id": "ZDDHE1E1zSrH",
   "metadata": {
    "id": "ZDDHE1E1zSrH"
   },
   "outputs": [],
   "source": [
    "X_val_tfidf=vectorizer.transform(X_val)"
   ]
  },
  {
   "cell_type": "code",
   "execution_count": 21,
   "id": "tqEfeQnEzoL2",
   "metadata": {
    "colab": {
     "base_uri": "https://localhost:8080/"
    },
    "id": "tqEfeQnEzoL2",
    "outputId": "8cee7765-eac8-43e1-cac6-69e65c57b63d"
   },
   "outputs": [
    {
     "name": "stdout",
     "output_type": "stream",
     "text": [
      "(8870, 15767)\n",
      "(4370, 15767)\n"
     ]
    }
   ],
   "source": [
    "print(X_train_tfidf.shape)\n",
    "print(X_val_tfidf.shape)"
   ]
  },
  {
   "cell_type": "code",
   "execution_count": 22,
   "id": "xtlauAmOOWFf",
   "metadata": {
    "id": "xtlauAmOOWFf"
   },
   "outputs": [],
   "source": [
    "dict_models={}\n",
    "dict_accuracy={}"
   ]
  },
  {
   "cell_type": "code",
   "execution_count": 23,
   "id": "IQjhcm5Oj_V3",
   "metadata": {
    "id": "IQjhcm5Oj_V3"
   },
   "outputs": [],
   "source": [
    "trainset_tfidf=vectorizer.transform(list(trainset[\"tweet\"]))"
   ]
  },
  {
   "cell_type": "code",
   "execution_count": 26,
   "id": "uWnR8APH00E7",
   "metadata": {
    "colab": {
     "base_uri": "https://localhost:8080/"
    },
    "id": "uWnR8APH00E7",
    "outputId": "721c18ec-038b-4866-84dc-5c3fd1bb40a5"
   },
   "outputs": [
    {
     "name": "stdout",
     "output_type": "stream",
     "text": [
      "(8870, 15767)\n",
      "(4370, 15767)\n",
      "(13240, 15767)\n"
     ]
    }
   ],
   "source": [
    "print(X_train_tfidf.shape)\n",
    "print(X_val_tfidf.shape)\n",
    "print(trainset_tfidf.shape)"
   ]
  },
  {
   "cell_type": "markdown",
   "id": "2Ux_JmwU3NGb",
   "metadata": {
    "id": "2Ux_JmwU3NGb"
   },
   "source": [
    "Models Using TFIDF"
   ]
  },
  {
   "cell_type": "code",
   "execution_count": 29,
   "id": "MUSKE3bINr2V",
   "metadata": {
    "id": "MUSKE3bINr2V"
   },
   "outputs": [],
   "source": [
    "dict_models_tfidf={}\n",
    "dict_accuracy_report_tfidf={}\n",
    "\n",
    "x_train=X_train_tfidf\n",
    "x_test=X_val_tfidf\n",
    "y_test=y_val"
   ]
  },
  {
   "cell_type": "code",
   "execution_count": 30,
   "id": "mtuaJ2FU59DF",
   "metadata": {
    "colab": {
     "base_uri": "https://localhost:8080/"
    },
    "id": "mtuaJ2FU59DF",
    "outputId": "6604ae7c-da7f-4c94-f197-804800d25a98"
   },
   "outputs": [
    {
     "name": "stdout",
     "output_type": "stream",
     "text": [
      "(8870, 15767)\n",
      "(4370, 15767)\n",
      "(8870,)\n",
      "(4370,)\n"
     ]
    }
   ],
   "source": [
    "print(x_train.shape)\n",
    "print(x_test.shape)\n",
    "print(np.array(y_train).shape)\n",
    "print(np.array(y_test).shape)"
   ]
  },
  {
   "cell_type": "code",
   "execution_count": 31,
   "id": "3VfE9nId4Gf_",
   "metadata": {
    "colab": {
     "base_uri": "https://localhost:8080/"
    },
    "id": "3VfE9nId4Gf_",
    "outputId": "30729404-8815-46bd-b29f-04c6dedd16d0"
   },
   "outputs": [
    {
     "name": "stdout",
     "output_type": "stream",
     "text": [
      "              precision    recall  f1-score   support\n",
      "\n",
      "         NOT       0.74      0.96      0.84      2903\n",
      "         OFF       0.80      0.35      0.48      1467\n",
      "\n",
      "    accuracy                           0.75      4370\n",
      "   macro avg       0.77      0.65      0.66      4370\n",
      "weighted avg       0.76      0.75      0.72      4370\n",
      "\n",
      "Logistic Regression, Accuracy Score: 0.7517162471395881\n"
     ]
    }
   ],
   "source": [
    "logictic_model = LogisticRegression().fit(x_train,y_train)\n",
    "y_preds = logictic_model.predict(x_test)\n",
    "report = classification_report( y_test, y_preds )\n",
    "print(report)\n",
    "acc=accuracy_score(y_test,y_preds)\n",
    "print(\"Logistic Regression, Accuracy Score:\" , acc)\n",
    "dict_models_tfidf[\"logictic_model\"]=logictic_model\n",
    "dict_accuracy_report_tfidf[\"Logistic Regression\"]=report"
   ]
  },
  {
   "cell_type": "code",
   "execution_count": 34,
   "id": "1c136892",
   "metadata": {},
   "outputs": [
    {
     "name": "stdout",
     "output_type": "stream",
     "text": [
      "              precision    recall  f1-score   support\n",
      "\n",
      "         NOT       0.78      0.98      0.87      5937\n",
      "         OFF       0.93      0.45      0.61      2933\n",
      "\n",
      "    accuracy                           0.81      8870\n",
      "   macro avg       0.86      0.72      0.74      8870\n",
      "weighted avg       0.83      0.81      0.79      8870\n",
      "\n"
     ]
    }
   ],
   "source": [
    "y_train_pred=logictic_model.predict(x_train)\n",
    "report = classification_report( y_train, y_train_pred )\n",
    "print(report)"
   ]
  },
  {
   "cell_type": "code",
   "execution_count": null,
   "id": "ea810946",
   "metadata": {},
   "outputs": [],
   "source": []
  },
  {
   "cell_type": "code",
   "execution_count": 35,
   "id": "2AdRvZi47muA",
   "metadata": {
    "colab": {
     "base_uri": "https://localhost:8080/"
    },
    "id": "2AdRvZi47muA",
    "outputId": "b824beb9-6590-4e2c-c77b-414ba6d72f7b"
   },
   "outputs": [
    {
     "data": {
      "text/plain": [
       "{'Logistic Regression': '              precision    recall  f1-score   support\\n\\n         NOT       0.74      0.96      0.84      2903\\n         OFF       0.80      0.35      0.48      1467\\n\\n    accuracy                           0.75      4370\\n   macro avg       0.77      0.65      0.66      4370\\nweighted avg       0.76      0.75      0.72      4370\\n'}"
      ]
     },
     "execution_count": 35,
     "metadata": {},
     "output_type": "execute_result"
    }
   ],
   "source": [
    "dict_accuracy_report_tfidf"
   ]
  },
  {
   "cell_type": "code",
   "execution_count": 36,
   "id": "fqR-bGyCOKF1",
   "metadata": {
    "colab": {
     "base_uri": "https://localhost:8080/"
    },
    "id": "fqR-bGyCOKF1",
    "outputId": "a5fb5ed9-385c-4c8e-efa7-f4b42912a425",
    "scrolled": true
   },
   "outputs": [
    {
     "name": "stdout",
     "output_type": "stream",
     "text": [
      "accuracy:   0.694\n",
      "\n",
      "accuracy_matrix\n",
      "[[2879   24]\n",
      " [1315  152]]\n",
      "\n",
      "Classification Report : \n",
      "\n",
      "              precision    recall  f1-score   support\n",
      "\n",
      "         NOT       0.69      0.99      0.81      2903\n",
      "         OFF       0.86      0.10      0.19      1467\n",
      "\n",
      "    accuracy                           0.69      4370\n",
      "   macro avg       0.78      0.55      0.50      4370\n",
      "weighted avg       0.75      0.69      0.60      4370\n",
      "\n"
     ]
    }
   ],
   "source": [
    "classifier_mnb=MultinomialNB()\n",
    "classifier_mnb.fit(x_train, y_train)\n",
    "pred = classifier_mnb.predict(x_test)\n",
    "score = accuracy_score(y_test, pred)\n",
    "print(\"accuracy:   %0.3f\" % score)\n",
    "print()\n",
    "print(\"accuracy_matrix\")\n",
    "print(confusion_matrix(y_test,pred))\n",
    "print()\n",
    "report=classification_report( y_test, pred )\n",
    "print(f\"Classification Report : \\n\\n{classification_report(y_test, pred)}\")\n",
    "dict_models_tfidf[\"MultinomialNB\"]=classifier_mnb\n",
    "dict_accuracy_report_tfidf[\"MultinomialNB\"]=report"
   ]
  },
  {
   "cell_type": "code",
   "execution_count": 37,
   "id": "d8bebfd3",
   "metadata": {},
   "outputs": [
    {
     "name": "stdout",
     "output_type": "stream",
     "text": [
      "              precision    recall  f1-score   support\n",
      "\n",
      "         NOT       0.72      1.00      0.84      5937\n",
      "         OFF       0.97      0.23      0.38      2933\n",
      "\n",
      "    accuracy                           0.74      8870\n",
      "   macro avg       0.85      0.62      0.61      8870\n",
      "weighted avg       0.81      0.74      0.69      8870\n",
      "\n"
     ]
    }
   ],
   "source": [
    "y_train_pred=classifier_mnb.predict(x_train)\n",
    "report = classification_report( y_train, y_train_pred )\n",
    "print(report)"
   ]
  },
  {
   "cell_type": "code",
   "execution_count": 40,
   "id": "jyPKVFhxPQdF",
   "metadata": {
    "colab": {
     "base_uri": "https://localhost:8080/"
    },
    "id": "jyPKVFhxPQdF",
    "outputId": "ec281bf6-9036-462e-a446-a31c6f379bbe",
    "scrolled": true
   },
   "outputs": [
    {
     "name": "stderr",
     "output_type": "stream",
     "text": [
      "C:\\Users\\udit1\\AppData\\Roaming\\Python\\Python310\\site-packages\\sklearn\\naive_bayes.py:591: UserWarning: alpha too small will result in numeric errors, setting alpha = 1.0e-10\n",
      "  warnings.warn(\n"
     ]
    },
    {
     "name": "stdout",
     "output_type": "stream",
     "text": [
      "accuracy: 0.720\n",
      "best_k: 0.200\n",
      "\n",
      "accuracy_matrix\n",
      "[[2703  200]\n",
      " [1025  442]]\n",
      "\n",
      "Classification Report : \n",
      "\n",
      "              precision    recall  f1-score   support\n",
      "\n",
      "         NOT       0.73      0.93      0.82      2903\n",
      "         OFF       0.69      0.30      0.42      1467\n",
      "\n",
      "    accuracy                           0.72      4370\n",
      "   macro avg       0.71      0.62      0.62      4370\n",
      "weighted avg       0.71      0.72      0.68      4370\n",
      "\n"
     ]
    }
   ],
   "source": [
    "## tuning with different values of k, also know as add k smoothing\n",
    "pre_score=0\n",
    "best_k=0\n",
    "mnb_tuned_classfier=MultinomialNB()\n",
    "for a in np.arange(0, 2, 0.1):\n",
    "  classifier=MultinomialNB(alpha=a)\n",
    "  classifier.fit(x_train,y_train)\n",
    "  pred = classifier.predict(x_test)\n",
    "  score = accuracy_score(y_test, pred)\n",
    "  if(score>pre_score):\n",
    "    mnb_tuned_classifier=classifier\n",
    "    pre_score=score\n",
    "    best_k=a\n",
    "\n",
    "mnb_tuned_classifier.fit(x_train,y_train)\n",
    "pred = mnb_tuned_classifier.predict(x_test)\n",
    "score = accuracy_score(y_test, pred)\n",
    "print(\"accuracy: %0.3f\" %score)\n",
    "print(\"best_k: %0.3f\" % best_k)\n",
    "print()\n",
    "print(\"accuracy_matrix\")\n",
    "report=confusion_matrix(y_test,pred)\n",
    "print(confusion_matrix(y_test,pred))\n",
    "print()\n",
    "print(f\"Classification Report : \\n\\n{classification_report(y_test, pred)}\")\n",
    "dict_models[\"Tuned_MultinomialNB\"]=mnb_tuned_classifier\n",
    "dict_accuracy[score]=\"Tuned_MultinomialNB\"\n",
    "\n",
    "dict_models_tfidf[\"Tuned_MultinomialNB\"]=mnb_tuned_classifier\n",
    "dict_accuracy_report_tfidf[\"Tuned_MultinomialNB\"]=report"
   ]
  },
  {
   "cell_type": "code",
   "execution_count": 41,
   "id": "2e2dcd39",
   "metadata": {},
   "outputs": [
    {
     "name": "stdout",
     "output_type": "stream",
     "text": [
      "              precision    recall  f1-score   support\n",
      "\n",
      "         NOT       0.89      0.99      0.94      5937\n",
      "         OFF       0.98      0.75      0.85      2933\n",
      "\n",
      "    accuracy                           0.91      8870\n",
      "   macro avg       0.93      0.87      0.89      8870\n",
      "weighted avg       0.92      0.91      0.91      8870\n",
      "\n"
     ]
    }
   ],
   "source": [
    "y_train_pred=mnb_tuned_classifier.predict(x_train)\n",
    "report = classification_report( y_train, y_train_pred )\n",
    "print(report)"
   ]
  },
  {
   "cell_type": "code",
   "execution_count": 42,
   "id": "6ahbh75zPfP7",
   "metadata": {
    "colab": {
     "base_uri": "https://localhost:8080/"
    },
    "id": "6ahbh75zPfP7",
    "outputId": "0004a2f1-ee4d-4bff-e9ec-e9a63a03602a",
    "scrolled": true
   },
   "outputs": [
    {
     "name": "stdout",
     "output_type": "stream",
     "text": [
      "Tuned Test Set Accuracy : 70.48054919908466 %\n",
      "\n",
      "\n",
      "\n",
      "accuracy_matrix\n",
      "[[2298  605]\n",
      " [ 685  782]]\n",
      "\n",
      "Classification Report : \n",
      "\n",
      "              precision    recall  f1-score   support\n",
      "\n",
      "         NOT       0.77      0.79      0.78      2903\n",
      "         OFF       0.56      0.53      0.55      1467\n",
      "\n",
      "    accuracy                           0.70      4370\n",
      "   macro avg       0.67      0.66      0.66      4370\n",
      "weighted avg       0.70      0.70      0.70      4370\n",
      "\n"
     ]
    }
   ],
   "source": [
    "model_pa = PassiveAggressiveClassifier(C = 0.6, random_state = 5)\n",
    "model_pa.fit(x_train, y_train)\n",
    "test_pred = model_pa.predict(x_test)\n",
    "score = accuracy_score(y_test, test_pred)\n",
    "print(f\"Tuned Test Set Accuracy : {accuracy_score(y_test, test_pred) * 100} %\\n\\n\")  \n",
    "print()\n",
    "print(\"accuracy_matrix\")\n",
    "print(confusion_matrix(y_test,test_pred))\n",
    "print()\n",
    "report=classification_report(y_test, test_pred)\n",
    "print(f\"Classification Report : \\n\\n{classification_report(y_test, test_pred)}\")\n",
    "dict_models[\"passive_aggresive\"]=model_pa\n",
    "dict_accuracy[score]=\"passive_aggresive\"\n",
    "\n",
    "dict_models_tfidf[\"passive_aggresive\"]=model_pa\n",
    "dict_accuracy_report_tfidf[\"passive_aggresive\"]=report"
   ]
  },
  {
   "cell_type": "code",
   "execution_count": 43,
   "id": "de42dbe9",
   "metadata": {},
   "outputs": [
    {
     "name": "stdout",
     "output_type": "stream",
     "text": [
      "              precision    recall  f1-score   support\n",
      "\n",
      "         NOT       0.99      1.00      1.00      5937\n",
      "         OFF       0.99      0.99      0.99      2933\n",
      "\n",
      "    accuracy                           0.99      8870\n",
      "   macro avg       0.99      0.99      0.99      8870\n",
      "weighted avg       0.99      0.99      0.99      8870\n",
      "\n"
     ]
    }
   ],
   "source": [
    "y_train_pred=model_pa.predict(x_train)\n",
    "report = classification_report( y_train, y_train_pred )\n",
    "print(report)"
   ]
  },
  {
   "cell_type": "code",
   "execution_count": 45,
   "id": "eMiafes-PjAj",
   "metadata": {
    "colab": {
     "base_uri": "https://localhost:8080/"
    },
    "id": "eMiafes-PjAj",
    "outputId": "84e37dce-2971-4069-e046-016c7f96057f",
    "scrolled": true
   },
   "outputs": [
    {
     "name": "stdout",
     "output_type": "stream",
     "text": [
      "Test Set Accuracy : 70.64073226544623 %\n",
      "\n",
      "\n",
      "\n",
      "accuracy_matrix\n",
      "[[2337  566]\n",
      " [ 717  750]]\n",
      "\n",
      "Classification Report : \n",
      "\n",
      "              precision    recall  f1-score   support\n",
      "\n",
      "         NOT       0.77      0.81      0.78      2903\n",
      "         OFF       0.57      0.51      0.54      1467\n",
      "\n",
      "    accuracy                           0.71      4370\n",
      "   macro avg       0.67      0.66      0.66      4370\n",
      "weighted avg       0.70      0.71      0.70      4370\n",
      "\n"
     ]
    }
   ],
   "source": [
    "#model-3\n",
    "#decission tree\n",
    "\n",
    "dt_classifier=DecisionTreeClassifier()\n",
    "dt_classifier.fit(x_train,y_train)\n",
    "test_pred = dt_classifier.predict(x_test)\n",
    "score=accuracy_score(y_test, test_pred)\n",
    "print(f\"Test Set Accuracy : {accuracy_score(y_test, test_pred) * 100} %\\n\\n\")\n",
    "print()\n",
    "print(\"accuracy_matrix\")\n",
    "print(confusion_matrix(y_test,test_pred))\n",
    "print()\n",
    "report=classification_report(y_test, test_pred)\n",
    "print(f\"Classification Report : \\n\\n{classification_report(y_test, test_pred)}\")\n",
    "  \n",
    "dict_models[\"DecisionTree\"]=dt_classifier\n",
    "dict_accuracy[score]=\"DecisionTree\"\n",
    "\n",
    "dict_models_tfidf[\"DecisionTree\"]=dt_classifier\n",
    "dict_accuracy_report_tfidf[\"DecisionTree\"]=report"
   ]
  },
  {
   "cell_type": "code",
   "execution_count": 46,
   "id": "11eb6e99",
   "metadata": {},
   "outputs": [
    {
     "name": "stdout",
     "output_type": "stream",
     "text": [
      "              precision    recall  f1-score   support\n",
      "\n",
      "         NOT       1.00      1.00      1.00      5937\n",
      "         OFF       1.00      0.99      1.00      2933\n",
      "\n",
      "    accuracy                           1.00      8870\n",
      "   macro avg       1.00      1.00      1.00      8870\n",
      "weighted avg       1.00      1.00      1.00      8870\n",
      "\n"
     ]
    }
   ],
   "source": [
    "y_train_pred=dt_classifier.predict(x_train)\n",
    "report = classification_report( y_train, y_train_pred )\n",
    "print(report)"
   ]
  },
  {
   "cell_type": "code",
   "execution_count": 47,
   "id": "yok7lzMPPuKF",
   "metadata": {
    "colab": {
     "base_uri": "https://localhost:8080/"
    },
    "id": "yok7lzMPPuKF",
    "outputId": "301c211b-1ac7-4999-f506-de93f95cc5ec"
   },
   "outputs": [
    {
     "name": "stdout",
     "output_type": "stream",
     "text": [
      "accuracy:   0.755\n",
      "\n",
      "accuracy_matrix\n",
      "[[2802  101]\n",
      " [ 971  496]]\n",
      "\n",
      "Classification Report : \n",
      "\n",
      "              precision    recall  f1-score   support\n",
      "\n",
      "         NOT       0.74      0.97      0.84      2903\n",
      "         OFF       0.83      0.34      0.48      1467\n",
      "\n",
      "    accuracy                           0.75      4370\n",
      "   macro avg       0.79      0.65      0.66      4370\n",
      "weighted avg       0.77      0.75      0.72      4370\n",
      "\n"
     ]
    }
   ],
   "source": [
    "clf_random= RandomForestClassifier()\n",
    "clf_random.fit(x_train, y_train)\n",
    "pred = clf_random.predict(x_test)\n",
    "score = accuracy_score(y_test, pred)\n",
    "print(\"accuracy:   %0.3f\" % score)\n",
    "print()\n",
    "print(\"accuracy_matrix\")\n",
    "print(confusion_matrix(y_test,pred))\n",
    "print()\n",
    "report=classification_report(y_test, pred)\n",
    "print(f\"Classification Report : \\n\\n{classification_report(y_test, pred)}\")\n",
    "\n",
    "dict_models[\"RandomForestClassifier\"]=clf_random\n",
    "dict_accuracy[score]=\"RandomForestClassifier\"\n",
    "\n",
    "dict_models_tfidf[\"RandomForestClassifier\"]=clf_random\n",
    "dict_accuracy_report_tfidf[\"RandomForestClassifier\"]=report"
   ]
  },
  {
   "cell_type": "code",
   "execution_count": 48,
   "id": "1c463f4f",
   "metadata": {},
   "outputs": [
    {
     "name": "stdout",
     "output_type": "stream",
     "text": [
      "              precision    recall  f1-score   support\n",
      "\n",
      "         NOT       1.00      1.00      1.00      5937\n",
      "         OFF       1.00      1.00      1.00      2933\n",
      "\n",
      "    accuracy                           1.00      8870\n",
      "   macro avg       1.00      1.00      1.00      8870\n",
      "weighted avg       1.00      1.00      1.00      8870\n",
      "\n"
     ]
    }
   ],
   "source": [
    "y_train_pred=clf_random.predict(x_train)\n",
    "report = classification_report( y_train, y_train_pred )\n",
    "print(report)"
   ]
  },
  {
   "cell_type": "code",
   "execution_count": 49,
   "id": "qIXKJulJLoXq",
   "metadata": {
    "id": "qIXKJulJLoXq"
   },
   "outputs": [],
   "source": [
    "# tfidf_vectorizer = TfidfVectorizer(ngram_range=(1, 2),max_df=0.75, min_df=5, max_features=10000)\n",
    "\n",
    "# # TF-IDF feature matrix\n",
    "# tfidf = tfidf_vectorizer.fit_transform(tweets )\n",
    "# tfidf"
   ]
  },
  {
   "cell_type": "code",
   "execution_count": 50,
   "id": "MhP2GQ2rPeu1",
   "metadata": {
    "colab": {
     "base_uri": "https://localhost:8080/"
    },
    "id": "MhP2GQ2rPeu1",
    "outputId": "0f7740b5-76ca-4f7a-9974-3b12bd0670d3"
   },
   "outputs": [
    {
     "data": {
      "text/plain": [
       "{'logictic_model': LogisticRegression(),\n",
       " 'MultinomialNB': MultinomialNB(),\n",
       " 'Tuned_MultinomialNB': MultinomialNB(alpha=0.2),\n",
       " 'passive_aggresive': PassiveAggressiveClassifier(C=0.6, random_state=5),\n",
       " 'DecisionTree': DecisionTreeClassifier(),\n",
       " 'RandomForestClassifier': RandomForestClassifier()}"
      ]
     },
     "execution_count": 50,
     "metadata": {},
     "output_type": "execute_result"
    }
   ],
   "source": [
    "dict_models_tfidf"
   ]
  },
  {
   "cell_type": "code",
   "execution_count": 51,
   "id": "A0S_MdcxMcAw",
   "metadata": {
    "colab": {
     "base_uri": "https://localhost:8080/"
    },
    "id": "A0S_MdcxMcAw",
    "outputId": "28210fab-a3f0-4db0-b5db-fde07991d31b"
   },
   "outputs": [
    {
     "data": {
      "text/plain": [
       "{'Logistic Regression': '              precision    recall  f1-score   support\\n\\n         NOT       0.74      0.96      0.84      2903\\n         OFF       0.80      0.35      0.48      1467\\n\\n    accuracy                           0.75      4370\\n   macro avg       0.77      0.65      0.66      4370\\nweighted avg       0.76      0.75      0.72      4370\\n',\n",
       " 'MultinomialNB': '              precision    recall  f1-score   support\\n\\n         NOT       0.69      0.99      0.81      2903\\n         OFF       0.86      0.10      0.19      1467\\n\\n    accuracy                           0.69      4370\\n   macro avg       0.78      0.55      0.50      4370\\nweighted avg       0.75      0.69      0.60      4370\\n',\n",
       " 'Tuned_MultinomialNB': array([[2703,  200],\n",
       "        [1025,  442]], dtype=int64),\n",
       " 'passive_aggresive': '              precision    recall  f1-score   support\\n\\n         NOT       0.77      0.79      0.78      2903\\n         OFF       0.56      0.53      0.55      1467\\n\\n    accuracy                           0.70      4370\\n   macro avg       0.67      0.66      0.66      4370\\nweighted avg       0.70      0.70      0.70      4370\\n',\n",
       " 'DecisionTree': '              precision    recall  f1-score   support\\n\\n         NOT       0.77      0.81      0.78      2903\\n         OFF       0.57      0.51      0.54      1467\\n\\n    accuracy                           0.71      4370\\n   macro avg       0.67      0.66      0.66      4370\\nweighted avg       0.70      0.71      0.70      4370\\n',\n",
       " 'RandomForestClassifier': '              precision    recall  f1-score   support\\n\\n         NOT       0.74      0.97      0.84      2903\\n         OFF       0.83      0.34      0.48      1467\\n\\n    accuracy                           0.75      4370\\n   macro avg       0.79      0.65      0.66      4370\\nweighted avg       0.77      0.75      0.72      4370\\n'}"
      ]
     },
     "execution_count": 51,
     "metadata": {},
     "output_type": "execute_result"
    }
   ],
   "source": [
    "dict_accuracy_report_tfidf"
   ]
  },
  {
   "cell_type": "code",
   "execution_count": 52,
   "id": "RECs-1Gk-jyl",
   "metadata": {
    "id": "RECs-1Gk-jyl"
   },
   "outputs": [],
   "source": [
    "num_models=len(dict_accuracy_report_tfidf)"
   ]
  },
  {
   "cell_type": "code",
   "execution_count": 53,
   "id": "Mp0ivq43-ycR",
   "metadata": {
    "id": "Mp0ivq43-ycR"
   },
   "outputs": [],
   "source": [
    "models_list=['logictic_model', 'MultinomialNB', 'Tuned_MultinomialNB', 'passive_aggresive', 'DecisionTree', 'RandomForestClassifier']\n",
    "models_list=['logictic_model', 'MultinomialNB', 'passive_aggresive', 'DecisionTree', 'RandomForestClassifier']"
   ]
  },
  {
   "cell_type": "code",
   "execution_count": 64,
   "id": "-CGNDxvZ_q2C",
   "metadata": {
    "id": "-CGNDxvZ_q2C"
   },
   "outputs": [],
   "source": [
    "dict_outputs={\"train\":{}, \"val\": {}}"
   ]
  },
  {
   "cell_type": "code",
   "execution_count": 65,
   "id": "u9HVViRO_jMi",
   "metadata": {
    "id": "u9HVViRO_jMi"
   },
   "outputs": [],
   "source": [
    "for model in models_list:\n",
    "    dict_outputs[\"val\"][model]=dict_models_tfidf[model].predict(x_test)\n",
    "    dict_outputs[\"train\"][model]=dict_models_tfidf[model].predict(x_train)"
   ]
  },
  {
   "cell_type": "code",
   "execution_count": 66,
   "id": "99cNjfiJFTPE",
   "metadata": {
    "colab": {
     "base_uri": "https://localhost:8080/"
    },
    "id": "99cNjfiJFTPE",
    "outputId": "d87c728c-74fd-421a-9ff3-7ba8ce58eb33"
   },
   "outputs": [
    {
     "data": {
      "text/plain": [
       "(4370,)"
      ]
     },
     "execution_count": 66,
     "metadata": {},
     "output_type": "execute_result"
    }
   ],
   "source": [
    "dict_outputs[\"val\"][\"logictic_model\"].shape"
   ]
  },
  {
   "cell_type": "code",
   "execution_count": 71,
   "id": "2CPdsvjJJMo4",
   "metadata": {
    "id": "2CPdsvjJJMo4"
   },
   "outputs": [],
   "source": [
    "list_train_preds=np.array(list(dict_outputs[\"train\"].values()))"
   ]
  },
  {
   "cell_type": "code",
   "execution_count": 68,
   "id": "iJRaDPZ9K_S1",
   "metadata": {
    "id": "iJRaDPZ9K_S1"
   },
   "outputs": [],
   "source": [
    "list_val_preds=np.array(list(dict_outputs[\"val\"].values()))"
   ]
  },
  {
   "cell_type": "code",
   "execution_count": 69,
   "id": "afyL3NXGJPsx",
   "metadata": {
    "id": "afyL3NXGJPsx"
   },
   "outputs": [],
   "source": [
    "def majority_prediction(list_predictions):\n",
    "  final_prediction=[]\n",
    "\n",
    "  for i in range(len(list_predictions[0])):\n",
    "    count_off=0\n",
    "    count_not=0\n",
    "\n",
    "    for j in range(len(list_predictions)):\n",
    "      if list_predictions[j][i]==\"OFF\":\n",
    "        count_off+=1\n",
    "      else:\n",
    "        count_not+=1\n",
    "    if count_off>count_not:\n",
    "      final_prediction.append(\"OFF\")\n",
    "    else:\n",
    "      final_prediction.append(\"NOT\")\n",
    "\n",
    "  return np.array(final_prediction)\n"
   ]
  },
  {
   "cell_type": "code",
   "execution_count": 72,
   "id": "D-7TqkrMKYJD",
   "metadata": {
    "id": "D-7TqkrMKYJD"
   },
   "outputs": [],
   "source": [
    "majority_val_prediction=majority_prediction(list_val_preds)\n",
    "majority_train_prediction=majority_prediction(list_train_preds)"
   ]
  },
  {
   "cell_type": "code",
   "execution_count": 73,
   "id": "yB7SmoHzLTj5",
   "metadata": {
    "colab": {
     "base_uri": "https://localhost:8080/"
    },
    "id": "yB7SmoHzLTj5",
    "outputId": "992469bc-104c-4c3f-f564-207eb1267a3a"
   },
   "outputs": [
    {
     "name": "stdout",
     "output_type": "stream",
     "text": [
      "(4370,)\n",
      "(8870,)\n"
     ]
    }
   ],
   "source": [
    "print(majority_val_prediction.shape)\n",
    "\n",
    "print(majority_train_prediction.shape)"
   ]
  },
  {
   "cell_type": "code",
   "execution_count": 74,
   "id": "UE-cNUtaLeJN",
   "metadata": {
    "colab": {
     "base_uri": "https://localhost:8080/"
    },
    "id": "UE-cNUtaLeJN",
    "outputId": "23ac2e59-c988-4533-ab10-e8ffc318b26f"
   },
   "outputs": [
    {
     "name": "stdout",
     "output_type": "stream",
     "text": [
      "              precision    recall  f1-score   support\n",
      "\n",
      "         NOT       0.74      0.96      0.84      2903\n",
      "         OFF       0.83      0.33      0.48      1467\n",
      "\n",
      "    accuracy                           0.75      4370\n",
      "   macro avg       0.78      0.65      0.66      4370\n",
      "weighted avg       0.77      0.75      0.72      4370\n",
      "\n"
     ]
    }
   ],
   "source": [
    "print(classification_report(y_test, majority_val_prediction))"
   ]
  },
  {
   "cell_type": "code",
   "execution_count": 76,
   "id": "31397b74",
   "metadata": {},
   "outputs": [
    {
     "name": "stdout",
     "output_type": "stream",
     "text": [
      "              precision    recall  f1-score   support\n",
      "\n",
      "         NOT       1.00      1.00      1.00      5937\n",
      "         OFF       1.00      0.99      0.99      2933\n",
      "\n",
      "    accuracy                           1.00      8870\n",
      "   macro avg       1.00      0.99      0.99      8870\n",
      "weighted avg       1.00      1.00      1.00      8870\n",
      "\n"
     ]
    }
   ],
   "source": [
    "print(classification_report(y_train, majority_train_prediction))"
   ]
  },
  {
   "cell_type": "code",
   "execution_count": 77,
   "id": "s7rQALAdQxw8",
   "metadata": {
    "id": "s7rQALAdQxw8"
   },
   "outputs": [],
   "source": [
    "sentiment_analyzer = VS()\n",
    "\n",
    "def sentiment_analysis(tweet):   \n",
    "    sentiment = sentiment_analyzer.polarity_scores(tweet)    \n",
    "    features = [sentiment['neg'], sentiment['pos'], sentiment['neu'], sentiment['compound']]\n",
    "    #features = pandas.DataFrame(features)\n",
    "    return features\n",
    "\n",
    "def sentiment_analysis_array(tweets):\n",
    "    features=[]\n",
    "    for t in tweets:\n",
    "        features.append(sentiment_analysis(t))\n",
    "    return np.array(features)"
   ]
  },
  {
   "cell_type": "code",
   "execution_count": 87,
   "id": "GnaPyxQXNX5s",
   "metadata": {
    "id": "GnaPyxQXNX5s"
   },
   "outputs": [],
   "source": [
    "X_train, X_val, y_train, y_val = train_test_split(trainset[\"tweet\"], trainset[\"label\"], test_size=0.33, random_state=42)\n",
    "X_train, X_val, y_train, y_val=list(X_train), list(X_val), list(y_train), list(y_val)"
   ]
  },
  {
   "cell_type": "code",
   "execution_count": 88,
   "id": "_OvhzD3hN4aR",
   "metadata": {
    "id": "_OvhzD3hN4aR"
   },
   "outputs": [
    {
     "data": {
      "text/plain": [
       "['i believe that serena would not cheat yet even her manager has admitted to breaking the rules this was not her finest hour first a temper tantrum then calling the umpire a thief that crossed the line she is the one that should apologize',\n",
       " 'is not  this bodyshaming  good to see the feminists and liberals have no issue with bodyshaming as long as it is directed towards a man',\n",
       " 'funny how he believes antifa is a thing but calls himself reality checks',\n",
       " 'sorry fella but connelly thought he was hollywood craigkardashian',\n",
       " 'aw what that is devastating  hope you are ok   i love you biter',\n",
       " 'because he is a liberal',\n",
       " 'swear niggas make me wanna turn this phone off',\n",
       " 'i did not know this  great job california   maga',\n",
       " 'star tv',\n",
       " 'of course you are  antiamerican and you wo not  leave  you will  stay here because as an antifa coward you can talk your nonsense with no fear of governmental reprisal  you have not  left yet and you never will',\n",
       " 'if they picked a more suitable song it would be great',\n",
       " 'it is the consensus of the republican party that sexually assaulting a yearold girl should not disqualify a judge from sitting on the highest court in the land and making lifeordeath decisions about women is health   maga',\n",
       " 'she is laughing the most',\n",
       " 'needs serious psychiatric help this guy is an anger management bi polar psych  case study',\n",
       " 'why do conservatives not understand grammar',\n",
       " 'liberals get the best of both worlds  a new slave class that will need their government programs and that will turn and vote for them  most importantly they get to feel good about themselves',\n",
       " 'democrats ask yourself is your party fighting for you or to keep their leader is power the party leaders only care about you as a vote not as a person conservatives elect people to represent us  and if they do not  we elect someone else walkaway  take note',\n",
       " 'there are more jobs available than people to fill them said by you never youfailed trump maga makeamericangreatagain opportunityknocks',\n",
       " 'i am upset you know why because i remember following you based on the content of your post i followed you around the  election you and many others lkke me were fighting for hillary against real sexism and stupidity all i asked was why do liberals attack other liberals',\n",
       " 'you are right free speech is one thing that makes this country great another is the very flag that is a symbol that gives us that right',\n",
       " 'hana and hina after school it is an lgbt love story and i got it for my best friend and read half and the next day went back to the comic con and bought myself the series',\n",
       " 'you are way off',\n",
       " 'access to healthcare improved infrastructure green jobs less pollution and poison in waterways civil rights gun control birth control  sounds like a pretty great plan to me',\n",
       " 'she is a goddess',\n",
       " 'i am  just saying he is not playing like how he should be for the amount he is getting paid i am  sorry to let you down',\n",
       " 'tweet is directed at him  i can care less about whatever it is he is blathering about',\n",
       " 'anyone surprised   closernation  maga qanon',\n",
       " 'maybe he can help the liberals with tds',\n",
       " 'lmao please show me the proof of all you state not what i said on cnn facts just the facts like i said funny all this pops up when all the other stunts did not  stop the vote if she is serious she can recall the house how she got there and all the important info not that it',\n",
       " 'oh you are in england  your views on gun control stopped mattering in',\n",
       " 'the rules today were put in place to prevent players acting like those bad boys of the past she is a professional she knew that her coach broke the rules he admitted as much saying others do not  or did not  get called is no defence she was only fighting to be above the law',\n",
       " 'absolutely we conservatives have another strong lady to lead our country',\n",
       " 'the interview is an important part of the hiring process and selling yourself may not come naturally let is make sure you are  fully prepared  tn',\n",
       " 'um no saying that labour is the party of hatred implies they are the most hateful party and therefore the conservatives are less hateful  whilst the claim about the tories can be disputed it is not whataboutery',\n",
       " 'paytoplay her gofundme is over k liberals are society is bottom feeders freakyford',\n",
       " 'but everyone arguing for gun control always points to australia and the eu for examples',\n",
       " 'you will not win texas does not  need a liberal everything liberals touch turns to crap',\n",
       " 'thank you',\n",
       " 'creating racial tension usa racial issues start before  these latest ones are fueled byamong othersnra and congress refusing to fully resource education and police training',\n",
       " 'ok g you are hired hot yoga fixed it feels good as new',\n",
       " 'as i am  watching it bentley kept looking at me  he being crate trained again so we good for now he only allowed out to eat pee and shit and occasionally play time',\n",
       " 'he is is always the victim',\n",
       " 'actually maga spends atleast   times a yr on  shoes libnuts just put the same pair in the dishwasher every  months',\n",
       " 'gupta you are a dreamer  years cannot be compared to a telephone call that lasted for  minutes i didnt want you to testify in the state capture inquiry you are moving according to our plan now remember  years of planning and calculating all the dots',\n",
       " 'this yall king maga',\n",
       " 'welcome back to parliament   federal liberals violated own fundraising rules cdnpoli ethics',\n",
       " 'and she is in the process of removing the status  heandshe newstatus comingsoon hplife',\n",
       " 'i love the way this pisses off liberals',\n",
       " 'that is a lot of guilt for tucker to take upon himself surely he is not the only on at fault',\n",
       " 'i am the antifa super soldier',\n",
       " 'i would not  say i am  conflicted  article  would be justified  but you are right in stating that the really important decision will be taken or postponed inside the  the sargentini report was but a prelude those who want orban out should now push harder',\n",
       " 'i guess he needs to learn gun control',\n",
       " 'gutierries  what did he do to help pr  what is he doing now besides hoping for a high body count to blame on trump',\n",
       " 'thank you',\n",
       " 'it is a red zone with no tds',\n",
       " 'you are betting on ityou just do not  have a choice',\n",
       " 'i still feel like we missed on him   we may never know   he is also a senior dp next year which does not  help   oh usl team where are you',\n",
       " 'happy belated birthday sexy man',\n",
       " 'what is your point you are so clearly ignorant about the nature of sexual assault',\n",
       " 'call up  about time he got a call up he is showing he can perform at a big level he might not be at a top  club but he can score give him a chance',\n",
       " 'bullshit i live in nh my daughter goes to school in cali she is considered a nonresident this is clearly a move to fraud the citizens of nh',\n",
       " 'after they guna spell it like frida',\n",
       " 'i do not  believe she is even getting death threats conservatives do not  roll that way plus her and her attorneys bankroll is soros',\n",
       " 'in this tweet is a whole lot of conservatives calling for a victims head on a fake account yall keep being awesome citizens s jfc most of you belong in jail if you act the same way irl lockthemup kavanope',\n",
       " 'you are lying again the public does not  trust you anymore',\n",
       " 'looks like he is urinating in the water',\n",
       " 'you are not dumb',\n",
       " 'blame trump that is sad to the good people of puerto rico',\n",
       " 'amen he is',\n",
       " 'tis funny you assume i am  left or a supporter of antifa even though i dislike nazis you are  still a ball washer though',\n",
       " 'another democrat scam  republicans do not  fund terrorist groups like antifa to threaten people  but go ahead make it look real',\n",
       " 'you are in my top  among the syndicate boss are  and  i am  sure the  of you are ready to retire happy knowing this lol been a fan since lgnandf we have all grown up',\n",
       " 'has a deal with samrat family i think to save him from the case we know how samrat is attract for girls teju and geetha now when complaint came he is taking care sad for her wife kaushalarmy biggbosstelugu',\n",
       " 'there she is nibbling in her lower lip and looking upwards at him     do not  leave me stevie         honestly she did not  know what to do without him',\n",
       " 'austin rogers yay  he is a favorite  so glad we will be seeing him again',\n",
       " 'i think he is on crack',\n",
       " 'it is so funny that she is scared of pigs this could be a plot for your next children is book',\n",
       " 'this is why i have so little time for liberals and democrats rather than allow democratic process they will deliberately attempt to subvert it to get what they want why should anyone believe the claims against kavanaugh in the face of this',\n",
       " 'now you are making fun of me',\n",
       " 'you are welcome to join us in our slack room for the community gardening',\n",
       " 'still you are very good but i am  down to play scared money do not  make money they say',\n",
       " 'the usa is not a democracy the usa is a constitutional republic  take a civics class',\n",
       " 'what the point the bbc are the propaganda machine of the  you all know the answer to brexit is disaster thats loud and clear by businesses and corporation but your just the mouth peace of the tories',\n",
       " 'you were on tv claiming to be a journalist when kagan was sitting there and still you have provided no examples of you berating her for using the ginsberg rule to evade giving her personal views on hot button cultural topics like gay marriage abortion or gun control why',\n",
       " 'ironic or worse that anti nd amendment legislators want an activist judiciary to verify gun control but same law makers are anti cos',\n",
       " 'why do not  we pray for better gun control laws first',\n",
       " 'you are my best player ever',\n",
       " 'libdemconf shows me that  are absolutely void of constructive ideas for the myriad problems the uk faces and begging  and  moderates is not  the answer thatcher was right the parrot is dead',\n",
       " 'and he is shuting up  do not  mess with yumi do not  ever mess with ms yuzuki',\n",
       " 'do you have the state rightcali and chicago are protected by many strict gun control laws',\n",
       " 'give it a rest rice eater maga',\n",
       " 'you look beautiful ashleyyr home away from home u look so comfortablehey  let is bring bridget home b w the rest of her familyandfriends as a regular on the showi am  a diehard fanandwant aj back on  screen where she is happiest bringbridgethome bringbridgetback aj',\n",
       " 'senseless  gun control now vote blue and end this american nightmare',\n",
       " 'unless you are  your knee will not be the same',\n",
       " 'you are my favorite person on earth just so you know if you are  ever hungry and want some food i bought a  count of bagel bites from steel yard walmart and i wo not  be able to eat them all by myself so please keep that in mind',\n",
       " 'i love your momma she is me',\n",
       " 'here she is',\n",
       " 'it would',\n",
       " 'no news orgs are giving faith goldy the time of day that is simply wrong she may not have the experience of the other two useless fools but she cares and she is no one is fool',\n",
       " 'wow  this is really showing your lower level of reviewing of before governments   this is what antifa does  promises antifascism but is lying to everyone by blaming capitalism as we now know it instead of the governments that have perverted it',\n",
       " 'croatian president is bikini photos worlds hottest president ever',\n",
       " 'you are way to good at this',\n",
       " 'she is really tall lol',\n",
       " 'diversity  success  lmao',\n",
       " 'i think i missed a few replies here im on a conference call but most of the anti jihadi muslim vets i know would disagree with gun control so this seems odd',\n",
       " 'lefty pope should also he is not worthy rep for true christian roman catholics he failed his flock',\n",
       " 'yeah we got everything sorted that needed to be sorted she is still only taking small sips of her wine unusual for emily but she guessed jj would not  profile her',\n",
       " 'but the judges decision was totally biased as he is a personal friend and university prof of torys',\n",
       " 'million buyout losers',\n",
       " 'we all had funloved watching eyes light up w excitement when he used their names as they asked questionsyeshe is talking to you',\n",
       " 'if kerry clown is actually doing it and admits he is and it is a crime throw his ass in jail he should be arrestedright',\n",
       " 'she is better than all this shit she is better than anything',\n",
       " 'and i am  sure she is for common sense gun control as long as she has gun toting bodyguards',\n",
       " 'this is what revenge lies like  kavanaugh maga',\n",
       " 'no reasoning with someone who can not  even grasp that common sense gun control does not equal a ban on guns  i am  a liberal gun owner',\n",
       " 'twitter or msn would not care if he did not  have millions of followers  and main stream wants full control of everyone is brain i am  sure i am  shadowed banned from saying this',\n",
       " 'anxiety fucking sucks',\n",
       " 'ask the black panthers whent well thrill milford act ask why the first gun control listed niggers could not touch guns under penalty of death also glad you can see that all the gun control has never been for reduction of violence it is about enforcing tyranny',\n",
       " 'but she is under  it is still considered as child porn no matter the legal age',\n",
       " 'he is pitiful  reason economy is soaring is that he is out of office and president trump is get rid of his pen and phone regulations  his legacy is being shattered and he knows it  his speeches are only about him  democrats have no message  vote republican in november',\n",
       " 'i agree with you catherine gun control laws is the main solution of this problem',\n",
       " 'this is a local fox station not the national fox news broadcast  if you would follow anyone outside your liberal bubble you would know the vast majority of conservatives are outraged by this too',\n",
       " 'good them',\n",
       " 'does not  myth mean something that is not  true  hmmmm  hollyweird liberals should stick to make believe world dummies',\n",
       " 'michael moore is a cheeseburger away from not making it to',\n",
       " 'depends on what you mean by gun control  because they are  it is called lobbying been around forever  neither does gun control  assault rifles are already banned',\n",
       " 'maybe because you have  provided a play form for hate groups with no criticism or criticismlite while bashing antifa with zero analysis',\n",
       " 'easy for the elites to escape the hell the country would be when leftest policies are in force take their private jets home beyond their golden secured walls',\n",
       " 'buckwheat in the s pretty sure he and eddie are not  promoting white supremeists maga',\n",
       " 'we could help if you are london based',\n",
       " 'hey i do not  actually really care about celebs i am   out of the loop with celeb news because i do not  have any interest in western celebs  if anything you should reevaluate how you view celebs since you are the one placing a personal vendetta against someone for something',\n",
       " 'the fact a liberal crosses the floor only indicates that the cpc is platform is more palatable to leftists than to true conservatives thanks god for maxime bernier',\n",
       " 'chills goat levels have rendered kal is basic human communication capabilities completely useless  this goes to show how powerful of a unit he is',\n",
       " 'video was worth it',\n",
       " 'really should look at the google stock value over the past  years and then lets see tears',\n",
       " 'announced that she is ready to represent the philippines in the  fashion show   entertainmentnews',\n",
       " 'what are you opposing a neutral jurist sitting scotus that weighs merits of a case as presented and determines cotus adherance metoowaronmen blmwaroncops antifawaronsociety abortionwar on poc and poor  liberalismisamentaldisorder maga',\n",
       " 'not one for anything to do with russian collusion which btw is not a crime most b they knew dt the ones who copped out only did so  save their ass i am  just curious why none of u self righteous ppl had a problem w all hrc and bo crimes lies spying etc hypocritical i would say',\n",
       " 'she is a pathological liar',\n",
       " 'still shoveling shit for trumpwhat kind of woman supports a liar racist  pussy grabberthat is what kind of woman you are',\n",
       " 'better take an extra antidepressant cher it is a done deal',\n",
       " 'more like what i am  missing lmao i am  just bitter about being ignored yet again and i am  ignoring her because that is what i am  like but it is so hard not to message her',\n",
       " 'here she is',\n",
       " 'people leaving racist comments on my posts will be instantly blocked there are low follow accounts posting this crap and i think they are trying to make maga look bad  if you are racist in any way feel free to block me because i think you are  an ignorant pos',\n",
       " 'he heightens the belief in slimfast',\n",
       " 'we can win the menendez seat for maga   there are  million registered independent republicans in nj and we outnumber establishment r is    only  million registered d is in nj   on november th in  nj r is for rino   this mid term in  nj true red is ir',\n",
       " 'yea it will be revealing what she is now put through as to why she did not  come forward',\n",
       " 'but do you speak up  trump and his family have become a punching bag for the left  and this is the best we have done in a very long time  i left the party after antifa jumped in also they almost elected hillary  hillary',\n",
       " 'but the liberals do',\n",
       " 'i agree those antifa nutjobs should be arrested before they start trouble again',\n",
       " 'i wonder which one is the democrat and which is the republican the dude is now totally for gun control',\n",
       " 'liberals drink their own koolaid they live in these bubbles and they think a lot of people like them  if they could see themselves how clownish they look and act',\n",
       " 'antifa is not  democrat blm is mostly peaceful',\n",
       " 'she is not friendly',\n",
       " 'i went to the live twice but i was impressed and it was really cool stageyou are my bestdjthank you hardwell',\n",
       " 'at this point it is like saying it is too soon to talk about gun control after a school shooting there is not  any too soon anymore with gun control or climate change at the rate that things are effecting us',\n",
       " 'presidenttrump was elected because we are so very tired of destructive dems we are  look for strong conservatives like treygowdy',\n",
       " 'you ladies always make me smileif you know what i mean',\n",
       " 'problem is your senator marco rubio is on the nra payroll he is taken over  million dollars from nra and is not  going to do anything about sensible gun control',\n",
       " 'crazy how funny jim used to be now it is funny how crazy he has become',\n",
       " 'yup she will destroy hard working ppl and small businesses she is evil with a pretty face and ppl are falling for it',\n",
       " 'i was actually thinking you were joining antifa',\n",
       " 'stopthebias  against conservative republican trump freespeech supporters coming against twitter ban to slow down liberals reporting us is to have a few million of us to report in big numbers to keep twitter so busy the the liberals complaining be losted in the traffic',\n",
       " 'the black helmets would have been hotter',\n",
       " 'an obvious last minute liberal ploy to delay confirmation more dirty tricks since the liberals lost the previous election',\n",
       " 'correction liberals deliberately distorting',\n",
       " 'trudeau is liberals have no rules  time to oust them',\n",
       " 'something went down she is hiding',\n",
       " 'she is a activist a women is me too movement whackadoodle',\n",
       " 'if he is gay oh well  he be havin mfs hot lol i like how he plays',\n",
       " 'curious could not  find this on your website  does not  fit your narrative does it  cowards',\n",
       " 'maga deep state video exposed',\n",
       " 'he lost his virginity this process has been turned into a clown show protestors democrats paid for was unethical there hate shows in everyway trump denounced natzi group  and bad on both sides which is true but democrats refuse to denounce antifa a democratic domestic terror',\n",
       " 'or go to a baseball game with a terrorist who was that liberals seem to be the most perfect people but suck at everything',\n",
       " 'donald trump has always been a dangerous animal to the defeated liberal left demonrat and communists like brennan',\n",
       " 'could this be another trol post designed to get antifa to get themselves in trouble',\n",
       " 'she lost because she got outplayed she is disgusting for her behavior',\n",
       " 'fuk this fat cock sucker',\n",
       " 'conservatives vote now fed up with stupidity',\n",
       " 'ask  she is there now',\n",
       " 'her last name says a lot mess',\n",
       " 'my sister by far she is the kindest sweetest person alive use to be my grandma but she passed in may that woman was a saint even had a song written about her my mom is a saint written by her children of course',\n",
       " 'hahahahahahasaid the idiot  who handed over billions to the iranians in what was likely the worst deal in the history of us foreign policy you are the poster child for someone not qualified to do a job',\n",
       " 'and i have concerns withdemocrats',\n",
       " 'you do know what the chant puto means do not  you fined three times means its not acceptable both are being bullies one was done by one player the other done by the culture of a country',\n",
       " 'why did the ndp and liberals not give doug ford a standing ovation  cause it was notworthstanding',\n",
       " 'fool',\n",
       " 'he is protecting america  shame on trump and gop',\n",
       " 'th amendment  comey and mulller with a  half roll of duct tape should be sufficient  just get the sorry sonofabitch away',\n",
       " 'she is adorable',\n",
       " 'a cute girl that i have  had a crush on since earlier this year just called me funny and i want to throw up',\n",
       " 'pulling out all the stops with no holds barred is the battle tacticstrategy of the usual secularprogressive democrat or msm archetype  before our countryconstitution is lost conservatives and republicans must say no more mrms nice person',\n",
       " 'this avi who you think you are',\n",
       " 'another russian mod  maga fail',\n",
       " 'thyats what happens when conservatives run the show they are more interested in not requiring regulations that could prevent these things than in doing whats right for the community short term profits are their be all and end all',\n",
       " 'you probably need more gun control   and more government and more taxes   less is more',\n",
       " 'hi guy fieri i like cool person you are down to earth i love your shows i love your red car i love classic cars',\n",
       " 'theresamay videos in an effing scarf causing vomiting to anyone with a brain   is likely because all the whiteprivilege people she is made homeless been replaced with muslims who will vote corbyn  maga mbga mcga mega conservatives patriots',\n",
       " 'one really horrible incident i could show you hundreds of antifa but they did not  kill anybody yet',\n",
       " 'she is a democrat',\n",
       " 'more white boys standing up for you every day ms   i think the poster adds speshul emphasis do not  you  maga wwgwga',\n",
       " 'that is the plan for next summer actually we need it for shade and i was thinking that could be a fun side project',\n",
       " 'thanks colleen means a lot to meshe is doing good about  hours away from louisville kentucky',\n",
       " 'she is dirty like trumpshe stole ted cruz campaign voters list and gave it to trump',\n",
       " 'because you could not even begin to respond since you can not  speak in full sentences and your words are so limited',\n",
       " 'also not correct but the some of the safest us cities does not have strict gun control laws sidenote you can not believe one word that michael moore preaches in any of his documentaries this video is a bit of an eyeopener',\n",
       " 'i have irresponsible sex but i at least know my partners  benefits or being snipped',\n",
       " 'she is one of those kooky liberals',\n",
       " 'cruz needs to add antifa to this proposed act that way we literally kill birdsofafeather with one stone',\n",
       " 'he is right',\n",
       " 'and honestly it is ridiculous you are grocery shopping there is no need to be like that',\n",
       " 'the lies i keep hearing everyday sigh inhales im tired of you putting yourself down and if ppl dont see how beautiful my bestfriend is then its their problem you are beautiful ive seen it so its my place to tell you you are beautiful and i accept nothing less if not more',\n",
       " 'liberals be like',\n",
       " 'jonah hill ratted your sorry ass out wdym',\n",
       " 'if someone is being too nice to you at happy hour and asking probing questions about what you do at pub citizenmake sure to troll them and say you are  with antifa or something',\n",
       " 'they did have a trial just a separation over  kids without their parents and lowlifes like you are thrilled about it',\n",
       " 'dear pope francis shame',\n",
       " 'looks like gun control',\n",
       " 'the hollywood elites make fun of republicans conservatives christians jesus and excrackheads that is very funny considering they consist of democrats liberals atheists satanists and current crackheads and do not  forget the adulterers pedophiles and abusers of woman',\n",
       " 'the ironic thing is you are more closely aligned with the far right they are even agreeing with you look down the thread some asshole just posted a thing about iq in your defense fuck off with that shit',\n",
       " 'i saw that this morningi hope she is doing ok bless her heart thank you',\n",
       " 'i trust him a lot more than the armchair quarterbacks on twitter  he makes mistakes because he is human  but he is one of the five best managers in the game today',\n",
       " 'you are the most talented person i have ever met in my life please stay healthy and do not get sick  you are an extraordinary being that shines with its own light            i love you so much baby',\n",
       " 'i think you are so in need of a dairy queen',\n",
       " 'holy crap i did not  realize it was this bad thanks for posting this',\n",
       " 'he is awesome so personable and i know these people so appreciate him being there maga',\n",
       " 'kind of like what trump does all the time huh',\n",
       " 'blaming trump for the hurricane is showing his ignorance and hateif only he were to give his salary to their recovery maybe then he can help',\n",
       " 'liar see clarence thomas confirmation this was never about the lieit was always a delay tacticnothing moredisgusting liberals and the game they call politics',\n",
       " 'oh so now you are comparing a government law enforcement agency which is subject to constitutional laws to a private corporation yeah that makes sense wait no it does not stop talking you are a complete imbecile',\n",
       " 'if you do not  think everybody wants to be rich sadly you are lying to yourself pretending otherwise is simply an excuse to settle nothing wrong with settling but to dismiss those who want more for themselves as greedy is disingenuous',\n",
       " 'is no champion for women',\n",
       " 'another terrorist attack not reported by msm',\n",
       " 'that is different because it is a panel show i am  talking about paul golding actually being a news anchor we would end up with a british tucker carlson',\n",
       " 'the trump alert system in action trump trump maga',\n",
       " 'theferalleft liberals continue to infiltrate indoctrinate kid shows do not  hire these mentally ill hemorrhoids',\n",
       " 'there are not  many instances i have  been in where you can just admire the woman is physique if i spend too long looking at a woman is bits it all comes into question porn allows an up close personal experience for as long as i like with no challenges except of course getting caught',\n",
       " 'antifa has no place in society',\n",
       " 'antifa fails',\n",
       " 'lmaoo glad you know you are one of the people i was meaning',\n",
       " 'you are trippin stop jumping to conclusions',\n",
       " 'antifa does not  beat facsists to try to get them to change their mind  they know it is a lost cause to try to change a fascist is mind they do it to scare them into hiding to demoralize them and to stop the spread of their hateful ideology there is no forcing views on others',\n",
       " 'i had no idea all republicans were nazi racists till trump got elected imagine my surprise i am  native american so i took it hard finding out i was a racist was despondent went around punching out antifa to work through my depression',\n",
       " 'bruh ita gonna be ok  you will have to go it without your parents being there  which can be hella scary but you are more ready than you think  its gonna be more fun than you could bet',\n",
       " 'please shut up ontario is seeing what conservatives stand for  is not helping you loose this province your never going anywhere not they you will any way your completely out of tune with canadian mr harper oops i mean mr scheer common mistake you so much alike',\n",
       " 'numerous jewish groups have come out and denounced the misuse of as as a tool to smear and bludgeon corbyn you are welcome to google this not all jews agree with you',\n",
       " 'wakeupamerica americafirst maga trump kag redwaverising votered txsen voteredtosaveamerica keeptexasred tedcruz buildthewall voterid confirmkavanaugh  walkawaycampaign  walkaway from liberalhate liberalintolerance and socialistlies vetobeto',\n",
       " 'liberals will be complaining that his presence hurts recovery in',\n",
       " 'silly unhinged liberals',\n",
       " 'thought i would share a boob picture too',\n",
       " 'cause she is not a democrat',\n",
       " 'steven wilson is coming back to ny in december i can not  wait he is one favorite live performers hope all is well',\n",
       " 'yes melania is wearing her i do not  give a st jacket and donald chump is wearing his go fk yourself jacket just like always he said that god trump is in da house and he is above the law we did a marvelous job in pr many went without electricity for  months but it is cool',\n",
       " 'lmfao antifa cry babies give them their pacifiers back',\n",
       " 'conservatives are opposing liberals and canada',\n",
       " 'what is this shit right over here i also showed to my polish friends and they are quite triggered',\n",
       " 'i teach my grown sons theres winners and loserssee serena temper tantrums she is a democratlol',\n",
       " 'love you norm',\n",
       " 'he is no pope',\n",
       " 'and thank god he did win there is more money in american workers pocket more jobs available tax breaks for the middle class we are in an industrial boom where i live  new neighborhoods and schools being built just to handle the people coming in to fill these jobs',\n",
       " 'agree',\n",
       " 'maga make alcatraz great again',\n",
       " 'revkin spreading important news andy sees himself as an intellectual  this is what us real liberals r stuck with from public figures then the faux liberalslike andywonder why we real liberals dont care anymore',\n",
       " 'lowemissions bus transport conservatives pm announces m funding for lowemission vehicles',\n",
       " 'that is it throw race into it again did you forget what happened to all the white women who accused bill clinton of sexual allegations the liberal democrats rallied around him liberals are the most disgusting disgraceful human beings that god created',\n",
       " 'what the hell are you talking about the only threats are coming from gun control nuts made against her kids',\n",
       " 'this pope is pure satanic god will strip him down to nothing and cast him to hells fire for his crimes',\n",
       " 'says the man who stands against sensible gun control hypocrite',\n",
       " 'democratic always use race to divide americans   conservatives done see color   the democrats only see color  discussing',\n",
       " 'well that is going to send the fake makers of main stream media and the left liberals and the powers behind them nuclear amazingly powerful world changing moment in humanitys history qanon it is everything we have  been told to expect wwgwga maga mbga',\n",
       " 'thank you sir i am a re developer in boston the market is on fire  god bless and we are all behind you maga',\n",
       " 'yes if you get it for me',\n",
       " 'holy shit which sears',\n",
       " 'omg i am so sorry u have to go through that but once she is out it would be worth it i love u austin and ell and lets not forget about the new baby you guys are such good people so keep doing what you do best and keep inspiring me and the other ace family members i love u guys',\n",
       " 'no one believes schumer dems do not  and nod with a wink happy to obstruct with lies swampers same thing and actual conservatives know it is an actual lie and pray for the liars to receive god is wrath   how sad that truth and justice are dead',\n",
       " 'ai not  missing shit',\n",
       " 'this is not the first time she has expressed this dismissive attitude toward public outcry against her votes those people will be a factor when they vote her ass out of office in  years i think she is toast',\n",
       " 'probably indoctrinating maga',\n",
       " 'except he is his administration has allowed crime in the city to skyrocket you bloody leftist snake',\n",
       " 'antifa came out of the old german communist party  just history that is why they wear masks',\n",
       " 'he is lying',\n",
       " 'i was think she jisoo but i am  focused i found she is taeyoun',\n",
       " 'she is so gross an obvious hack',\n",
       " 'beharare not  you jewish  do you really not knowthat you are supporting and siding with nazis  the dems have been running hitler is playbook for years  why do new york jews side with nazis  you speak against israel why  are you pandering in case they do take over why',\n",
       " 'deep state coup not working',\n",
       " 'what was an abuse of power was all the crap you and the hussein gang pulled off  your big contribution was the fast and furious caper to bring in gun control in strict contravention of the nd amendment  but do not  worry  justice is coming for you and barry is band of outlaws',\n",
       " 'patriachy has harmed black men if anything antifa is just a social justice trash hotspot',\n",
       " 'so you agree that wecht should be impeached yea you and your socialist antifa buddies decided to call mr dush is office and abuse his staff and threaten others that cosponsored impeachment law enforcement had to get involved',\n",
       " 'if i ever met this woman i can guarantee you i would want to just slap the shit out of her  she is a total disgrace   dumber than a box of rocks',\n",
       " 'the liberals backed by the ndp corrupted ontario is taxpayers with hedgefunders in ontario and the usa this is just the beginning of a process to expose these crimes and more is on the way',\n",
       " 'then you must condemn antifa and blm who spew hate and fear toward the police',\n",
       " 'analysis  devin nunes explains antifa and all of these riots because we are  winning',\n",
       " 'dangerous obnoxious garbagegood luck doctor',\n",
       " 'damn then i will  drink and fight right next to him ooh rah its party time and antifa are the pinatas',\n",
       " 'freaking casual fans say you are their favorite',\n",
       " 'dam girl you have awesome boobs i bet you are a very sexy milf',\n",
       " 'not here    maga  wwgwga',\n",
       " 'and he is signing briefs on behalf of special counsel mueller',\n",
       " 'i am and i am  voting absentee for the first time in a midterm maga',\n",
       " 'this is ridiculousunbelievable  so this fine young man is now dead because of a stupid reason  come on  gun control is the solution yall so many innocent people got killed because of guns this has to stop',\n",
       " 'creepy old pedo desperately trying to be relevant just an old guy from the old world which trump has shattered',\n",
       " 'it would make sense for her to be a big character in  but if she stays the way she is i really hope not lol she was making me cringe most of the movie',\n",
       " 'picked up some fire og today it is really good but it is ugly as fuck i almost passed on it but he smoked a j with me and it is fuckin fire wish we could share a bowl my brother',\n",
       " 'maga patriots we need you',\n",
       " 'remind me again why exactly there is a lingerie store next to a krav maga dojo',\n",
       " 'liberals got to crap all over everything',\n",
       " 'they can not  talk about what trump is doing because he is doing everything that he promised  the economy is better than ever if the congress will do their job and get rid of the crooks at the fbi doj and cia and appoint a special prosecuter and start arresting and prosecuting',\n",
       " 'i can not  watch cnn anymore because the conservative pundits they have on are just partisan hacks  i get cnn wants balance but the conservatives that defend the indefensible are too much',\n",
       " 'why do affluent liberals like cooper who claim to support diversity usually live in areas without much diversity',\n",
       " 'these liberals are responsible for the deterioration of american society they should be ashamed but we all know they are  not',\n",
       " 'causality is it   chicago lawmakers instituted strict guncontrol because of high preexisting crime rate  crime rate is high because strict gun control prevents law abiding citizens to be armed  so only scofflaws have guns  no causality at all statistics are cohort',\n",
       " 'please add me thank you   maga',\n",
       " 'the law and order president really hates law enforcement lol maga',\n",
       " 'you should take this picture down you destroyed one of my all time favorite comedianactors',\n",
       " 'she is hot',\n",
       " 'when liberalsdemocrats punish and slander people for simply being honest and truthful that is when you know its time to walkaway and vote republican',\n",
       " 'as we now know there were scandals  they were covered up very well  that is coming to end  slowly but surely',\n",
       " 'niggas say anything',\n",
       " 'you are most welcome',\n",
       " 'good to see your hosting of the emmys bombed seems only liberals like no humor you wo not  be asked back career killer you were da rating tanking bomb now go celebrate with your liberal pals',\n",
       " 'see she is speechless',\n",
       " 'god is chosen leader my ass  fuck christian conservatives baptist pastor brian kaylor claims sarah huckabee sanders lies to defend god is chosen leader',\n",
       " 'does that mean he still our superman  pleaseeeeee say he is',\n",
       " 'he should tell that to big bubba when he enters his prison cell',\n",
       " 'bitchhhhhh i am  jelllll',\n",
       " 'he is the unindicted coconspirator aka individual',\n",
       " 'it was strapped to the back of russells jeep as part of the troll stroll video that had tinys profile banned for thirty days because they drove around neighborhoods they believed antifa lived while making violent threats and screaming we are  triggering folks today',\n",
       " 'and we have the right nottowatch',\n",
       " 'bull',\n",
       " 'no longer believe a single word that the despicable woman  utters  a liability to our nation and',\n",
       " 'can you give me a better term than cultist for someone who will change their view on gun control to defend bernie rather just admit that his record his awful',\n",
       " 'i remember when conservatives slagged off the labour party as undemocratic for allowing unons such a big say in labour policies',\n",
       " 'and  come save america just like the superheroes you are',\n",
       " 'liberals wasting our taxpayer money on this bs',\n",
       " 'very fair points however the facts still remain  mr ramos did his job as every refereeumpire does in any sport he did not deserve to be called a thief  serena as great as she is let her emotions get the better of her and embarrassed herself ms osaka and the game',\n",
       " 'no ingles',\n",
       " 'even if the devil did make every single one of those priests rape children why does the pope refuse to condemn it why did not  he remove from leadership the rapist brought to him',\n",
       " 'fuck russ',\n",
       " 'you are very right so here comes the question what is the use of the fame when your localities struggles for survival',\n",
       " 'can we all agree that tomlins seat is heating up i am  tired of hearing hes safe over his regular season record he is wasting championship opportunities and the shenanigans are getting old',\n",
       " 'won this round yucker always interrupts his guests and it did not  work this time he is so rude michaelavenatti',\n",
       " 'you mean like the democrats do to push their gun control agenda',\n",
       " 'i love donald trump our president of the usamaga',\n",
       " 'good shit',\n",
       " 'stop giving this family air time it is exactly how trump is where he is',\n",
       " 'you are out of you damn mind feinstinkle had this band then leaked it she took a lie detector test and hired a lawyer last month she is accusing a judge of a crime that is  years old with no proof ruining a mans life over an accusation with no proof you stfu',\n",
       " 'liberals believe in the constitution   it is just ultra leftists that do not',\n",
       " 'years old and wandering the streets of new york city the big apple from hell and beyond and still she is subject to the n word and still other models call her n person of the year and yet she cares but she is more afraid of u know who',\n",
       " 'so what did the big o accomplish on gun control in his  year disaster',\n",
       " 'consider this source   is a supreme ass kissing douche bag',\n",
       " 'lol   throwing the bullshit flag on such nonsense  putuporshutup   kavanaugh   maga   callthevotealready',\n",
       " 'this stupid game you are  playing is not going to work and kavanaugh will be confirmed  confirmkavanaughnow maga trumpstrong americafirst draintheswamp voterepublican trumpstrong winning',\n",
       " 'you are going to become of kod just like the famous',\n",
       " 'at least he is trying he is not busy tweeting hate tweets like u n your buddy aka bishop jonso',\n",
       " 'protecckaiser he is a fucking sweetheart and deserves the world godamn it',\n",
       " 'is it being awarded by the onion',\n",
       " 'god he is terrible',\n",
       " 'he should be in potters field by now',\n",
       " 'no phones allowed',\n",
       " 'that dude whoever he is aged out a long time ago do better utah',\n",
       " 'he is rushing to catch up to drumpf',\n",
       " 'fake news he is a liberal dem',\n",
       " 'seriously do you really believe your own crap why do not  you just move on if she is so offensive this ugly side to you is very unbecoming',\n",
       " 'another dumbass democrat one thing you have to say about this president is he is not lazy another bullshit story as usual',\n",
       " 'just like the gun control poster child david hogge you do not  hear from him anymore one and done',\n",
       " 'risking his own ass lol',\n",
       " 'good luck   maga votered',\n",
       " 'exactly ford is just a damn pawn for the babyadults of america  aka democrats sheisaliar  i  that conservatives will control the highest court for  years',\n",
       " 'guncontrolnow is running a hit piece on the cmp  the cmp teaches gun safety to young people promotes responsible gun ownership and does not  sell any of the socalled assault weapons banners are targeting  are we clear on what gun control is',\n",
       " 'hey  the only men not doing the right thing are liberals and democrats      rapists abusers and criminals  so you can kiss my white a',\n",
       " 'fukin years  she waited no words frm u  then you pop in  she hugs u like a tree greets early light   loves u like deep blue love its beating waves  thereupon  pour u a drink   as you spill red   she looks  up in the clouds sad  like she is still  waiting  u bardbits',\n",
       " 'if the ndp were to get  then  would win because the gains by both the ndp and pcs are directly from the liberals however i doubt the ndp get over  i had ches at the start but he performed really bad in the debates but then again there is a lot of s about',\n",
       " 'yrs connected on facebook kathy you are soooo lucky  not really i am blessed to have you as a friend',\n",
       " 'he truly is projecting prior to coming on this thread it does not  seem he had any interactions on twitter just a lonely boy trolling conservatives',\n",
       " 'certainly a weird view toward the margaret sanger geonicidal philosophy of aborting minorities  i would like to know if the black population that suffers the most shares her opinion',\n",
       " 'sad that you are trying to pawn off another rich rightwing type in an age of increasing wealth disparity a price gouging pharma executive at that after trump tried to gut healthcare with no real replace in that repeal and replace it is a slap in the face',\n",
       " 'hooray',\n",
       " 'and your gun control has failed to reduce homicides  your homicide rate has not dropped after all of those gun laws  it has however rose  enjoy bending a knee to the people who do not  really give a shit about you though',\n",
       " 'by being a spoiled entitled ghetto head that really screams feminist',\n",
       " 'tories labour ge conservatives conservatives  longterm approach has a number of advantages including the ability to work with our supply chain and landowners to build more homes   paul hackett chief executive',\n",
       " 'not strict enough so in your world of stricter gun control shall the military go door to door siezing firearms from thos not willing to give them up',\n",
       " 'thursdaythoughts  will  ever admit all the other ways that twitter censor conservatives  seems highly unlikely  it is very annoying to have my main feed limited with a stupid black bird ordering me to return to the top  it wont even let me go back to this morning',\n",
       " 'thank you  yes he is so sick',\n",
       " 'holy shit get a lawyer false advertisement colon in not a football player he is a vag head',\n",
       " 'so what is your point are you saying that uk gun control is not  protecting our children because something might happen one day therefore we should adopt a us style gun culture',\n",
       " 'i am  gunna fucking die oh my god',\n",
       " 'she is disgusting for doing this',\n",
       " 'qual',\n",
       " 'you are so sweet and adorable oppa',\n",
       " 'standupbrexit      the results at the ballot box were very clear  the prime minister is not listening to the electorate or getting the best deal for britain',\n",
       " 'it is like that mother with the spoiled rotten bad as heck kid she still loves that brat and when bad things happen to him because he is a brat and deserves itshe still sympathizes with her child norm should realize when your livelihood depends on',\n",
       " 'henry is so fucking great and was def my sickkidsinlove inspo and i love him and his death is a problem',\n",
       " 'this is a premeditated attack by democratic liberals and she is being rehearsed enough of the scam show vote kavanaugh to sc',\n",
       " 'this what is the matter with hollywood and liberals',\n",
       " 'he didnt say that when he raped his daughters friend  years old and not too long after she committed suicide',\n",
       " 'this message is also going to get antifa members killed  if the open carry nuts feel someone is trying to kill them by taking their gun they will defend themselves  and will probably not face jail whereas someone actively stealing a gun will',\n",
       " 'i refuse to acknowledge the scampi nik nak nice and spicy obscures it through sheer brilliantness',\n",
       " 'i accept your apology and you are excused',\n",
       " 'actually nvm dc animated films are the shit',\n",
       " 'i hear the words well but i have no faith  as far as i know she is a cofounder of a rightwing islamic youth association whose policy can certainly be regarded as a forerunner of islamicextremism  dear mr grenell  let us hope that you are right in your assessment',\n",
       " 'join our slack',\n",
       " 'that is how liberals interoperate the law one more reason to make sure we flood the courts with conservative judges',\n",
       " 'replaces chickens with gun control',\n",
       " 'but to go all antifa on ppl like friggen milo i do not  buy that conservatives who like medicare don blackout and then going millennials for antifa protests',\n",
       " 'trump is maga hee haw',\n",
       " 'i think you mean  alan',\n",
       " 'its legal in india and if you adult women only you have to sign it you do not  need the other person signature why this rabble rousing in india take it to vatican and ireland etc  take it where it is  banned church preachers not to do abortion even if you are raped',\n",
       " 'it to t dd',\n",
       " 'course in treachery',\n",
       " 'was not  this clown running guns',\n",
       " 'maybe he is just light in his loafers',\n",
       " 'the  is an increasingly leftist newspaper which might explain the use of weaponised language such as white supremacist to refer to moderate conservatives',\n",
       " 'grape',\n",
       " 'are you aware that hillary clinton said she was going to use nuclear weapons against russia that was after she sold the  of our weapons fuel she is a complete idiot',\n",
       " 'car and truck ramming attacks in europe and america is gun control lobby',\n",
       " 'great group i follow all except the top two because they do not  follow back retweeted',\n",
       " 'no we do not  there has been videos of trump supporters blocking kkk and sending them away we do not  accept racism he said there are fine people on both sides that includes antifa but go ahead and pick and choose your information',\n",
       " 'they are doasisaynotasido conservatives',\n",
       " 'i watch obama for as long as i can stomach him just for the laughs lol he approves himself to be even more of a narcissist every day he is so full of himself aka full of shit hanghim',\n",
       " 'you guys conservatives are too nice they would destroy you',\n",
       " 'the definition of snowflake',\n",
       " 'not smearing canadian conservatives reread my first tweet and tell me again that i am  wrong',\n",
       " 'rotten character or what we call in spanish mal character',\n",
       " 'neither do conservatives with may at the helm',\n",
       " 'yeah she is and oh i am  working that day but we will plan it',\n",
       " 'she is almost',\n",
       " 'but look how cranky she is',\n",
       " 'kkk and gun control are traditions of    dems started the kkk because they hated blacks  then they started gun control to stop the  from arming the klan is victims  a gunsense is gun ownership whateverittakes to inform liberals of the truth',\n",
       " 'she is going to support trump  raise to replace  it is coming anyway she is angry because her oral tapdance substantive betrayal shtick no longer is working',\n",
       " 'people who floor cross are opportunistic aholes that deserve all the backlash they are getting  she should have sat as an independent then joined the conservatives and ran for her spot against other conservative candidates  just think how you would feel if you won that role',\n",
       " 'none of these issues are a real problems or b handled better by conservatives happy to support trudeau for a second term trans mountain pipe and nafta will get done  properly saudi spat yay you would not  know prosperity if you fell into a pile of s',\n",
       " 'this is incredible  she is being demeaned because she stood up for herself i hope she knows she has many who support her and stand with her  she is an example for other women',\n",
       " 'the only reason they call them common sense is because they do not  know what they want and are just hopping on the bandwagon maga adefenders trumptime',\n",
       " 'jameis winston he is no longer in college whereas jimbo fisher and his school protected this sexual predatorhe needs to sit in prisonhe is getting off easy because she did not  filed sex charges against him',\n",
       " 'either she is misinformed or has no shame i am  going with she has no shame',\n",
       " 'there were no good people on the side of white supremacy the good people on both sides that donald trump referenced were those who the media purposefully ignored who were there on both sides of the removal of historical monuments that had nothing to do with kkk or antifa',\n",
       " 'bet ford is a part of antifa and the berkeley gang',\n",
       " 'i would still take this guy over a commie or antifa',\n",
       " 'yesyou are exempted',\n",
       " 'you are very generous',\n",
       " 'we will  be there opening night',\n",
       " 'your so correct liberals r so easy to figure out make america great again  get rid of all liberal woman',\n",
       " 'yes he is an excellent chairperson',\n",
       " 'did someone say meth course',\n",
       " 'privat just means between b xvi and the cardinal agree though he should not be out and about should be in seclusion for the prayer nd meditation and only private mass nuncio was making molehill into mountain for the old guard of conservatives to oust francis',\n",
       " 'suddenly thought of somethingu mention in  of ur video that they do not  know where lay ishe is captured by rfthen lay has to comebackappear then only kai can bring him back to the islandlatest video said he might be in another parallel worldwhat if',\n",
       " 'hey samsung on your website you declined me  times for credit i can afford your phone without your ass this is my second one maybe next time even though i hate iphone i will  buy iphone so screw you',\n",
       " 'and by liberals you mean conservatives',\n",
       " 'he is such a jerkoff what about what the did to sarah sanders and all the other women in trump is cabinet including pam bondi ect oh yeah they do not  count because there not democrats or liberals hesanidiot',\n",
       " 'she is a liar like hilary clinton',\n",
       " 'boycotting the national fools league',\n",
       " 'i have you and kaze i need more',\n",
       " 'according to a student that spoke under condition of anonymity the furniture in johnson hall has been replaced by even shittier couches seuday',\n",
       " 'you have a lot to atone for you better atone for all your lies i used to think you were a better person i can not  see anything but evil',\n",
       " 'a candidate for governor that is friends with an individual that supports antifa trump maga syria israel alternativefacts walkaway walkawayfromdemocrats liberalismisamentaldisease news kavanaugh sugardaddyneeded for democratic socialiststaxpayers working families',\n",
       " 'here is a pic  then  now not so much plus nike then  now not so much',\n",
       " 'when you have politicians running on concepts like sanctuary cities what do you expect they should all be sued for aiding and abetting',\n",
       " 'gun control means using both hands and in this case means acquiring the correct target you can not  fix stupid',\n",
       " 'and we do not  need levi jeans who just jumped on the gun control band wagon',\n",
       " 'but what makes you think they are liberals  there is nothing liberal about any of that  these people spent the  is insulting liberals publicly humiliating black activists and openly attacking the new deal  where is the liberal part  they passed gop policies',\n",
       " 'she is',\n",
       " 'only if the selfserving  do not  stand and reject mrs may is de facto remain surrender  now begone with that insurgent hashtag',\n",
       " 'lol these are exciting times god he is the worst',\n",
       " 'i miss you bitch',\n",
       " 'it would not  surprise me a bit just like they falsely call conservatives fascists and justify physically attacking them trump is a nazi kill him it is just a matter of time before they suggest it',\n",
       " 'in our house this is known as the sadim touch  the reverse midas when everything turns to ratshit',\n",
       " 'how about he start some get informed classes for his uninformed players',\n",
       " 'nobody voices opinions in this country louder than conservatives so idk what the fuck he is on about',\n",
       " 'a shooting happens in a country with gun control laws for the first time in literally decades  yall but the gun laws should have  prevented this unga bunga this is why gun control sucks bet you dummies wish you had guns  meanwhile another school shooting happens in america',\n",
       " 'realitycheck for cpc conservatives  from ninja warriorheathermallick  opinion  cpc beware  meet maxime bernier is new hardright pp  via',\n",
       " 'they probably shutdown the  website because of the death threats if she votes yes she will  most likely get lots of support from maga voters',\n",
       " 'bono mocks nationalists during his concert in the last free part of paris',\n",
       " 'google stock wayyy up whats so bad with your trump world google',\n",
       " 'and until now my granny is still kinda mean at times she is a very nice person tbh but a bit mean ummm maybe thats how she is',\n",
       " 'am eye see kay he why am oh you ass he',\n",
       " 'where did i say he is unplayable that was the other guy but vs houston on the switches in a potential first round series sheesh it would not  be nice',\n",
       " 'why do conservatives always cowtow to liberal narratives when are conservatives going to begin standing up boastfully and put the liberals down get over this we are  better than thatnonsense if we do not we may never see conservative strength again speak up gop',\n",
       " 'happy birthday mrs aggers  hope you are having a great day',\n",
       " 'he is the dba  i had a quiet word with him afterwards about vdatafile',\n",
       " 'do not  even know the subject  but i will  side with sarandon only because she has class even if i disagree with her against the classless rambling fool',\n",
       " 'misplaced anger does not  make the lies about taking a knee true  sorry for her loss but she is wrongwrongwrong',\n",
       " 'oh shit sjsnsn i have  had work every day since i messaged u so sorry i will  make it tuesday',\n",
       " 'release the kraken  wwgwga maga',\n",
       " 'i dropped him postsuspension  he is back in our good graces',\n",
       " 'somebody is terrified  what will happen when the american public knows the truth about what you have  been doing drainthedeepstate   maga trump kag',\n",
       " 'those are old photos and in no way represent antifa it is a small group of delusional people who call themselves antideutsch antigerman who have tried to coopt the antifascist movement and claim that anyone who is not antigerman and proisrael is antisemitic and racist',\n",
       " 'now do gun control',\n",
       " 'you been reading q again right that is what q says i believe it too but still sessions is virtually invisible rr is there to stay he is not going anywhere even when the fisa docs released to public wo not  be covered at all by the shitstream media nobody will ever know',\n",
       " 'you are very welcome gordon and shirley xxx',\n",
       " 'abortion has always been available to those with the money to take care of the problem a matter of conscience only seems to matter when convenient for gotourpiece party a conscience clearly absent when it comes to gun control',\n",
       " 'she is referring to briefs underwear  or as the white folks say tighty whities',\n",
       " 'she hardly tweets unless its to give a shoutout to getup or antifa it seems',\n",
       " 'actually this should be given to the powers that be before this nut bar takes a gun and does what she is saying she will',\n",
       " 'what is the difference between antifa and the brown shirts nothing',\n",
       " 'i am  a boise state fan so i can tell you two things about kellen moore he is a winner and he is cerebral knows he does not  have a cannon for an arm so he fits his game into his ability what is wrong with that not everyone can be aaron rodgers',\n",
       " 'remember the liberals fought for our freedom the conservatives sided with the british',\n",
       " 'evidently she is as big a narcissist as he is',\n",
       " 'colin refused the offer he was offered and the  is grossly overpaid',\n",
       " 'she is like one of those bag ladies you see on the street or a bus mumbling cursing out loud talking to herself or anyone that will listen please go away',\n",
       " 'i will not be playing your game on android ever as  i am  downloading an all from an unknown source and  i think all epic games should be banned from the android system as you are stripping the revenue that pays for the dev and it is unfair on other devs like me',\n",
       " 'desperation abuse of my power cause he is losing his mind',\n",
       " 'also shitbiscuit stole most of the tempe girls u can not  blame that on me',\n",
       " 'bullshe is probably in debt and soros is paying heryou are  never afraid if this happenedgive us a break',\n",
       " 'still lies just like obamahe talks right and then votes left he did not vote for the  taxreform bill data shows  wv taxpayers use the std deduct and child tax credits this bill doubled their deductions without joe is help vote him out on nov th  maga',\n",
       " 'ouch she is horrible',\n",
       " 'if jamie oliver fucks with my  meal deals at tesco i will  kill the cunt',\n",
       " 'gun control will not stop gun violence',\n",
       " 'you ready for crazy ass racing tomorrow',\n",
       " 'dude you are so right one just triggers the other',\n",
       " 'i would not  be so confident in her exclusion if i were you if she is not  in oh well but if she is you may have a lot of told ya sos by different people',\n",
       " 'its so cool that the blind idiot god concept is already a real thing from a religion thousands of years old but peopl ehave to make it a fucking cthulhu reference for retard cred',\n",
       " 'those liberals are kinky people',\n",
       " 'chris christie kavanaugh allegations extraordinarily unfair   tcot maga rednationrising',\n",
       " 'but liberals do',\n",
       " 'most texans do not  take advice from liberals',\n",
       " 'wrong  did not  vote pc so that does not  mean the  who did not  should shut up  likewise a  voted ndp so not a majority by any means but a sizeable minority  actually liberals and greens have similar position too and vote wise those three are majority',\n",
       " 'kavanaughconfirmationhearings crazy dick durbin using the confirmation hearings to try and push gun control he is using this hearing to make speeches and push an agenda the whole thing has been a circus of democrats pushing an agenda while vowing to vote no on confirmation',\n",
       " 'aaron rodgers will never win a ring the rest of his sad ass career i hope you his regular season heroics cause thats all he is good for have a nice day',\n",
       " 'she is dillusional',\n",
       " 'she is not  believed because of the lack of evidence she is presenting  decades after the fact her being a woman has nothing to do with it',\n",
       " 'another snow flake melting down',\n",
       " 'get ya booty to texas',\n",
       " 'i am  sure they are pro life conservatives keep up the great work chelsea we need you',\n",
       " 'trump publicly lusted for his daughter and gop still elected him  let is stop pretending that morality or decency means jack shit to conservatives',\n",
       " 'i hope you would give your expert advice on the economic matters to the govt of pakistan even if you are not a member of the economic council positionposts do not  matter one can serve the country without any position or post if one really wishes to do something for the country',\n",
       " 'need to come out and say if we are  headed for a nodeal in october then  must call a general election  that is the only people is vote we need  if people want a nodeal they can vote for the    i do not  think people do   so vote',\n",
       " 'do not  judge us mainers by this clearly insane proclamation he is off his pins',\n",
       " 'hey tina goodmorning lol',\n",
       " 'dint pay any attention to hershe is yet to say anything of interest meme jerk',\n",
       " 'a national treasure she is',\n",
       " 'wow  delusional antifa here  determining that someone has or has not been involved in many protests   already judging and deciding for others  typical facist hiding behind the term antifa  much like jim jones  scary',\n",
       " 'we are  buying a couple puzzle toys and looking at classes for him rn but i think he is becoming a teenage monster',\n",
       " 'you are a lying corrupt traitor nobody wants to hear anymore of your lies deepstatecorruption',\n",
       " 'awww  cupcakes suck it up she lost get over it',\n",
       " 'i am  so glad you left you did not  deserve that disrespect and it was in all likelihood just going to get worse you deserve someone who is proud of how smart and amazing you are someone who does not  want to dim your shine to make themselves feel better',\n",
       " 'liberals do not  care who they destroy and leave in their wake',\n",
       " 'juan needs to check himself he is completely out of control',\n",
       " 'booom   the mac telling the  to pay the public sector properly have that there is no magic money tree   but this is a disaster it means the nhs is in crisis and competing with other sectors',\n",
       " 'absolutely right to not propose another referendum   are not in power and we are not negotiating   it is for  to make brexit work it belongs to them  if they can not  do that then  should call a general election  labour are ready',\n",
       " 'culture vs race in america race trumps culture hence president obama and tiger are black because of how they appear osaka cultural identifies as japanese therefore she is japanese if she stay in america she will  become blackjapanese because in america we identify people be race',\n",
       " 'this shit gon keep me in the crib lol fuck it',\n",
       " 'relatable',\n",
       " 'you are amazing and i love youuuu',\n",
       " 'constitutional republic micheal this is not greece  years ago',\n",
       " 'fuck you are killing me lately',\n",
       " 'i follow all these maga patriots',\n",
       " 'babe i hope you are not wonting these women',\n",
       " 'he totally dodged the question about how he is making millions of dollars off stormy daniels while she still has to strip to make a living he is unethical',\n",
       " 'hahahahahahahaha she may need to change her strategy acting like a spoiled child throwing a tantrum and showing the world what a sore loser she is on national television is not  a great way to improve how anyone is viewed',\n",
       " 'i can tell you are lying because her lips are moving to think i voted for you and your lies what a mug the conservatives will never receive my vote again',\n",
       " 'you have  been selected by liberals are you cheating on your voters you should have changed your mind before the election ms alleslev',\n",
       " 'can you address the lost offering issue please you are the community manager please tell us whats up for those who did not get the offering due to full consumables',\n",
       " 'reported deaths in sutherland tx church shooting dems already calling for gun control and shootings and i am  just waiting for to report on the pedophile content that allows there is a reason american media does what the establishment has been trying to tell you to stop taking',\n",
       " 'i follow civil liberals or centerleft people and a few of them i have  interacted with for yrs i learn from them occasionally and hopefully vice versa never thought about blocking them i guess a shift is what ppl might see as problematic',\n",
       " 'people are dead after shooting spree in california                        so those thoughts and prayers are working good for gun control',\n",
       " 'i am  not screwed any more than you are been hearing this same dream of the liberals what do you think  happens if trump gets removed',\n",
       " 'can you take that to the bank',\n",
       " 'which converted christians also have  which muslims also have  which leftleaning liberals also have',\n",
       " 'more jewish theatrics from google',\n",
       " 'glad to see your friends are supporting metis rights as much as you are supporting zionists',\n",
       " 'over here gun control is unconstitutional so the a protects us shooters that just want to shoot down range',\n",
       " 'can we talk about how he is having the worst year of any player in yankee history',\n",
       " 'a th columnist always imagines himself as a patriot that is how traitors rationalize perfidy   clearly the deep state the steady state the swamp or whatever you wish to call it sees itself as above such nuisances and trivialities as elections  maga',\n",
       " 'so after taking with kavanaugh he is able to diagnose his accuser',\n",
       " 'just vote for god sake and move on  it be a non issue in  months do not allow libtards to veer you into the trap  harden the fuck up and let is go seriously  kavanagh  scotus  maga',\n",
       " 'lol he thinks his ex girlfriend was an antifa infiltrator',\n",
       " 'far right bastards they are literally everywhere luckily we have far left extremists like antifa and jeremy corbyn is supporters to act as a counter balance',\n",
       " 'he is a disgrace to his party and all he claims to stand for he is not on the side of conservatives he just wants to make a name for himself and anybody is cost',\n",
       " 'ali you are in my hometown with me  welcome and please be safe  we will  be riding out the storm together',\n",
       " 'kavanaugh is reportedly at the wh right now',\n",
       " 'who is paying for your tweet antifa',\n",
       " 'and i am  assuming the people waiting to see him and who gave it to him are just as deficient',\n",
       " 'no she is not she is looking for a job by being controversal she is very bitter',\n",
       " 'yepsays the same thing about everyone she hates and warned the antifa twins not to do that',\n",
       " 'trump was walking towards a crowd excited to see him he was reciprocating the love that moment was about the reception not  it was genuine and honest barack is nothing more than an actor who fakes crocodile tears to call for gun control',\n",
       " 'its quite obvious the  morons at the star are totally unaware that canada already has extremely tight gun control laws which by the way criminals never have and never will adhere to  you have to be a very special kind of stupid to be believe that by banning',\n",
       " 'its unfortunately not as cut and dry as all that gun laws vary per state even cities compare chicago that has extreme gun control with new york that has almost the same level yet chicago has horrible gun crime and ny not to that extent criminals are the problem',\n",
       " 'i am  an antifa angel who has come to set the dregs and deplorables free free from caring what losers think about you',\n",
       " 'yet again siding with the  and still wanting you to believe that you can trust them remember all their broken promises remember how they treated students  there is only one answer  vote  and put  in power  jcpmnow',\n",
       " 'cutie connection is authentic',\n",
       " 'go head and switch from nike to gun control now',\n",
       " 'they are if you support gun control',\n",
       " 'good god woman shut up if you liberals really believed this  would have spoke out against this the day she received the letter',\n",
       " 'im not excusing his actions but the counter protesters had no right to block the streets  they are partly to blame as well   wrongs dont make a right just like antifa going around physically assaulting people and using weapons to hurt people  but your k with one side doing it',\n",
       " 'hy i am  years old i am  waiting for you hre',\n",
       " 'freedom from national debt is also very good and written by former deputy secretary of the treasury frank n newman also great cuz he is not an mmt academic but basically confirms mmt from a nonmmt insider is perspective',\n",
       " 'and hopeful to someday meet a classy gal that i can talk to about maga and wwgwga  have yet to find  having way to much fun now not to share',\n",
       " 'silly rabbit  laws and rules are not  for liberals',\n",
       " 'i think she really knows now but she is in denial',\n",
       " 'i prefer not to speak',\n",
       " 'all out war with  is hilariously insubstantial',\n",
       " 'you are so beautiful',\n",
       " 'she just sounds like she does not  need to be a cop not everyone is cut out for it i think she got startled when he opened the door and in that short moment of panic pulled her gun and shot horriblei just think she is not made to stay calm in situations',\n",
       " 'julieburchill is actually mentally ill when i was a kid she used to fill the nme and the face and all those mags with her vacuous drivel and now she is given the space in grown up world to do it courtesy the spineless pro brexit  eejits she is pathetic',\n",
       " 'we waiting on mean ass florence to do what she gonna do ack',\n",
       " 'gutierrez people died in puerto rico because gutierrez is a racist hispanic',\n",
       " 'oh no hope you are okay',\n",
       " 'drew carry is a piece of canadian s',\n",
       " 'globalization threatens nationality causing the alt right  concerns about destroyed values that keep us unified like the ten commandments and the constitution then we have the alt left demanding their mini bolshevik indoctrination to oppress everyone and start a war let god be',\n",
       " 'freudian slip',\n",
       " 'that might be a minor factor but that is not  what they are saying   peoplesvote',\n",
       " 'well thanx for proving us right that stricter gun control does not  address the problem as criminals do not  care for gun control as it does not  apply to them again taking the means to self defense away from the law abiding and ignoring the fact that criminals use illegal guns',\n",
       " 'he does not  want to give anything to potus',\n",
       " 'what bhagwat tells shakha minions and what he says to rest of the world are two different things sanghi goons will keep on raping and killing but the stupid liberals will think sanghis are  not that bad do not  get taken in by his lies else next  years india will disappear',\n",
       " 'how crazy youre a professor and you lie and slander conservatives wow lowest of the low i hope you are  proud of yourself every false statement you have  ever made is being revorded and you will  be judged accordingly best bet is to just sit down w  n talk',\n",
       " 'in  the conservatives cut annual funding to build social housing by bn today theresa may announced an extra bn to build social housing spread over the next  years so by  it will  be a bn cut since  instead of bn no wonder there is a housing crisis',\n",
       " 'omg no you have no idea wtf you are saying it is like a pink sheet stock that keeps reverse splitting will eventually be worthless to everyone but hey may keep dreaming we all need dreams',\n",
       " 'of course he will not he is a strong supporter of antifa and blm',\n",
       " 'google cfo is a joke and so is the idiot who hired her for this position  googlearecorrupt   bestuseqwant',\n",
       " 'riots everywhere',\n",
       " 'exactly my thoughts she is always a sweetie when she is coddled her true character exposed as an athlete is revealed in times as this she is not a role model or a legend',\n",
       " 'the fact she is going to vote yes on kavanaugh makes me think she knows how bribes work',\n",
       " 'must have  writing his material',\n",
       " 'it freaking sucks',\n",
       " 'aight i thought gun control and unaffordable healthcare was the issue snm',\n",
       " 'to quit sex',\n",
       " 'it is easier for pod to believe both sides are terrible then he does not  have to honestly look at the conservatives',\n",
       " 'the fact that you equate smoking reefer with sexual assault tells me everything i need to know about you you magabottypes are completely at sea when it comes to basic human decency like your president',\n",
       " 'those are conservative values last time i checked those were more descriptive of liberals than conservatives',\n",
       " 'just imagine the tyranny we would be living under had these leftwing tryants waging war on us and our duly elected president and the american republic itself gained tyrannical control of the us supreme court the neocon is nevertrump crew was trying to deliver to them  maga',\n",
       " 'did not  the polls say hillary was going to be president',\n",
       " 'that makes zero sense as you are conflating biogenic with non biogenic emission sources',\n",
       " 'and he was right',\n",
       " 'containers of hurricane donations found rotting in puerto rico parking lot',\n",
       " 'the nra is now intimidated by a british cartoon they should stay out of european animation ethics unless they want all of europe weighing in on gun control',\n",
       " 'hey the valley guy  thanks for the comment  your right on the mark  just hope the liberals and  get serious about reversing global warming and climate change  get with the real issue of saving our planet and life itself  note',\n",
       " 'she is one',\n",
       " 'since we are a republicno maga',\n",
       " 'i am  happy to say the same about conservatives',\n",
       " 'do not  perpetuate colonialism if you are going to talk about puertorico you must have puerto ricans in the panel jeezuzfuckingchrist how difficult can that be disporaenresistencia',\n",
       " 'so i tuned into the emmys last night i watched for a whole  seconds before some celebrity i had never heard of started talking about their platform  click liberals ruin everything',\n",
       " 'btw  guns are inanimate objects  it is the evil soul behind it that pulls the trigger',\n",
       " 'got knocked out in the first round and one a shitty decision',\n",
       " 'best not stray off message we need to be using every death to blame guns and push for gun control talking about actual causes distracts from that  gunsense',\n",
       " 'please do not  kill me antifa on the other hand',\n",
       " 'let is play a game called spot the bot  my guess is this account above',\n",
       " 'at least we have brains to fall out in the first place unlike conservatives who believe everything their handlers feed them',\n",
       " 'absolutely  we all know the dems want all the votes coming to them that is why they are all pushing for it to happen  demsliberals are plainly unamerican all they care about is their paycheck and their position st we need term minutes no more than  terms like potus has',\n",
       " 'i am  doing really good thank you  i hope you are well too  be blessed beautiful friend',\n",
       " 'oh fuck i forgot about poopy in my diaper pants you know me before i know myself',\n",
       " 'continues our look into government spending part ii is focused on funding announcements made in battleground quebec over the summer cdnpoli',\n",
       " 'ny faso nra scores     nra  candidate positions on gun rights         nra political victory fund  lifetime score    a     nra political victory fund  positions on gun rights    a     new yorkers against gun violence  gun control score',\n",
       " 'sounds like me ddd',\n",
       " 'his legacy is crap why would anyone want to save crap',\n",
       " 'anyone have a lion',\n",
       " 'rindia is exclusively dominated by liberals i feel better on rhinduism and rreligion',\n",
       " 'conservatives historically go by the constitution  part of the reason for the name  the libs like to make to make it up as we progessive',\n",
       " 'you can make fun of liberals that come up with fake stories',\n",
       " 'what gun control do not  they have  even the smallest forces have policies in place for firearm use  i support gun control i can not  hit my target wo it',\n",
       " 'westminster  tories   brexit   brexiteers outoftheeu  eu brussels remoaners remainers quislings fbpe nonpatriots antiuk proeu traitors snowflakes bedwetters leftieluvvieliberals',\n",
       " 'who cares what a union leader has to say big kate do u fawningly report lefty concerns  because u and the left promoting cbc r doing the trudeau liberals bidding againu r a cbc liberal party shameful',\n",
       " 'yes you are stalking that is what a weirdo would do if my tweets over video games hurt your feelings then go ahead and block me lol',\n",
       " 'okay blane now get back to your basement and keep making antifa dresses',\n",
       " 'here is my  year old daughter is report  conservative as well fluffywolf',\n",
       " 'why do conservatives have such a hard time testifying',\n",
       " 'the guy is not even a white romanian he is a gypsy',\n",
       " 'are you wanting gun control for leos',\n",
       " 'maybe he should have used some of your peers',\n",
       " 'ooooh she is beautiful  o',\n",
       " 'that wo not  happen as he is only comfortable twitting from his golden throne or toilet to most of us',\n",
       " 'at this point it is just a money grab they are  not even trying to hide it now',\n",
       " 'antifa loud mouth democrat',\n",
       " 'colin is a dick would sell out just as quick',\n",
       " 'republicans are underestimating the fever of the liberals to get rid of trump',\n",
       " 'years ago he lied and claimed to have seen people celebrate   years ago he boasted how his building is now the tallest   years ago he said he had many friends that died in the wtc and yet not one funeral attended   years ago he was the same pos he is today',\n",
       " 'you are so sweeti hope you feel better soon',\n",
       " 'molested me  yrs ago when i was yrs old i did not  want to say it till now she should thrown in jail according to liberals and metoo you have to accept my allegations blindly there i said it confirmjudgekavanaughnow senatorfeinstein democratshateamerica',\n",
       " 'looking forward to a show where you invite callers who regret voting for the federal liberals on',\n",
       " 'picking acts by such nonsensical elements and portraying to world pseudo liberals pastime our is is a country with much great achievements dating back centuries spread that but that wo not  suit your agenda',\n",
       " 'she does not  remember her clothes or his clothes or the house or how she got there or what songs they were playing or what exact date this is nothing but weaponizing me too with false accusations for ulterior motives but if fiberals can defend antifa terrorists this is nothing',\n",
       " 'i can not  believe twitter would ever target conservatives',\n",
       " 'its still not being updated  scrapers will get less and less until none are left',\n",
       " 'she has become a parody unto herself she has certainly taken some heat for being such anwell idiot could be optic too  who know with liberals  they are  all optics  no substance',\n",
       " 'you need to leave a lot of shit in the past lol this tweet is literally made for you',\n",
       " 'there were fine people on both sides there were charlottesville historians looking to preserve the statues wo affiliation with the white supremacists there were also honest protesters not associated with antifa who wanted to see the statues removed good grief',\n",
       " 'he is a big crybaby because he did not  get his way for the  election',\n",
       " 'honestly you people are seriously delusional it is a good thing the majority of fans in ottawa are educated because ppl like you are scary',\n",
       " 'ur head bout big as shit',\n",
       " 'yet the number of applications from liberals that were rejected was higher then yours  you sound salty that the liberals had more people looking for use this program but you guys just had people with worst values',\n",
       " 'hope they bankrupt soon',\n",
       " 'you are the man gregg',\n",
       " 'every day her iq gets lower and lower more wanna be nazi barbie is going to be a pile of maga goo on the bottom of the set soon enough',\n",
       " 'i didnt know my statement was for your entertainment but the root of this problem is conservatives dont root for serena even though she is the greatest america female tennis player to play the game so of course they will side with the ref and it all stems from racial resentment',\n",
       " 'you are not pretty',\n",
       " 'i saw that but i dont think thats a tattoo it looks like that fuckin fashion fabric string or some shit idk might not me but that ass looks exactly like hers ha',\n",
       " 'so you are ok with boris johnson having to have police protection from antifamomentum then tories are clearly scared of  because the tories know they are not delivering the brexit that  million people voted for shame tories do not condemn antifa',\n",
       " 'aged dine to me maga  libs still spill out with vile breaths the total vote including all the illegalsorry jack voters the repeated areas where more people voted than are registered po would a friend with the red and blue map and dont you live in fl still how would that work',\n",
       " 'it is been up since sunday night he is a sloth',\n",
       " 'liberals are not very smart',\n",
       " 'all he is missing are the inmate number',\n",
       " 'henry',\n",
       " 'joke  patrickmouratoglou blatantly used hand signals  he also cheated on his wife with serena   got caught and went defensive manipulative entitled sideways  the story is not  about race gender equality  it is about cheating accountability',\n",
       " 'my guess a lot of unflattering facts will come out about dr ford in days to come  as a father of a daughterif some one roughed her up to the point she is claiming at she could not have hid her emotional state from her parents',\n",
       " 'yet another good guy with a gun we need common sense gun control legislation dosomthing  votethegopout countryoverparty  documents alleged mass murderer thought wife was cheating',\n",
       " 'consider the source it is only bono',\n",
       " 'he will blame it on the fact that he is hispanic of course',\n",
       " 'trump trump trump maga',\n",
       " 'lab turned down the deal with lds',\n",
       " 's without even explaining yourself which makes me wonder why you think you are thinking logically again i do not  take my news from orban you assumed that twice now which makes me believe you take your news from your favourite politicians if you read any news apart from what ow',\n",
       " 'there is zero evidence of any gaff and it is not their jobs to do any such thing this is just more hijinx and chicanery from two buffoons that have no platforms or morals conservatives cdnpoli',\n",
       " 'protect trumpie   increase presidential powers   kill roe v wade   limit voting rights   weaken gun control   deal with religious liberty congress is not an august body they lost that moniker when they went whole hog  trumpism',\n",
       " 'condemn antifa now',\n",
       " 'and trending is the comment can we start with rosie',\n",
       " 'why do liberals always say they are  moving to canada if they do not  get what they want  they never seem to offer to move to venezuela or greece or other failed liberal countries',\n",
       " 'i can not  talk to anyone so if i answered your message you are so special for me',\n",
       " 'tories labour ge conservatives conservatives  jackiedp this is great news we need more affordable homes to support families as for me i am proudtobeaconservativefromacouncilestate',\n",
       " 'tom was bought he is more interested in tom than his constituents',\n",
       " 'her loss had nothing to do with race or with her being a woman she is probably the greatest woman tennis player of all time she has also always been a temperamental pampered multimillionaire and a sore loser serena you have a great life please stop bullying people',\n",
       " 'he is so breathtakingly handsome man',\n",
       " 'best way to convince ppl the a moment is not  unforgiving is to savage any person who dares question your forgivingness',\n",
       " 'k dong',\n",
       " 'while wearing his t shirt promoting gun control',\n",
       " 'crazy things liberals blame trump for  via   unhinged blame everything on our president',\n",
       " 'ulster unionists care nothing for conservatives whom reciprocate in kind a terrible partnership where true leadership and negotiation was needed irish border if hardened will result in lives being lost  once more',\n",
       " 'you know good and goddamn well that if you tried to explain all the gun control on a military base is proof that gun grabbing laws wo not  do shit if you look at fort hood',\n",
       " 'idiotalert gun control activist david hogg suggested ars cannot be used for selfdefense because they shoot further than handguns',\n",
       " 'and you know he is probably saying the softest things and yet he looks like this  what is the truth',\n",
       " 'has this tropics update for us now but she will  have the very latest details on florence with the new  pm advisory   be sure to join us tonight at  for  news nbcct',\n",
       " 'lolololololololo are u kidding me the antifa shows up at all protest to stop freedom of speech open your eyes where did the antifa come from democrats the snake party',\n",
       " 'as she should be',\n",
       " 'keep banging on with your nationalist nonsense once democrats win the midterms and raise taxes you will  be able to get on the same page as everyone else universal health care and gun control will save countless lives trumpsters like you will learn eventually',\n",
       " 'it was enough to slow her to a stop she yelped loudly    there is fear in her eyes and thirium leaking from the gunshot wounds but she is going nowhere  i haveno desire to die',\n",
       " 'listened to the liberals democrats and their bedbuddies in the msm demand transparency from the    well your about to get a yuge scoop of transparency from him like i said in the start of this thread be careful what you wish for  end',\n",
       " 'not really gun control limits one capability to personally safety it makes it even harder for good people to buy guns legally it will even make it hard for women to obtain guns for self defense just keep a simple background check system we already have',\n",
       " 'open borders will bring this to america dems are brainless vote red like your life depends on it because it does kag maga',\n",
       " 'the men senators should allow citizens to question the accuser  the citizens should be women and conservatives  who love america and fairness',\n",
       " 'tories labour ge conservatives conservatives  today i can announce that new longerterm partnerships will be opened up to the most ambitious housing associations through a groundbreaking  billion initiativethe first',\n",
       " 'nope teaching them not to give a shit what liberals from ca think',\n",
       " 'we handed our nationalised industries over to be run for profit by the nationalised industries of other countries  smart',\n",
       " 'your side has antifa you into them like violence',\n",
       " 'can somebody get a cry room for her',\n",
       " 'because he is talking to an idiot liberals have a mental disorder in his book the liberal mind the psychological causes of political madness dr rossiter exposes that the ideology motivating liberals is actually a mental disorder  read more',\n",
       " 'i purposefully had my damsel be a bit of a badass she is saved by the protag saved by the third party member and sticks her neck out to save their hind quarters just as often if not more sure she may have ulterior motives evil laugh but she is still pretty kickass',\n",
       " 'my son do not  know his he is better off dead nice message tho your heart was in a good place',\n",
       " 'she is just spewing sht bernie is robot what a lie they will say and do anything and what she is going to do for district  not a dan thing socialism do not  work that way they suck all up',\n",
       " 'there is no way you can defend    he is the worst for auburn time to part ways',\n",
       " 'bob dickbrain woodward i wish i were ann coulter',\n",
       " 'you ai not  doin your part then  check them pussies i am  from the hood and i still do not  say the n word cause i am  a little more educated i got other ways to describe my brother or friends i feel the same way as you though too many people going left unchecked',\n",
       " 'she is probs busy over school or something',\n",
       " 'maximebernier racist party of canada  bernier ppc  news politics government cdnpoli polcan pnpcbc liberals progressives conservatives ndp cpc lpc gpc altright farright populist racist racism bigot hw',\n",
       " 'the irony is that most murders are done by illegal gun users who are gang members  this predominantly only affects latino and black families the problem is not gun control the problem is judges who let violent gun offenders back on street after shooting someone',\n",
       " 'russ us fuckindead',\n",
       " 'it is amazing that when things pertain to conservatives it is guilty until proven innocent where is the justice when lawless acts perpetrated by the left get ignored',\n",
       " 'thank you president trump maga',\n",
       " 'wifi free',\n",
       " 'fuck this  he acted like the father of the girl killed at parkland was a bug  instead of telling us how much he loves these girls he should tell them the truth that he really doesnt give a shit if they are killed by a crazy white guy with an ar',\n",
       " 'divert and defamewe voted him in to get things donenot bc he is well mannered',\n",
       " 'if we are not in control then how come you are allowed to tweet that idea in the first place',\n",
       " 'one from adelaide and one antifa i now understand why your both so angry',\n",
       " 'rooney wont do anything  he is the one that needs to take some action',\n",
       " 'fuck alan i am  sorry',\n",
       " 'this is mainly  fault he is to blame',\n",
       " 'help i already have a verify account but when i try to use it it wants further details passport which i do not  have with me so i phone instead and after two minutes of pointless messages it tells me you are busy and hang up what rubbish service',\n",
       " 'wow you guys just beat a dead horse do not  you you do not  look at what good the nra has done at all because of the failure of broward right or is it antifa that you fancy',\n",
       " 'glad you are ok',\n",
       " 'meme was circulated during times antifa rioted and the left either ignored or celebrated them and of course not fool',\n",
       " 'doct tape please',\n",
       " 'you are so cute',\n",
       " 'strange how gun control never works criminals will never obey laws i am my own firstresponder',\n",
       " 'devout members of antifa though i am  sure',\n",
       " 'omggggggg she is everything and more',\n",
       " 'holder was held in contempt of congress why is not  in prison for fast and furious how about for murder',\n",
       " 'another fucking pittsburgh nazi philly antifa is naming names and it is glorious',\n",
       " 'so you are ok with the racial epithats that the left calls black conservatives bigotry hypocrisy walkaway i did many have dont be blind you are being a tool for a establishment keep resisting the outsider and be for the political elite millionaires',\n",
       " 'are the cruz vs orourke debates ever going to happen   tcot maga rednationrising',\n",
       " 'sorry you are having issues please send an email to feedback with a description of your issue and the email address associated with your account thanks',\n",
       " 'lol he is funny',\n",
       " 'wow  that lien bitch is at it again',\n",
       " 'as he said in exchange for a  day jail sentence and that is the max both sides could get',\n",
       " 'antifa scumbag trying to explain why trump is to a black trump supporter pr topbuzz',\n",
       " 'i was not  aware there was big money in sensible gun control',\n",
       " 'they are false this is what the democrats do best confirmkavanaugh maga drainthedeepstate',\n",
       " 'fuck off',\n",
       " 'confirm kavanaugh now  maga',\n",
       " 'boycotting nfl for the rest of my life',\n",
       " 'all of this shows just how scared liberals are of the new  that is going to be guided by the constitution and bill of rights they honestly believed they had made them powerless in today is courts  trump is maga and deplorables are helping',\n",
       " 'he is obviously a bitch',\n",
       " 'and the so called letter is where',\n",
       " 'the whole world can see what president trump has accomplished and americans byandlarge are extraordinarily proud of the trump  administration  it makes no difference what the left and its mainstream new media dedicated conartists try and pull on us  we are awake maga',\n",
       " 'bro we are one big happy family',\n",
       " 'he needs to fade into the sunset quickly his music sucks and no one cares about his political views unfortunately he is too ignorant to realize only concert i went to where a political diatribe completely ruined it completely',\n",
       " 'she does not  support stand you ground or arming teachers gun control idaho believes in gun rights   zero chance',\n",
       " 'the kid he scored on looks like he is about to drop outta school now somebody check on him',\n",
       " 'rip lmao who knows  that is why i am  trying so hard not to expose my shits since they can not  never relate anyway',\n",
       " 'they are both guilty of criminal behavior and they know it   god removes any and all barriers to getting the truth from them maga',\n",
       " 'one added me to a liberals i would like to slaughter last month that was fun',\n",
       " 'guns a a second amendment zone is ridiculous so are concealed carry laws  daily utah chronicle the latest installment of the nation is endless debate on gun control recently surfaced on the university of utah campus a g',\n",
       " 'need help packing',\n",
       " 'the fine people he was referring to were the military vets and others who had a legal permit to protest the removal of a historical statue that is not  good enough by your standards the counter protesters were all antifa',\n",
       " 'is anyone surprised that a president who would commit treason with russia to get elected would pick a rapist for the supreme courtmondaymotivation deplorables maga marinesagainsttrump kavano bluewave postponethevote kavanaugh stopkavanaugh',\n",
       " 'guys have bad games it is the game it humbles everyone stafford has been very rusty and inconsistent this year  games in he is missing the long down field passes that flip the game',\n",
       " 'we the dregs of society will make sure you are never president',\n",
       " 'look at how shamelessly liberals lie to destroy a man is life',\n",
       " 'yea he is lol  sorry you  have to go through this',\n",
       " 'laura ingraham who followed the russianinfiltrated nra is order to attack parkland victims who decided to vociferously advocate gun control and who at the time was vying for kellyanne gag conway is position',\n",
       " 'nothing was stolen crybaby liberals did not  get what they wanted so they have  been throwing temper tantrums for  years',\n",
       " 'we would hang  plus on the frogs and cocks',\n",
       " 'you can not like justin all you want but the conservatives have no plan to even consider climate change and have been using blatant misinformation to lead people like yourself into believing that it is trudeau is fault we are  negotiating with a fucking sociopath down south',\n",
       " 'you ignored my question which is crucial to the argument once sensible gun control is imposed and another shooting occurs do you truly believe they will not push for further restrictions',\n",
       " 'bill clinton enjoyed raping them while ted kennedy enjoyed killing them but you are cool with that',\n",
       " 'he said he is thrilled to be a part of the  ownership group',\n",
       " 'lol fuck you',\n",
       " 'they are  trying it is called antifa',\n",
       " 'then you are not equipped to adopt period',\n",
       " 'cashing in on the book bandwagon can not  blame her liberals love to throw their money at bullshit',\n",
       " 'hope you are ok my man',\n",
       " 'abi you are right',\n",
       " 'all i am  hearing is we do not  care that people in this country are being unjustly treated i am  going to make up an excuse as to why kneeling is offensive so i continue to ignore the problems  we face as a nation',\n",
       " 'juan williams just called diamond and silk a minstrel show you know what to do',\n",
       " 'man of steel ok  batman v superman ok  suicide squad boring  justice league bad      reboot keep wonder woman as she is do something with time travel or altered timelines or something',\n",
       " 'so clearly team conservative is striving to uphold the notion of virtue and ideas and reasonableness while liberals are completely violating the social contract to score political points again it does not  work if both sides are not  upholding their end of the bargain',\n",
       " 'f hope since he is not smarter than a th grader maybe she is',\n",
       " 'breitbart is dead',\n",
       " 'go figure',\n",
       " 'got to be about the dumbest thing ever',\n",
       " 'trump is declassifying information and there is nothing you can do about it  he is not the subject of an investigation  the fbi and doj have repeatedly said as much  go back to your quackery',\n",
       " 'some antifa types might even show sort of like a minig donybrooke then',\n",
       " 'for me superman has to be morally superior no matter what excluding maybe the love interest  he is the pure good and nice yet still superior i did not  see that  it disappointed me',\n",
       " 'she is also the rocks wife',\n",
       " 'holy shit he is still alive',\n",
       " 'this is rich coming from the spokesperson of an organization that blocks every commonsense gun control bill every one',\n",
       " 'i am  responding with a fact you are totally unfamiliar with how harper government incentives and it is laughable that you are  saying that you know what you can have your check mate i give it to you',\n",
       " 'you are  right but if our terrorize someone for having a different belief you are not any better',\n",
       " 'this leftist is what is wrong in liberal colleges more ppl and students will come out and will unmask this corrupt woman who is determined to destroy a good judge because she wants only liberals in the courts',\n",
       " 'two words gun control',\n",
       " 'fuck you you are disgusting animals and your editor who approved the news is a bag of shit',\n",
       " 'just wondering whether we should have another election if the wrong party get in because  of the electorate voted for the conservatives or when  voted labour in  and won',\n",
       " 'hmmm was nfl on tv today did not  even search watched tennis and baseball not one of them kneeled wo not  be watching next week either',\n",
       " 'i feel like his face will never change he is right in the middle of our mom and his dad',\n",
       " 'he is looking for a place to hide',\n",
       " 'he is gonna be op asf for the first few weeks',\n",
       " 'this is not  about gun control anymore this is about hate  take guns away the hateful will find something else  let is resolve where anger comes from',\n",
       " 'the unafraid and unscathed  bringing hope and change all around the world maga nokosoko north korea is kim jongun agrees to shut missile site  bbc news',\n",
       " 'even the most die hard liberals in the media are stepping back from this one',\n",
       " 'new people is army from the philippines is being helped by antifa in the usa and vice versa i suggest you send this to the philippine government contingent they need to know about this',\n",
       " 'you are not alone',\n",
       " 'embarrassing for the liberalsi wonder who those women raped in school',\n",
       " 'that is the point you waffle faced nob goblin',\n",
       " 'that and racist imagine if it was a black woman that accused him of the same i should probably keep that to myself because i can see some dems seeing this somehow and thinking how can we make this even worse on kavenaugh got it',\n",
       " 'its her job to do that he is not her pr guy',\n",
       " 'he is one crazy  person',\n",
       " 'this is a big deal hatch has to be embarrassed oh yeah he is senile and can not  find the bathroom by himself',\n",
       " 'gun control is not about guns gun control is about control',\n",
       " 'false  your intrusion on the constitutional rights of honest americans did nothing to curb violent crime  gun control  violence against the lawabiding citizen',\n",
       " 'hillary why is she on the social studies curriculum why who is she to be in any curriculum  she is nothing  i am  shocked that she was in any curriculum but i am very happy to see that she is out  i am so glad she is nowhere near the',\n",
       " 'what kind of classes are you taking you have ass homework is this an anatomy class',\n",
       " 'i have heard he is making waves',\n",
       " 'you are look so damn beautiful in that outfit',\n",
       " 'besides the liberals',\n",
       " 'i agree   there are obese people trying to change the way they are  good luck to them  not lazy tessholliday is doing the opposite  she is actively promoting that its good and beautiful to be obese  its not  and its down to being lazy and greedy  simple science',\n",
       " 'india cuts iranian oil imports ahead of november deadline   tcot maga rednationrising',\n",
       " 'long live satire if we cannot cut to the truth in this way then we may as well call it a day',\n",
       " 'he has hit hr the past two years he had it figured out but never got the playing time in stl i heard from his supporters on here that is a notorious slow starter he is going to be the starting cf next season',\n",
       " 'i made my position clear with the principalthat clearly he is used to dealing with young adults my son is not  mentally i would ask they check before sending me that msg again i think my likeness is a dart board in the staff lounge',\n",
       " 'how about stating the fact that the rate of black people being murdered by black people is much higher than being murdered by white people  shine a light on that save chicago',\n",
       " 'gotta give him credit where its due he may not be a mason but he is out there competing his ass off',\n",
       " 'dnc corruption',\n",
       " 'you definitely made judgements about me and your tweets prove it i made reasonable observations based on what you said about yourself you disagree and that is fine applying your own advice is something you should try  makeamericagreatagain americafirst maga usa',\n",
       " 'you both look lovely flotusrocks maga',\n",
       " 'he is contacting his followers',\n",
       " 'democrats always give people reasons to vote what other party cares more about minorities or women and children what party is fighting for healthcare which party is reasonable on gun control or immigration',\n",
       " 'look in the mirror lefties  no bigger bullies than antifa and progressive leftist trying to get in the faces of the right',\n",
       " 'she is trending',\n",
       " 'you are awesome i am so thankful i know you',\n",
       " 'and soros money in their pocket maga',\n",
       " 'this guy wants to be a successful producer and he is tweeting stuff like this',\n",
       " 'this is actually a bad argument considering that conservatives stood by clarence thomas too',\n",
       " 'i think the fbi should do the original interview  they scare people more than feckless congress that will have to handle her with kids gloves or be demonized in media and left put her under oath and attempt to get the truth she will be protected by liberals in congress',\n",
       " 'i am  just as surprised as you are',\n",
       " 'have you noticed how racist the media is they only show the black players kneeling and no one every complains about that',\n",
       " 'did the pope say he is a sinner yet to be unveiled',\n",
       " 'those are some lucky people on tulsa  saw this and needed to share with a fellow fan of levi is jeans yet another reason to love our levis',\n",
       " 'that is nothing new she was going to vote no anywaywe will vote no to liberals in november',\n",
       " 'the conservatives cut the budget for social housing by more than the bn as part of their austerity measures this new announcement is pure spin and it simply plays on the failure of collective memory',\n",
       " 'how about corrupt pr government officials',\n",
       " 'djt you have to remember his daughter is married to am iranian and so he defends them at all costs he is a coward and a disgrace thank god for your dad or we would all be in a world of hurt',\n",
       " 'yes mothers now this is what the deranged left will make you do to your little boys are we really going to let this happen pure evil votedemsout maga  confirmjudgekavanaugh',\n",
       " 'so absurd  the left has been fielding violent feminists and communists in the form of antifa to attack the very peaceful transition of power for more than two years    i wonder if it will ever occur to you that you are the bad guys  i doubt you have the moral fortitude',\n",
       " 'she is and also a goddess',\n",
       " 'china is communist all chinese restaurants have to close now because i am  not comfortable',\n",
       " 'markey issued a tweet then back to his nap she can not think or react on the fly she is a poor leader no word from baker yet',\n",
       " 'you are still on that trump  train to nowhere',\n",
       " 'go back to canada you freak',\n",
       " 'the liberals liberal right there',\n",
       " 'packing  for tx  hope you are well almostcousins',\n",
       " 'one can always tell when dr  is not telling the truth his mouth is moving why on earth would anyone expect the  not to cosy up to trump',\n",
       " 'he is a crook trumptime',\n",
       " 'he knows nothing about gun control says who',\n",
       " 'if two or three allegations dems would be screaming pattern  women came forward supporting kavanaugh is that not a pattern of good behavior allegations must be heard but what happened to presumption of innocence timing is suspect what do you think  maga',\n",
       " 'because she is nothing more than an opportunistic lying sack of human waste paid by the left  turn off your tv ed',\n",
       " 'booker is toast',\n",
       " 'crookedhillary are you drunk again  go back to bed grannytrumptrain maga deplorables dregofsociety',\n",
       " 'i feel as guys we rush into something because of how a girls looks without really knowing how she is and once having her knowing her for who she is and realizing you dont want that without thinking of the implications or damage it can do to the girls mind',\n",
       " 'cnn is trash and everyone that has a brain knows it',\n",
       " 'wtf   already thin d backfield just got thinner',\n",
       " 'hplyk fuck',\n",
       " 'so alyssa you saying he is guilty  what ever happened to innocent before guilty  and if he is innocent would you at least tweet an apology  shut up and answer the tweet',\n",
       " 'she do not  even wear the shit i buy her now move away from me',\n",
       " 'junior was more accomplished and charming this weeksenior admonishment by pc at conclusion was correct today no need for people to be there beyond wheels of justice are grinding smallbut typical ws distortion they should have all just been allowed  bite at that cherry',\n",
       " 'hitler would be so proud of david hogg trying to disarm american citizen so when democrats come to powerwe are helpless and cannot defend ourselvesand that is why we have they ar is',\n",
       " 'evidently they do not  care that their study is flawed from the start they just parrot the misleading info from everytown and all the other leftist gun control addictssites',\n",
       " 'democrats have order this mangina to shut up  he is not listening just keeps on going on and on in his little mind   he is loyal to uncle soros   his sister married into the family',\n",
       " 'i am appalled that you are considering hosting a midget wrestling spectacle the word itself is offensive but an occasion like that will  perpetuate the stereotypes around dwarfism and is hugely damaging to the dwarf community please think again',\n",
       " 'i am  that nigger no lie',\n",
       " 'eric opens the door and runs to the couch fuck yeah',\n",
       " 'you are a hero',\n",
       " 'yo why wo not  you let me post a link fam does it offend you you little salty spittoon you literally allow porn such as  but you do not  allow federal shit censorship confirmkavanaugh confirmkavenaugh maga',\n",
       " 'it would thank you more if you accepted sunblock when your wife offers it p',\n",
       " 'you are one of the mastermind of a big syndicate at boc  we will not forget you will go to jail  fakedrugwar',\n",
       " 'that stage was such a pain in the ass for terrorist hunt i loved it',\n",
       " 'why would someone be videoing  inside job  asking for a friend  hope she is ok',\n",
       " 'if that was my missus horse he would fuck right off and have us chasing him like bell ends',\n",
       " 'liberals know how the avg voter feels like with the bs govts says n dnt do after',\n",
       " 'this is why conservatives and law abiding citizens do not  come to the table about gun control it not about lunatics like this guy that should no longer own weapons its about removing all guns slowly but surely from everyone regardless of who they are',\n",
       " 'voting against the progressive agenda that means gop control of the senate as a must hopefully the house and conservatives at the local level to keep progressive agenda out of the public schools',\n",
       " 'excuse you she is the best she just wants to hang',\n",
       " 'yesterday this happen here so much for gun control when you can not  prevent a nd grader from bringing a gun to school huh',\n",
       " 'what are you doing joe i swear it seems like he is doing this shit intentionally to show us fans up or put us in the hospital for heart attacks everybodyin',\n",
       " 'go back to alpha  sara will report more today  omega is coming  truth  trust the plan  maga  we are the plan  truth',\n",
       " 'any doubt that  have officially become the national socialist american workers party is gone with ppl like those on  and  acting as der sturmer and antifa as their einsatzgruppenwaffen ss detachment',\n",
       " 'well since your streams always have porn in the title im going to sa you love porn',\n",
       " 'true to curtin',\n",
       " 'fuckin poisonous group of people as soon as someone hands me a hat with a propeller on top i am  out  find another company to work for lemmings',\n",
       " 'i will  defend him i think the ca professor is a lying liberals pile of horse dung there',\n",
       " 'i would think already since you are only following half the people that are following you it is called the follow back resistance',\n",
       " 'aunt crabby will you bake her some special cookies so she will children out i worry she is going to have a heat attack',\n",
       " 'no clue where you get those numbers we are the only country in the world with mass shootings and staggering death tolls from gun violence how anyone is against gun control defies logic',\n",
       " 'europeans are morons for electing people like this',\n",
       " 'unleashed  no your lowliness it is the beginning on an exorcism against the evil in the body of christ known as the leaders of the catholic church',\n",
       " 'bird ass',\n",
       " 'billy shears rips  am ad captain donald trump in climate change song',\n",
       " 'harrison ford is not using renewable energy to power his home he is using the same power plant the rest of the neighborhood is using and that power plant is releasing toxins up into the air',\n",
       " 'dana it all has to do with politics feinstein her number one goal is gun control just look at california track record he is going to get confirmed',\n",
       " 'glad no one watches her',\n",
       " 'wellhe is now firmly part of the establishmentlet is see how that goes for him',\n",
       " 'everyone has to vote red so we do not  lose the house in the midterms  if we lose the house it is all over the maga movement will be finished make sure everyone you know is registered to vote red get out and vote red maga kag   walkawayfromdemocrats',\n",
       " 'they eliminated several due to too many figures kids have to memorize  awe oh well they also eliminated barry goldwater that is a travesty he is the father of true liberatarianism he was not against civil rights he was against government having power to police thought',\n",
       " 'sesamestreet  does this mean we can expect to see outraged conservatives burning their children is toys in protest and what about big bird and snuffy i always thought there was a little something going on there',\n",
       " 'dude why do you want deepstate documents to be kept secret maga  lockthemup',\n",
       " 'wow he is away from his phone',\n",
       " 'boner has not  lived in real world for  years',\n",
       " 'liberals that think the world owes them a living',\n",
       " 'that is because you liberals have no morals anything goes with your kind drugs sex child endangerment',\n",
       " 'we all want affordable health care for everyone liberals want it so badly they are willing to change the facts to produce the theory that is false science the correct thing is to change the theory to accommodate the facts that is science',\n",
       " 'mmmhm i heard you from down the street gave me a few extra seconds to get my shit together',\n",
       " 'name',\n",
       " 'entire audience  yeah that is solid reporting  lol',\n",
       " 'my feelings exactly   i was watching a video of an antifa rally they were fighting with and cursing at the police at one point they began fighting with counterprotesters and one was injured his cohorts immediately began screaming for someone to call  really',\n",
       " 'white cops are called racists by mobs and liberals daily',\n",
       " 'do not  like anything u r saying re  maga u r part of the problem and not part of the solution',\n",
       " 'i hope you do not  make it',\n",
       " 'he isnt aware of anything he is just that handsome',\n",
       " 'i believe that melania trump is an abused woman maybe not physically but definitely mentally by an abuser husband and she is afraid to speak out against her abuser',\n",
       " 'coming from a former ag who should be charged with conspiracy to commit murder in the fast and furious scandal one of the many scandals committed within the obama administration',\n",
       " 'nutty fruitcakes',\n",
       " 'just ask them how does having some of the toughest gun control laws working out for chicago',\n",
       " 'is not  this from the saul alinsky book rulesforradicals or  favorite book antifa handbook',\n",
       " 'your disrespect for those that make real sacrifices to defend our freedom is appalling   is a punk',\n",
       " 'at least you know your president is not gay obama',\n",
       " 'why why why have u let feinstein stop the vote for judge kavanaugh with a coney letter she had since july and have u seen the letter she is not someone to talk after her yr spy no one has investigated',\n",
       " 'lmao conservatives lecturing about conspiracy theories that is funny',\n",
       " 'conservatives not showing support on nafta talks gives the us more power  they are not doing our country any favours by publicly criticizing the ongoing talks for their own political gain',\n",
       " 'exactly  from what he is describing it is like two steps forward and three steps back',\n",
       " 'do not  get on here saying that type of dumb shit',\n",
       " 'tells us she is an unserious attention seeker    iphone',\n",
       " 'fighting the lies with one letter  q qanon qarmy maga wethepeople followthewhiterabbit wwgwga spygate redwaverising enoughisenough walkaway propaganda',\n",
       " 'yeahhhhh i will admit to being a destiny  cayde liker but god they just made him suck in',\n",
       " 'now following all the patriots that i was not  already following let is mag and kag and vote red together thank you all',\n",
       " 'we have nothing to lose in dumping rump asap he is a menace',\n",
       " 'i am  not the one deleting my tweets so people can not  see the unprompted and unwarranted undeserved personal attack you commenced our interaction with  and how and why you got so far up my nose that i responded in the kind of language you are clearly more familiar with than i',\n",
       " 'the maga s',\n",
       " 'always looking for faults and forgetting to look at the whole picture  journalism objective reporting is dead as now everyone is a pundit subjective expert',\n",
       " 'oh well its tje liberals and socialists who have made drug addiction fashionable and doable with free supplies how bout some  for diabetics who face ongoing supply costs no  but we forced to pay for these losers',\n",
       " 'republicans need to stop being such push overs  this is war  maga  walkaway  iamalexjones  kavanaugh  ppc',\n",
       " 'inviting war criminals to canada is what parliament does when ever its requested by british military intelligence i bet they told our parliament to take in this latest batch of war criminals you vote for this treason omar',\n",
       " 'i think she is great',\n",
       " 'how wonderful to see our president on the ground in new burn nc handing out hot meals and spending time with the hurricane victims rare site to see a us president who cares so much about the american people we love you  so thankful for your service to our country maga',\n",
       " 'she is one of satan is daughters',\n",
       " 'you must be talking about hateful conservatives',\n",
       " 'she is great',\n",
       " 'bit of a celebrity my ass',\n",
       " 'poor tiffany  the best of the trumps she is for sure',\n",
       " 'prepare for the midterms by reading creating the declaration of independence by  to understand what made america great in the first place  maga kag',\n",
       " 'finally god bless them we need more of this advocacy',\n",
       " 'establishment turd  conservatives have a much better memory than liberals we do not  have eyes full of hypocrisy blinding us',\n",
       " 'the dems playing a con game it must be antifa do not  you think',\n",
       " 'people are dead after shooting spree in california and lord forbid we should talk about common sense gun control measuresoh no',\n",
       " 'i do not  know what you are trying to say with that ahah',\n",
       " 'interesting somehow the local liberal government has no responsibility in taking care of the local people',\n",
       " 'lmao you call this courage  courageous act will be she tearing apart say quran and then you claiming she is your kind of woman  majority of hindus still do not  get offended by such acts no matter what msm is showing these days',\n",
       " 'and the bullhit just keep coming so we are  expected to just accept these allegations for their face value the left swamp plot thickens we need to out the offenders once and for all confirmkavanaugh maga',\n",
       " 'a and putting an end to these antifa fuckwits pardon the language',\n",
       " 'you are not in touch with really',\n",
       " 'antifa gets shot right in the nuts  phoenix  gas can  via   now there is a challenge for a noscope kraber',\n",
       " 'it started with marco rubio and other conservatives',\n",
       " 'more fear tactics to make people attack her it is bullshit',\n",
       " 'yeah most antifa are americans and still they advocate for an ideology that will destroy our great country that makes them traitors and should be treated as such',\n",
       " 'it is the people that should not  have them that is the problem exactly that is gun control keeping them out of the hands of those who should not  have them',\n",
       " 'she is a master at twisting words and meaning',\n",
       " 'they only reason they believe her is because she is sabotaging kavanaughs chances of being a supreme court justice these elitists and radical liberals will do anything to sabotage trumps presidency',\n",
       " ...]"
      ]
     },
     "execution_count": 88,
     "metadata": {},
     "output_type": "execute_result"
    }
   ],
   "source": [
    "X_train"
   ]
  },
  {
   "cell_type": "code",
   "execution_count": 89,
   "id": "l19iKPERrTNM",
   "metadata": {
    "id": "l19iKPERrTNM"
   },
   "outputs": [],
   "source": [
    "# final_features = sentiment_analysis_array(tweets)\n",
    "# final_test_features=sentiment_analysis_array(test_tweets)\n",
    "\n",
    "\n",
    "train_sentiments=sentiment_analysis_array(X_train)\n",
    "val_sentiments=sentiment_analysis_array(X_val)\n",
    "# test_sentiments=sentiment_analysis_array(testset[\"tweet\"])"
   ]
  },
  {
   "cell_type": "code",
   "execution_count": 90,
   "id": "f5JGrlOZOEuC",
   "metadata": {
    "colab": {
     "base_uri": "https://localhost:8080/"
    },
    "id": "f5JGrlOZOEuC",
    "outputId": "8c83ecd5-6598-478c-bb93-f3ce842b4ad7"
   },
   "outputs": [
    {
     "name": "stdout",
     "output_type": "stream",
     "text": [
      "(8870, 4)\n",
      "(4370, 4)\n"
     ]
    }
   ],
   "source": [
    "print(train_sentiments.shape)\n",
    "print(val_sentiments.shape)\n",
    "# print(test_sentiments.shape)"
   ]
  },
  {
   "cell_type": "code",
   "execution_count": 91,
   "id": "oZrNlwsLOo8P",
   "metadata": {
    "id": "oZrNlwsLOo8P"
   },
   "outputs": [],
   "source": [
    "X_train_tfidf = vectorizer.fit_transform(X_train)\n",
    "X_val_tfidf=vectorizer.transform(X_val)\n",
    "# X_test_tfidf=vectorizer.transform(list(testset[\"tweet\"]))"
   ]
  },
  {
   "cell_type": "code",
   "execution_count": 92,
   "id": "WfK9GQPmO5gs",
   "metadata": {
    "id": "WfK9GQPmO5gs"
   },
   "outputs": [],
   "source": [
    "X_train_tfidf = X_train_tfidf.toarray()\n",
    "\n",
    "X_val_tfidf= X_val_tfidf.toarray()\n",
    "# X_test_tfidf= X_test_tfidf.toarray()"
   ]
  },
  {
   "cell_type": "code",
   "execution_count": 93,
   "id": "pSLQLFc4rnqw",
   "metadata": {
    "colab": {
     "base_uri": "https://localhost:8080/"
    },
    "id": "pSLQLFc4rnqw",
    "outputId": "b7204e4e-bbdb-486e-9bda-c0e4551c5455"
   },
   "outputs": [
    {
     "name": "stdout",
     "output_type": "stream",
     "text": [
      "(8870, 15771)\n",
      "(4370, 15771)\n"
     ]
    }
   ],
   "source": [
    "x_train_sentiment=np.concatenate([X_train_tfidf,train_sentiments],axis=1)\n",
    "x_val_sentiment=np.concatenate([X_val_tfidf,val_sentiments],axis=1)\n",
    "# x_test_sentiment=np.concatenate([X_test_tfidf,test_sentiments],axis=1)\n",
    "\n",
    "\n",
    "print(x_train_sentiment.shape)\n",
    "print(x_val_sentiment.shape)\n",
    "# print(x_test_sentiment.shape)"
   ]
  },
  {
   "cell_type": "code",
   "execution_count": 94,
   "id": "6HODZpJ8QOjj",
   "metadata": {
    "id": "6HODZpJ8QOjj"
   },
   "outputs": [],
   "source": [
    "dict_sentiment_models={}\n",
    "dict_sentiment_report={}"
   ]
  },
  {
   "cell_type": "code",
   "execution_count": 95,
   "id": "cMPR_N6XTSy2",
   "metadata": {
    "colab": {
     "base_uri": "https://localhost:8080/"
    },
    "id": "cMPR_N6XTSy2",
    "outputId": "0d5099e2-dc99-47e8-f899-598d8cd5a3f6"
   },
   "outputs": [
    {
     "name": "stdout",
     "output_type": "stream",
     "text": [
      "              precision    recall  f1-score   support\n",
      "\n",
      "         NOT       0.77      0.91      0.84      2903\n",
      "         OFF       0.72      0.48      0.58      1467\n",
      "\n",
      "    accuracy                           0.76      4370\n",
      "   macro avg       0.75      0.69      0.71      4370\n",
      "weighted avg       0.76      0.76      0.75      4370\n",
      "\n",
      "Logistic Regression,Accuracy Score: 0.762700228832952\n"
     ]
    }
   ],
   "source": [
    "model = LogisticRegression().fit(x_train_sentiment,y_train)\n",
    "y_preds = model.predict(x_val_sentiment)\n",
    "report = classification_report( y_val, y_preds )\n",
    "print(report)\n",
    "acc=accuracy_score(y_val,y_preds)\n",
    "print(\"Logistic Regression,Accuracy Score:\" , acc)"
   ]
  },
  {
   "cell_type": "code",
   "execution_count": 109,
   "id": "b07895b6",
   "metadata": {},
   "outputs": [
    {
     "name": "stdout",
     "output_type": "stream",
     "text": [
      "              precision    recall  f1-score   support\n",
      "\n",
      "         NOT       0.81      0.96      0.88      5937\n",
      "         OFF       0.86      0.55      0.67      2933\n",
      "\n",
      "    accuracy                           0.82      8870\n",
      "   macro avg       0.84      0.76      0.78      8870\n",
      "weighted avg       0.83      0.82      0.81      8870\n",
      "\n"
     ]
    }
   ],
   "source": [
    "y_train_pred=model.predict(x_train_sentiment)\n",
    "report = classification_report( y_train, y_train_pred )\n",
    "print(report)"
   ]
  },
  {
   "cell_type": "code",
   "execution_count": 100,
   "id": "88e5d3c6",
   "metadata": {},
   "outputs": [
    {
     "data": {
      "text/plain": [
       "8870"
      ]
     },
     "execution_count": 100,
     "metadata": {},
     "output_type": "execute_result"
    }
   ],
   "source": [
    "len(y_train)"
   ]
  },
  {
   "cell_type": "code",
   "execution_count": 108,
   "id": "c4eeb855",
   "metadata": {},
   "outputs": [],
   "source": [
    "for i in range(len(y_train)):\n",
    "    if y_train[i]==0:\n",
    "        y_train[i]=\"OFF\"\n",
    "        \n",
    "    else:\n",
    "        y_train[i]=\"NOT\""
   ]
  },
  {
   "cell_type": "code",
   "execution_count": 104,
   "id": "b2cac196",
   "metadata": {},
   "outputs": [],
   "source": [
    "from sklearn.model_selection import cross_validate\n",
    "def cross_validation(model, _X, _y, _cv=3):\n",
    "      '''Function to perform 5 Folds Cross-Validation\n",
    "       Parameters\n",
    "       ----------\n",
    "      model: Python Class, default=None\n",
    "              This is the machine learning algorithm to be used for training.\n",
    "      _X: array\n",
    "           This is the matrix of features.\n",
    "      _y: array\n",
    "           This is the target variable.\n",
    "      _cv: int, default=5\n",
    "          Determines the number of folds for cross-validation.\n",
    "       Returns\n",
    "       -------\n",
    "       The function returns a dictionary containing the metrics 'accuracy', 'precision',\n",
    "       'recall', 'f1' for both training set and validation set.\n",
    "      '''\n",
    "      _scoring = ['accuracy', 'precision', 'recall', 'f1_macro']\n",
    "      results = cross_validate(estimator=model,\n",
    "                               X=_X,\n",
    "                               y=_y,\n",
    "                               cv=_cv,\n",
    "                               scoring=_scoring,\n",
    "                               return_train_score=True)\n",
    "      \n",
    "      return results"
   ]
  },
  {
   "cell_type": "code",
   "execution_count": 105,
   "id": "cdf6134b",
   "metadata": {},
   "outputs": [
    {
     "name": "stdout",
     "output_type": "stream",
     "text": [
      "{'fit_time': array([11.38905907, 10.67964721, 11.03497148]), 'score_time': array([0.21331906, 0.2031188 , 0.21007323]), 'test_accuracy': array([0.7456882 , 0.74940818, 0.75507442]), 'train_accuracy': array([0.82310164, 0.82513107, 0.82144065]), 'test_precision': array([0.75701718, 0.76074136, 0.76421053]), 'train_precision': array([0.81392842, 0.81252672, 0.80991029]), 'test_recall': array([0.91308742, 0.91258211, 0.91712986]), 'train_recall': array([0.95376453, 0.9603335 , 0.95805963]), 'test_f1_macro': array([0.67098592, 0.67753843, 0.6845089 ]), 'train_f1_macro': array([0.77723824, 0.77806536, 0.77326781])}\n"
     ]
    }
   ],
   "source": [
    "print(cross_validation(model, x_train_sentiment, y_train))"
   ]
  },
  {
   "cell_type": "code",
   "execution_count": 110,
   "id": "kTDB89TcQYXo",
   "metadata": {
    "id": "kTDB89TcQYXo"
   },
   "outputs": [],
   "source": [
    "dict_sentiment_models[\"logistic\"]=model\n",
    "dict_sentiment_report[\"logistic\"]=report"
   ]
  },
  {
   "cell_type": "code",
   "execution_count": null,
   "id": "79b9d6a9",
   "metadata": {},
   "outputs": [],
   "source": []
  },
  {
   "cell_type": "code",
   "execution_count": null,
   "id": "baRs-hjYQOE0",
   "metadata": {
    "id": "baRs-hjYQOE0"
   },
   "outputs": [],
   "source": []
  },
  {
   "cell_type": "code",
   "execution_count": 112,
   "id": "KA_yySj7Ts9_",
   "metadata": {
    "colab": {
     "base_uri": "https://localhost:8080/"
    },
    "id": "KA_yySj7Ts9_",
    "outputId": "cbb674b3-b066-4934-e1eb-c85935fddc0d"
   },
   "outputs": [
    {
     "name": "stderr",
     "output_type": "stream",
     "text": [
      "\n",
      "KeyboardInterrupt\n",
      "\n"
     ]
    }
   ],
   "source": [
    "# rf=RandomForestClassifier()\n",
    "# rf.fit(x_train_sentiment,y_train)\n",
    "# y_preds = rf.predict(x_val_sentiment)\n",
    "# acc1=accuracy_score(y_val,y_preds)\n",
    "# report = classification_report( y_val, y_preds )\n",
    "# print(report)\n",
    "# print(\"Random Forest, Accuracy Score:\",acc1)"
   ]
  },
  {
   "cell_type": "code",
   "execution_count": null,
   "id": "93179a43",
   "metadata": {},
   "outputs": [],
   "source": [
    "# y_train_pred=model.predict(x_train_sentiment)\n",
    "# report = classification_report( y_train, y_train_pred )\n",
    "# print(report)"
   ]
  },
  {
   "cell_type": "code",
   "execution_count": 113,
   "id": "49A7t4BDUCZx",
   "metadata": {
    "colab": {
     "base_uri": "https://localhost:8080/"
    },
    "id": "49A7t4BDUCZx",
    "outputId": "fac5b208-8319-46aa-b2f9-7aa101c3e620"
   },
   "outputs": [
    {
     "name": "stdout",
     "output_type": "stream",
     "text": [
      "              precision    recall  f1-score   support\n",
      "\n",
      "         NOT       0.79      0.86      0.83      2903\n",
      "         OFF       0.67      0.54      0.60      1467\n",
      "\n",
      "    accuracy                           0.76      4370\n",
      "   macro avg       0.73      0.70      0.71      4370\n",
      "weighted avg       0.75      0.76      0.75      4370\n",
      "\n",
      "SVM, Accuracy Score: 0.7565217391304347\n"
     ]
    }
   ],
   "source": [
    "support =LinearSVC(random_state=20)\n",
    "support.fit(x_train_sentiment,y_train)\n",
    "y_preds = support.predict(x_val_sentiment)\n",
    "acc3=accuracy_score(y_val,y_preds)\n",
    "report = classification_report( y_val, y_preds )\n",
    "print(report)\n",
    "\n",
    "print(\"SVM, Accuracy Score:\" , acc3)\n",
    "\n",
    "\n",
    "dict_sentiment_models[\"svm\"]=support\n",
    "dict_sentiment_report[\"svm\"]=report"
   ]
  },
  {
   "cell_type": "code",
   "execution_count": 114,
   "id": "bcc26341",
   "metadata": {},
   "outputs": [
    {
     "name": "stdout",
     "output_type": "stream",
     "text": [
      "              precision    recall  f1-score   support\n",
      "\n",
      "         NOT       0.81      0.96      0.88      5937\n",
      "         OFF       0.86      0.55      0.67      2933\n",
      "\n",
      "    accuracy                           0.82      8870\n",
      "   macro avg       0.84      0.76      0.78      8870\n",
      "weighted avg       0.83      0.82      0.81      8870\n",
      "\n"
     ]
    }
   ],
   "source": [
    "y_train_pred=model.prefdict(x_train_sentiment)\n",
    "report = classification_report( y_train, y_train_pred )\n",
    "print(report)"
   ]
  },
  {
   "cell_type": "code",
   "execution_count": 115,
   "id": "cVQnaMvzU2D7",
   "metadata": {
    "colab": {
     "base_uri": "https://localhost:8080/"
    },
    "id": "cVQnaMvzU2D7",
    "outputId": "d345a9e5-2829-4e58-9b2b-fa0cc6446d31"
   },
   "outputs": [
    {
     "name": "stdout",
     "output_type": "stream",
     "text": [
      "              precision    recall  f1-score   support\n",
      "\n",
      "         NOT       0.79      0.86      0.83      2903\n",
      "         OFF       0.67      0.54      0.60      1467\n",
      "\n",
      "    accuracy                           0.76      4370\n",
      "   macro avg       0.73      0.70      0.71      4370\n",
      "weighted avg       0.75      0.76      0.75      4370\n",
      "\n",
      "passive aggressive classifier accuracy: 0.7565217391304347\n"
     ]
    }
   ],
   "source": [
    "model_pa = PassiveAggressiveClassifier(C = 0.6, random_state = 5)\n",
    "model_pa.fit(x_train_sentiment,y_train)\n",
    "y_preds = support.predict(x_val_sentiment)\n",
    "acc3=accuracy_score(y_val,y_preds)\n",
    "report = classification_report( y_val, y_preds )\n",
    "print(report)\n",
    "print(\"passive aggressive classifier accuracy:\" , acc3)\n",
    "\n",
    "dict_sentiment_models[\"pa\"]=model_pa\n",
    "dict_sentiment_report[\"pa\"]=report"
   ]
  },
  {
   "cell_type": "code",
   "execution_count": 116,
   "id": "9d3228d9",
   "metadata": {},
   "outputs": [
    {
     "name": "stdout",
     "output_type": "stream",
     "text": [
      "              precision    recall  f1-score   support\n",
      "\n",
      "         NOT       0.81      0.96      0.88      5937\n",
      "         OFF       0.86      0.55      0.67      2933\n",
      "\n",
      "    accuracy                           0.82      8870\n",
      "   macro avg       0.84      0.76      0.78      8870\n",
      "weighted avg       0.83      0.82      0.81      8870\n",
      "\n"
     ]
    }
   ],
   "source": [
    "y_train_pred=model.predict(x_train_sentiment)\n",
    "report = classification_report( y_train, y_train_pred )\n",
    "print(report)"
   ]
  },
  {
   "cell_type": "code",
   "execution_count": 117,
   "id": "03epS8oqVfSb",
   "metadata": {
    "colab": {
     "base_uri": "https://localhost:8080/"
    },
    "id": "03epS8oqVfSb",
    "outputId": "8ddf4fb3-aaf6-41e5-edea-47be56c2fa1f"
   },
   "outputs": [
    {
     "data": {
      "text/plain": [
       "{'logistic': '              precision    recall  f1-score   support\\n\\n         NOT       0.81      0.96      0.88      5937\\n         OFF       0.86      0.55      0.67      2933\\n\\n    accuracy                           0.82      8870\\n   macro avg       0.84      0.76      0.78      8870\\nweighted avg       0.83      0.82      0.81      8870\\n',\n",
       " 'svm': '              precision    recall  f1-score   support\\n\\n         NOT       0.79      0.86      0.83      2903\\n         OFF       0.67      0.54      0.60      1467\\n\\n    accuracy                           0.76      4370\\n   macro avg       0.73      0.70      0.71      4370\\nweighted avg       0.75      0.76      0.75      4370\\n',\n",
       " 'pa': '              precision    recall  f1-score   support\\n\\n         NOT       0.79      0.86      0.83      2903\\n         OFF       0.67      0.54      0.60      1467\\n\\n    accuracy                           0.76      4370\\n   macro avg       0.73      0.70      0.71      4370\\nweighted avg       0.75      0.76      0.75      4370\\n'}"
      ]
     },
     "execution_count": 117,
     "metadata": {},
     "output_type": "execute_result"
    }
   ],
   "source": [
    "dict_sentiment_report"
   ]
  },
  {
   "cell_type": "code",
   "execution_count": 118,
   "id": "cWJ9rlPZSaf8",
   "metadata": {
    "colab": {
     "base_uri": "https://localhost:8080/"
    },
    "id": "cWJ9rlPZSaf8",
    "outputId": "dbc246c4-5c38-4fb0-d4e2-21c540204576"
   },
   "outputs": [
    {
     "data": {
      "text/plain": [
       "{'logistic': LogisticRegression(),\n",
       " 'svm': LinearSVC(random_state=20),\n",
       " 'pa': PassiveAggressiveClassifier(C=0.6, random_state=5)}"
      ]
     },
     "execution_count": 118,
     "metadata": {},
     "output_type": "execute_result"
    }
   ],
   "source": [
    "dict_sentiment_models"
   ]
  },
  {
   "cell_type": "code",
   "execution_count": 119,
   "id": "W46XaSRwSecU",
   "metadata": {
    "id": "W46XaSRwSecU"
   },
   "outputs": [],
   "source": [
    "models_list=['logistic', 'svm', 'pa']\n",
    "\n",
    "dict_outputs_sentiment={\"test\":{}, \"val\": {}}"
   ]
  },
  {
   "cell_type": "code",
   "execution_count": 121,
   "id": "YulBCG0sTrii",
   "metadata": {
    "id": "YulBCG0sTrii"
   },
   "outputs": [],
   "source": [
    "for model in models_list:\n",
    "    dict_outputs_sentiment[\"val\"][model]=dict_sentiment_models[model].predict(x_val_sentiment)"
   ]
  },
  {
   "cell_type": "code",
   "execution_count": 122,
   "id": "U5htB4WIUc26",
   "metadata": {
    "id": "U5htB4WIUc26"
   },
   "outputs": [],
   "source": [
    "# list_test_preds=np.array(list(dict_outputs_sentiment[\"test\"].values()))\n",
    "list_val_preds=np.array(list(dict_outputs_sentiment[\"val\"].values()))"
   ]
  },
  {
   "cell_type": "code",
   "execution_count": 123,
   "id": "rWp8MhVOUWYv",
   "metadata": {
    "id": "rWp8MhVOUWYv"
   },
   "outputs": [],
   "source": [
    "majority_val_prediction=majority_prediction(list_val_preds)\n",
    "# majority_test_prediction=majority_prediction(list_test_preds)"
   ]
  },
  {
   "cell_type": "code",
   "execution_count": 124,
   "id": "WEEgqxEYUsD1",
   "metadata": {
    "colab": {
     "base_uri": "https://localhost:8080/"
    },
    "id": "WEEgqxEYUsD1",
    "outputId": "d575ddde-2772-4291-c2a9-d92a45fe5371"
   },
   "outputs": [
    {
     "name": "stdout",
     "output_type": "stream",
     "text": [
      "              precision    recall  f1-score   support\n",
      "\n",
      "         NOT       0.79      0.87      0.83      2903\n",
      "         OFF       0.67      0.54      0.60      1467\n",
      "\n",
      "    accuracy                           0.76      4370\n",
      "   macro avg       0.73      0.70      0.71      4370\n",
      "weighted avg       0.75      0.76      0.75      4370\n",
      "\n"
     ]
    }
   ],
   "source": [
    "print(classification_report(y_val, majority_val_prediction))"
   ]
  },
  {
   "cell_type": "code",
   "execution_count": null,
   "id": "OPKSB4kzUvCP",
   "metadata": {
    "colab": {
     "base_uri": "https://localhost:8080/"
    },
    "id": "OPKSB4kzUvCP",
    "outputId": "6c3fb07b-8666-42b1-d26b-1ed79f238abb"
   },
   "outputs": [
    {
     "name": "stdout",
     "output_type": "stream",
     "text": [
      "              precision    recall  f1-score   support\n",
      "\n",
      "         NOT       0.83      0.93      0.88       620\n",
      "         OFF       0.74      0.50      0.60       240\n",
      "\n",
      "    accuracy                           0.81       860\n",
      "   macro avg       0.78      0.72      0.74       860\n",
      "weighted avg       0.80      0.81      0.80       860\n",
      "\n"
     ]
    }
   ],
   "source": [
    "# print(classification_report(testset[\"truelabel\"], majority_test_prediction))"
   ]
  },
  {
   "cell_type": "code",
   "execution_count": 125,
   "id": "fo5HicKoXzfo",
   "metadata": {
    "id": "fo5HicKoXzfo"
   },
   "outputs": [],
   "source": [
    "X_train, X_val, y_train, y_val = train_test_split(trainset[\"tweet\"], trainset[\"label\"], test_size=0.33, random_state=42)\n",
    "X_train, X_val, y_train, y_val=list(X_train), list(X_val), list(y_train), list(y_val)"
   ]
  },
  {
   "cell_type": "code",
   "execution_count": 126,
   "id": "JUuf2dQIX6Tv",
   "metadata": {
    "id": "JUuf2dQIX6Tv"
   },
   "outputs": [],
   "source": [
    "train_sentiments=sentiment_analysis_array(X_train)\n",
    "val_sentiments=sentiment_analysis_array(X_val)\n",
    "# test_sentiments=sentiment_analysis_array(testset[\"tweet\"])"
   ]
  },
  {
   "cell_type": "code",
   "execution_count": 127,
   "id": "eyhR04owaJ6o",
   "metadata": {
    "id": "eyhR04owaJ6o"
   },
   "outputs": [],
   "source": [
    "trainval_sentiments=sentiment_analysis_array(trainset[\"tweet\"])"
   ]
  },
  {
   "cell_type": "code",
   "execution_count": 128,
   "id": "60v20oR0YZ0v",
   "metadata": {
    "id": "60v20oR0YZ0v"
   },
   "outputs": [],
   "source": [
    "X_train_tfidf = vectorizer.fit_transform(X_train)\n",
    "X_val_tfidf=vectorizer.transform(X_val)\n",
    "# X_test_tfidf=vectorizer.transform(list(testset[\"tweet\"]))"
   ]
  },
  {
   "cell_type": "code",
   "execution_count": 129,
   "id": "94pzVciraW2f",
   "metadata": {
    "id": "94pzVciraW2f"
   },
   "outputs": [],
   "source": [
    "X_trainval_tfidf=vectorizer.transform(list(trainset[\"tweet\"]))"
   ]
  },
  {
   "cell_type": "code",
   "execution_count": 130,
   "id": "oldaxFGpYfYp",
   "metadata": {
    "id": "oldaxFGpYfYp"
   },
   "outputs": [],
   "source": [
    "X_train_tfidf = X_train_tfidf.toarray()\n",
    "\n",
    "X_val_tfidf= X_val_tfidf.toarray()\n",
    "# X_test_tfidf= X_test_tfidf.toarray()\n"
   ]
  },
  {
   "cell_type": "code",
   "execution_count": 131,
   "id": "kuAtGTfdacuA",
   "metadata": {
    "id": "kuAtGTfdacuA"
   },
   "outputs": [],
   "source": [
    "X_trainval_tfidf=X_trainval_tfidf.toarray()"
   ]
  },
  {
   "cell_type": "code",
   "execution_count": 132,
   "id": "EO8zpxhXYl-z",
   "metadata": {
    "id": "EO8zpxhXYl-z"
   },
   "outputs": [],
   "source": [
    "train_data = []\n",
    "\n",
    "for tweet in X_train:\n",
    "  for i in sent_tokenize(tweet):\n",
    "    temp=[]\n",
    "\n",
    "    for j in word_tokenize(i):\n",
    "      temp.append(j.lower())\n",
    "    train_data.append(temp)"
   ]
  },
  {
   "cell_type": "code",
   "execution_count": 133,
   "id": "ZuG7yO22ZA_4",
   "metadata": {
    "colab": {
     "base_uri": "https://localhost:8080/"
    },
    "id": "ZuG7yO22ZA_4",
    "outputId": "f1e5c9fd-ad67-43af-aba7-4660a63ad919"
   },
   "outputs": [
    {
     "name": "stderr",
     "output_type": "stream",
     "text": [
      "C:\\Users\\udit1\\AppData\\Local\\Temp\\ipykernel_17912\\2430969041.py:1: VisibleDeprecationWarning: Creating an ndarray from ragged nested sequences (which is a list-or-tuple of lists-or-tuples-or ndarrays with different lengths or shapes) is deprecated. If you meant to do this, you must specify 'dtype=object' when creating the ndarray.\n",
      "  np.array(train_data).shape\n"
     ]
    },
    {
     "data": {
      "text/plain": [
       "(8870,)"
      ]
     },
     "execution_count": 133,
     "metadata": {},
     "output_type": "execute_result"
    }
   ],
   "source": [
    "np.array(train_data).shape"
   ]
  },
  {
   "cell_type": "code",
   "execution_count": 134,
   "id": "czbXKWIldIC2",
   "metadata": {
    "id": "czbXKWIldIC2"
   },
   "outputs": [],
   "source": [
    "# create doc2vec vector columns\n",
    "# Initialize and train the model\n",
    "\n",
    "#The input for a Doc2Vec model should be a list of TaggedDocument(['list','of','word'], [TAG_001]). \n",
    "#A good practice is using the indexes of sentences as the tags.\n",
    "documents = [TaggedDocument(doc, [i]) for i, doc in enumerate(trainset[\"tweet\"].apply(lambda x: x.split(\" \")))]"
   ]
  },
  {
   "cell_type": "code",
   "execution_count": 135,
   "id": "7gkMstFVsCVp",
   "metadata": {
    "id": "7gkMstFVsCVp"
   },
   "outputs": [],
   "source": [
    "# documents_test= [TaggedDocument(doc, [i]) for i, doc in enumerate(testset[\"tweet\"].apply(lambda x: x.split(\" \")))]"
   ]
  },
  {
   "cell_type": "code",
   "execution_count": 136,
   "id": "tE66vKCleb4p",
   "metadata": {
    "colab": {
     "base_uri": "https://localhost:8080/"
    },
    "id": "tE66vKCleb4p",
    "outputId": "8af8fea5-930e-41c6-8892-11657f3011bb"
   },
   "outputs": [
    {
     "data": {
      "text/plain": [
       "TaggedDocument(words=['liberals', 'are', 'all', 'kookoo'], tags=[5])"
      ]
     },
     "execution_count": 136,
     "metadata": {},
     "output_type": "execute_result"
    }
   ],
   "source": [
    "documents[5]"
   ]
  },
  {
   "cell_type": "code",
   "execution_count": 137,
   "id": "_bea4rKAed61",
   "metadata": {
    "colab": {
     "base_uri": "https://localhost:8080/",
     "height": 441
    },
    "id": "_bea4rKAed61",
    "outputId": "a62ed8bb-9598-46b7-88dc-3a24d12df31c"
   },
   "outputs": [
    {
     "data": {
      "text/html": [
       "<div>\n",
       "<style scoped>\n",
       "    .dataframe tbody tr th:only-of-type {\n",
       "        vertical-align: middle;\n",
       "    }\n",
       "\n",
       "    .dataframe tbody tr th {\n",
       "        vertical-align: top;\n",
       "    }\n",
       "\n",
       "    .dataframe thead th {\n",
       "        text-align: right;\n",
       "    }\n",
       "</style>\n",
       "<table border=\"1\" class=\"dataframe\">\n",
       "  <thead>\n",
       "    <tr style=\"text-align: right;\">\n",
       "      <th></th>\n",
       "      <th>doc2vec_vector_0</th>\n",
       "      <th>doc2vec_vector_1</th>\n",
       "      <th>doc2vec_vector_2</th>\n",
       "      <th>doc2vec_vector_3</th>\n",
       "      <th>doc2vec_vector_4</th>\n",
       "    </tr>\n",
       "  </thead>\n",
       "  <tbody>\n",
       "    <tr>\n",
       "      <th>0</th>\n",
       "      <td>0.102389</td>\n",
       "      <td>0.076852</td>\n",
       "      <td>0.002161</td>\n",
       "      <td>0.152961</td>\n",
       "      <td>0.050581</td>\n",
       "    </tr>\n",
       "    <tr>\n",
       "      <th>1</th>\n",
       "      <td>-0.032990</td>\n",
       "      <td>0.063043</td>\n",
       "      <td>0.119768</td>\n",
       "      <td>0.085978</td>\n",
       "      <td>-0.072681</td>\n",
       "    </tr>\n",
       "    <tr>\n",
       "      <th>2</th>\n",
       "      <td>0.675319</td>\n",
       "      <td>0.127533</td>\n",
       "      <td>0.693909</td>\n",
       "      <td>-0.545737</td>\n",
       "      <td>-0.316598</td>\n",
       "    </tr>\n",
       "    <tr>\n",
       "      <th>3</th>\n",
       "      <td>0.034878</td>\n",
       "      <td>0.065100</td>\n",
       "      <td>-0.001657</td>\n",
       "      <td>-0.115279</td>\n",
       "      <td>-0.132372</td>\n",
       "    </tr>\n",
       "    <tr>\n",
       "      <th>4</th>\n",
       "      <td>0.120925</td>\n",
       "      <td>0.103360</td>\n",
       "      <td>0.134708</td>\n",
       "      <td>0.118980</td>\n",
       "      <td>0.021685</td>\n",
       "    </tr>\n",
       "    <tr>\n",
       "      <th>...</th>\n",
       "      <td>...</td>\n",
       "      <td>...</td>\n",
       "      <td>...</td>\n",
       "      <td>...</td>\n",
       "      <td>...</td>\n",
       "    </tr>\n",
       "    <tr>\n",
       "      <th>13235</th>\n",
       "      <td>0.023730</td>\n",
       "      <td>0.023792</td>\n",
       "      <td>0.225468</td>\n",
       "      <td>-0.377667</td>\n",
       "      <td>0.003902</td>\n",
       "    </tr>\n",
       "    <tr>\n",
       "      <th>13236</th>\n",
       "      <td>0.119499</td>\n",
       "      <td>-0.010589</td>\n",
       "      <td>0.259035</td>\n",
       "      <td>0.005836</td>\n",
       "      <td>-0.042545</td>\n",
       "    </tr>\n",
       "    <tr>\n",
       "      <th>13237</th>\n",
       "      <td>-0.221585</td>\n",
       "      <td>0.126054</td>\n",
       "      <td>-0.048132</td>\n",
       "      <td>0.172517</td>\n",
       "      <td>-0.115095</td>\n",
       "    </tr>\n",
       "    <tr>\n",
       "      <th>13238</th>\n",
       "      <td>0.103950</td>\n",
       "      <td>0.120668</td>\n",
       "      <td>0.043100</td>\n",
       "      <td>-0.012822</td>\n",
       "      <td>0.011565</td>\n",
       "    </tr>\n",
       "    <tr>\n",
       "      <th>13239</th>\n",
       "      <td>0.307948</td>\n",
       "      <td>0.151662</td>\n",
       "      <td>0.380705</td>\n",
       "      <td>-0.302326</td>\n",
       "      <td>-0.246422</td>\n",
       "    </tr>\n",
       "  </tbody>\n",
       "</table>\n",
       "<p>13240 rows × 5 columns</p>\n",
       "</div>"
      ],
      "text/plain": [
       "       doc2vec_vector_0  doc2vec_vector_1  doc2vec_vector_2  doc2vec_vector_3  \\\n",
       "0              0.102389          0.076852          0.002161          0.152961   \n",
       "1             -0.032990          0.063043          0.119768          0.085978   \n",
       "2              0.675319          0.127533          0.693909         -0.545737   \n",
       "3              0.034878          0.065100         -0.001657         -0.115279   \n",
       "4              0.120925          0.103360          0.134708          0.118980   \n",
       "...                 ...               ...               ...               ...   \n",
       "13235          0.023730          0.023792          0.225468         -0.377667   \n",
       "13236          0.119499         -0.010589          0.259035          0.005836   \n",
       "13237         -0.221585          0.126054         -0.048132          0.172517   \n",
       "13238          0.103950          0.120668          0.043100         -0.012822   \n",
       "13239          0.307948          0.151662          0.380705         -0.302326   \n",
       "\n",
       "       doc2vec_vector_4  \n",
       "0              0.050581  \n",
       "1             -0.072681  \n",
       "2             -0.316598  \n",
       "3             -0.132372  \n",
       "4              0.021685  \n",
       "...                 ...  \n",
       "13235          0.003902  \n",
       "13236         -0.042545  \n",
       "13237         -0.115095  \n",
       "13238          0.011565  \n",
       "13239         -0.246422  \n",
       "\n",
       "[13240 rows x 5 columns]"
      ]
     },
     "execution_count": 137,
     "metadata": {},
     "output_type": "execute_result"
    }
   ],
   "source": [
    "doc2vecmodel = Doc2Vec(documents, vector_size=5, window=2, min_count=1, workers=4)\n",
    "\n",
    "\n",
    "doc2vec_df = trainset[\"tweet\"].apply(lambda x: doc2vecmodel.infer_vector(x.split(\" \"))).apply(pd.Series)\n",
    "doc2vec_df.columns = [\"doc2vec_vector_\" + str(x) for x in doc2vec_df.columns]\n",
    "doc2vec_df"
   ]
  },
  {
   "cell_type": "code",
   "execution_count": 138,
   "id": "uQFd2wuAsSJ2",
   "metadata": {
    "colab": {
     "base_uri": "https://localhost:8080/",
     "height": 424
    },
    "id": "uQFd2wuAsSJ2",
    "outputId": "c8677304-173d-4a00-b7bc-540914efe672"
   },
   "outputs": [],
   "source": [
    "# doc2vec_df_test = testset[\"tweet\"].apply(lambda x: doc2vecmodel.infer_vector(x.split(\" \"))).apply(pd.Series)\n",
    "# doc2vec_df_test.columns = [\"doc2vec_vector_\" + str(x) for x in doc2vec_df_test.columns]\n",
    "# doc2vec_df_test"
   ]
  },
  {
   "cell_type": "code",
   "execution_count": 139,
   "id": "SB0ezpOaelIa",
   "metadata": {
    "colab": {
     "base_uri": "https://localhost:8080/"
    },
    "id": "SB0ezpOaelIa",
    "outputId": "ce719bb3-da0b-431a-ff00-7c0a3795ed09"
   },
   "outputs": [
    {
     "data": {
      "text/plain": [
       "(13240, 15776)"
      ]
     },
     "execution_count": 139,
     "metadata": {},
     "output_type": "execute_result"
    }
   ],
   "source": [
    "# conctaenation of tf-idf scores, sentiment scores and doc2vec columns\n",
    "train_doc2vec = np.concatenate([X_trainval_tfidf,trainval_sentiments,doc2vec_df],axis=1)\n",
    "train_doc2vec.shape"
   ]
  },
  {
   "cell_type": "code",
   "execution_count": 144,
   "id": "c1YBp1vzspLI",
   "metadata": {
    "colab": {
     "base_uri": "https://localhost:8080/"
    },
    "id": "c1YBp1vzspLI",
    "outputId": "baba758e-d1a4-46da-d971-ab5a04fee64c"
   },
   "outputs": [],
   "source": [
    "# test_doc2vec = np.concatenate([X_test_tfidf, test_sentiments,doc2vec_df_test],axis=1)\n",
    "# test_doc2vec.shape"
   ]
  },
  {
   "cell_type": "code",
   "execution_count": 145,
   "id": "p2LVAM4icNCL",
   "metadata": {
    "id": "p2LVAM4icNCL"
   },
   "outputs": [],
   "source": [
    "dict_doc2vec_models={}\n",
    "\n",
    "dict_doc2vec_report={}"
   ]
  },
  {
   "cell_type": "code",
   "execution_count": 146,
   "id": "hIxgk4JMfCKQ",
   "metadata": {
    "colab": {
     "base_uri": "https://localhost:8080/"
    },
    "id": "hIxgk4JMfCKQ",
    "outputId": "6ab8a048-12d4-4724-ee59-53d5083e3d1d"
   },
   "outputs": [
    {
     "name": "stdout",
     "output_type": "stream",
     "text": [
      "              precision    recall  f1-score   support\n",
      "\n",
      "         NOT       0.79      0.86      0.83      2903\n",
      "         OFF       0.67      0.55      0.60      1467\n",
      "\n",
      "    accuracy                           0.76      4370\n",
      "   macro avg       0.73      0.71      0.71      4370\n",
      "weighted avg       0.75      0.76      0.75      4370\n",
      "\n",
      "SVM, Accuracy Score: 0.7578947368421053\n"
     ]
    }
   ],
   "source": [
    "\n",
    "X = pd.DataFrame(train_doc2vec)\n",
    "y = trainset[\"label\"]\n",
    "X_train_bow, X_test_bow, y_train, y_test = train_test_split(X, y, random_state=42, test_size=0.33)\n",
    "\n",
    "support =LinearSVC(random_state=20)\n",
    "support.fit(X_train_bow,y_train)\n",
    "y_preds = support.predict(X_test_bow)\n",
    "acc3=accuracy_score(y_test,y_preds)\n",
    "report = classification_report( y_test, y_preds )\n",
    "print(report)\n",
    "\n",
    "print(\"SVM, Accuracy Score:\" , acc3)"
   ]
  },
  {
   "cell_type": "code",
   "execution_count": 148,
   "id": "u-OQqwkVs8IL",
   "metadata": {
    "colab": {
     "base_uri": "https://localhost:8080/"
    },
    "id": "u-OQqwkVs8IL",
    "outputId": "346f14ff-0b46-488b-8da6-35d3add3e1c9"
   },
   "outputs": [
    {
     "name": "stdout",
     "output_type": "stream",
     "text": [
      "              precision    recall  f1-score   support\n",
      "\n",
      "         NOT       0.96      0.98      0.97      5937\n",
      "         OFF       0.97      0.93      0.95      2933\n",
      "\n",
      "    accuracy                           0.96      8870\n",
      "   macro avg       0.96      0.95      0.96      8870\n",
      "weighted avg       0.96      0.96      0.96      8870\n",
      "\n",
      "SVM, Accuracy Score: 0.9645997745208568\n"
     ]
    }
   ],
   "source": [
    "y_preds = support.predict(X_train_bow)\n",
    "acc3=accuracy_score(y_train,y_preds)\n",
    "report = classification_report(y_train, y_preds )\n",
    "print(report)\n",
    "\n",
    "print(\"SVM, Accuracy Score:\" , acc3)"
   ]
  },
  {
   "cell_type": "code",
   "execution_count": 149,
   "id": "tJHx7jtwcf6_",
   "metadata": {
    "id": "tJHx7jtwcf6_"
   },
   "outputs": [],
   "source": [
    "dict_doc2vec_models[\"svm\"]=support\n",
    "\n",
    "dict_doc2vec_report[\"svm\"]=report"
   ]
  },
  {
   "cell_type": "code",
   "execution_count": 150,
   "id": "33L8gbP4jUkY",
   "metadata": {
    "colab": {
     "base_uri": "https://localhost:8080/"
    },
    "id": "33L8gbP4jUkY",
    "outputId": "7d37ecd1-4fa8-4203-a26d-2cc8c3f5a372"
   },
   "outputs": [
    {
     "name": "stderr",
     "output_type": "stream",
     "text": [
      "C:\\Users\\udit1\\AppData\\Roaming\\Python\\Python310\\site-packages\\sklearn\\linear_model\\_logistic.py:444: ConvergenceWarning: lbfgs failed to converge (status=1):\n",
      "STOP: TOTAL NO. of ITERATIONS REACHED LIMIT.\n",
      "\n",
      "Increase the number of iterations (max_iter) or scale the data as shown in:\n",
      "    https://scikit-learn.org/stable/modules/preprocessing.html\n",
      "Please also refer to the documentation for alternative solver options:\n",
      "    https://scikit-learn.org/stable/modules/linear_model.html#logistic-regression\n",
      "  n_iter_i = _check_optimize_result(\n"
     ]
    },
    {
     "name": "stdout",
     "output_type": "stream",
     "text": [
      "              precision    recall  f1-score   support\n",
      "\n",
      "         NOT       0.79      0.86      0.83      2903\n",
      "         OFF       0.67      0.55      0.60      1467\n",
      "\n",
      "    accuracy                           0.76      4370\n",
      "   macro avg       0.73      0.71      0.71      4370\n",
      "weighted avg       0.75      0.76      0.75      4370\n",
      "\n",
      "logistic Accuracy Score: 0.7578947368421053\n"
     ]
    }
   ],
   "source": [
    "model = LogisticRegression().fit(X_train_bow,y_train)\n",
    "y_preds = support.predict(X_test_bow)\n",
    "acc3=accuracy_score(y_test,y_preds)\n",
    "report = classification_report( y_test, y_preds )\n",
    "print(report)\n",
    "\n",
    "print(\"logistic Accuracy Score:\" , acc3)"
   ]
  },
  {
   "cell_type": "code",
   "execution_count": 152,
   "id": "AD0x4D2Tc-c4",
   "metadata": {
    "colab": {
     "base_uri": "https://localhost:8080/"
    },
    "id": "AD0x4D2Tc-c4",
    "outputId": "a794160b-5f82-4f7e-b91b-fe6a43919922"
   },
   "outputs": [
    {
     "name": "stdout",
     "output_type": "stream",
     "text": [
      "              precision    recall  f1-score   support\n",
      "\n",
      "         NOT       0.81      0.96      0.88      5937\n",
      "         OFF       0.86      0.55      0.67      2933\n",
      "\n",
      "    accuracy                           0.82      8870\n",
      "   macro avg       0.84      0.75      0.78      8870\n",
      "weighted avg       0.83      0.82      0.81      8870\n",
      "\n",
      "Logistic Regression: 0.8225479143179256\n"
     ]
    }
   ],
   "source": [
    "y_preds = model.predict(X_train_bow)\n",
    "acc3=accuracy_score(y_train,y_preds)\n",
    "report = classification_report( y_train, y_preds )\n",
    "print(report)\n",
    "\n",
    "print(\"Logistic Regression:\" , acc3)"
   ]
  },
  {
   "cell_type": "code",
   "execution_count": 153,
   "id": "C4H_xRK1dQM7",
   "metadata": {
    "id": "C4H_xRK1dQM7"
   },
   "outputs": [],
   "source": [
    "dict_doc2vec_models[\"logistic\"]=model\n",
    "\n",
    "dict_doc2vec_report[\"logistic\"]=report"
   ]
  },
  {
   "cell_type": "code",
   "execution_count": 154,
   "id": "ysWDU1cidYqw",
   "metadata": {
    "colab": {
     "base_uri": "https://localhost:8080/"
    },
    "id": "ysWDU1cidYqw",
    "outputId": "8775a27d-4fe4-483c-c1d9-77ae3b25f39d"
   },
   "outputs": [
    {
     "name": "stdout",
     "output_type": "stream",
     "text": [
      "              precision    recall  f1-score   support\n",
      "\n",
      "         NOT       0.79      0.86      0.83      2903\n",
      "         OFF       0.67      0.55      0.60      1467\n",
      "\n",
      "    accuracy                           0.76      4370\n",
      "   macro avg       0.73      0.71      0.71      4370\n",
      "weighted avg       0.75      0.76      0.75      4370\n",
      "\n",
      "Passive Agressive Accuracy Score: 0.7578947368421053\n"
     ]
    }
   ],
   "source": [
    "model_pa = PassiveAggressiveClassifier(C = 0.6, random_state = 5)\n",
    "model_pa.fit(X_train_bow,y_train)\n",
    "y_preds = support.predict(X_test_bow)\n",
    "acc3=accuracy_score(y_test,y_preds)\n",
    "report = classification_report( y_test, y_preds )\n",
    "print(report)\n",
    "\n",
    "print(\"Passive Agressive Accuracy Score:\" , acc3)"
   ]
  },
  {
   "cell_type": "code",
   "execution_count": 156,
   "id": "_1QkbNVvflJH",
   "metadata": {
    "colab": {
     "base_uri": "https://localhost:8080/"
    },
    "id": "_1QkbNVvflJH",
    "outputId": "86ca8b63-60fb-4d51-f8e4-b41d8702055c"
   },
   "outputs": [
    {
     "name": "stdout",
     "output_type": "stream",
     "text": [
      "              precision    recall  f1-score   support\n",
      "\n",
      "         NOT       1.00      0.99      1.00      5937\n",
      "         OFF       0.99      0.99      0.99      2933\n",
      "\n",
      "    accuracy                           0.99      8870\n",
      "   macro avg       0.99      0.99      0.99      8870\n",
      "weighted avg       0.99      0.99      0.99      8870\n",
      "\n",
      "Passive Agressive Accuracy Score: 0.9947012401352875\n"
     ]
    }
   ],
   "source": [
    "y_preds = model_pa.predict(X_train_bow)\n",
    "acc3=accuracy_score(y_train,y_preds)\n",
    "report = classification_report( y_train, y_preds )\n",
    "print(report)\n",
    "\n",
    "print(\"Passive Agressive Accuracy Score:\" , acc3)"
   ]
  },
  {
   "cell_type": "code",
   "execution_count": 157,
   "id": "A5kclT2Bf9Be",
   "metadata": {
    "id": "A5kclT2Bf9Be"
   },
   "outputs": [],
   "source": [
    "dict_doc2vec_models[\"pa\"]=model_pa\n",
    "\n",
    "dict_doc2vec_report[\"pa\"]=report"
   ]
  },
  {
   "cell_type": "code",
   "execution_count": 158,
   "id": "klK3g1uHgG-x",
   "metadata": {
    "id": "klK3g1uHgG-x"
   },
   "outputs": [],
   "source": [
    "models_list=['logistic', 'svm', 'pa']\n",
    "\n",
    "dict_outputs_doc2vec={\"test\":{}, \"val\": {}}"
   ]
  },
  {
   "cell_type": "code",
   "execution_count": 160,
   "id": "p6Dg0UymgOiu",
   "metadata": {
    "id": "p6Dg0UymgOiu"
   },
   "outputs": [],
   "source": [
    "for model in models_list:\n",
    "  dict_outputs_doc2vec[\"val\"][model]=dict_doc2vec_models[model].predict(X_test_bow)\n",
    "#   dict_outputs_doc2vec[\"test\"][model]=dict_doc2vec_models[model].predict(test_doc2vec)"
   ]
  },
  {
   "cell_type": "code",
   "execution_count": 161,
   "id": "W7x9v2pmgoX8",
   "metadata": {
    "id": "W7x9v2pmgoX8"
   },
   "outputs": [],
   "source": [
    "# list_test_preds=np.array(list(dict_outputs_doc2vec[\"test\"].values()))\n",
    "list_val_preds=np.array(list(dict_outputs_doc2vec[\"val\"].values()))"
   ]
  },
  {
   "cell_type": "code",
   "execution_count": 162,
   "id": "ywzFqEFig1-T",
   "metadata": {
    "id": "ywzFqEFig1-T"
   },
   "outputs": [],
   "source": [
    "majority_val_prediction=majority_prediction(list_val_preds)\n",
    "# majority_test_prediction=majority_prediction(list_test_preds)"
   ]
  },
  {
   "cell_type": "code",
   "execution_count": 164,
   "id": "NeXb4Z8tg8S8",
   "metadata": {
    "colab": {
     "base_uri": "https://localhost:8080/"
    },
    "id": "NeXb4Z8tg8S8",
    "outputId": "1a752e4c-c1f2-471e-b3ee-19e76cbeb0a7"
   },
   "outputs": [
    {
     "name": "stdout",
     "output_type": "stream",
     "text": [
      "              precision    recall  f1-score   support\n",
      "\n",
      "         NOT       0.79      0.86      0.83      2903\n",
      "         OFF       0.67      0.55      0.60      1467\n",
      "\n",
      "    accuracy                           0.76      4370\n",
      "   macro avg       0.73      0.71      0.71      4370\n",
      "weighted avg       0.75      0.76      0.75      4370\n",
      "\n"
     ]
    }
   ],
   "source": [
    "print(classification_report(y_val, majority_val_prediction))"
   ]
  },
  {
   "cell_type": "markdown",
   "id": "418076df",
   "metadata": {},
   "source": [
    "Using only doc2vec and sentiment features"
   ]
  },
  {
   "cell_type": "code",
   "execution_count": 166,
   "id": "240acf67",
   "metadata": {},
   "outputs": [
    {
     "data": {
      "text/plain": [
       "(13240, 9)"
      ]
     },
     "execution_count": 166,
     "metadata": {},
     "output_type": "execute_result"
    }
   ],
   "source": [
    "# conctaenation of tf-idf scores, sentiment scores and doc2vec columns\n",
    "train_doc2vec = np.concatenate([trainval_sentiments,doc2vec_df],axis=1)\n",
    "train_doc2vec.shape"
   ]
  },
  {
   "cell_type": "code",
   "execution_count": 167,
   "id": "dd9a45b0",
   "metadata": {},
   "outputs": [
    {
     "name": "stdout",
     "output_type": "stream",
     "text": [
      "              precision    recall  f1-score   support\n",
      "\n",
      "         NOT       0.73      0.89      0.81      2903\n",
      "         OFF       0.63      0.36      0.46      1467\n",
      "\n",
      "    accuracy                           0.71      4370\n",
      "   macro avg       0.68      0.63      0.63      4370\n",
      "weighted avg       0.70      0.71      0.69      4370\n",
      "\n",
      "SVM, Accuracy Score: 0.7144164759725401\n"
     ]
    }
   ],
   "source": [
    "\n",
    "X = pd.DataFrame(train_doc2vec)\n",
    "y = trainset[\"label\"]\n",
    "X_train_bow, X_test_bow, y_train, y_test = train_test_split(X, y, random_state=42, test_size=0.33)\n",
    "\n",
    "support =LinearSVC(random_state=20)\n",
    "support.fit(X_train_bow,y_train)\n",
    "y_preds = support.predict(X_test_bow)\n",
    "acc3=accuracy_score(y_test,y_preds)\n",
    "report = classification_report( y_test, y_preds )\n",
    "print(report)\n",
    "\n",
    "print(\"SVM, Accuracy Score:\" , acc3)"
   ]
  },
  {
   "cell_type": "code",
   "execution_count": 168,
   "id": "7285b88e",
   "metadata": {},
   "outputs": [
    {
     "name": "stdout",
     "output_type": "stream",
     "text": [
      "              precision    recall  f1-score   support\n",
      "\n",
      "         NOT       0.73      0.89      0.81      2903\n",
      "         OFF       0.63      0.36      0.46      1467\n",
      "\n",
      "    accuracy                           0.71      4370\n",
      "   macro avg       0.68      0.63      0.63      4370\n",
      "weighted avg       0.70      0.71      0.69      4370\n",
      "\n",
      "logistic Accuracy Score: 0.7144164759725401\n"
     ]
    }
   ],
   "source": [
    "model = LogisticRegression().fit(X_train_bow,y_train)\n",
    "y_preds = support.predict(X_test_bow)\n",
    "acc3=accuracy_score(y_test,y_preds)\n",
    "report = classification_report( y_test, y_preds )\n",
    "print(report)\n",
    "\n",
    "print(\"logistic Accuracy Score:\" , acc3)"
   ]
  }
 ],
 "metadata": {
  "colab": {
   "provenance": []
  },
  "kernelspec": {
   "display_name": "Python 3 (ipykernel)",
   "language": "python",
   "name": "python3"
  },
  "language_info": {
   "codemirror_mode": {
    "name": "ipython",
    "version": 3
   },
   "file_extension": ".py",
   "mimetype": "text/x-python",
   "name": "python",
   "nbconvert_exporter": "python",
   "pygments_lexer": "ipython3",
   "version": "3.10.5"
  },
  "widgets": {
   "application/vnd.jupyter.widget-state+json": {
    "07cda7f7da1547768034f2ac33800af5": {
     "model_module": "@jupyter-widgets/controls",
     "model_module_version": "1.5.0",
     "model_name": "FloatProgressModel",
     "state": {
      "_dom_classes": [],
      "_model_module": "@jupyter-widgets/controls",
      "_model_module_version": "1.5.0",
      "_model_name": "FloatProgressModel",
      "_view_count": null,
      "_view_module": "@jupyter-widgets/controls",
      "_view_module_version": "1.5.0",
      "_view_name": "ProgressView",
      "bar_style": "success",
      "description": "",
      "description_tooltip": null,
      "layout": "IPY_MODEL_19ea1870c1f847c787824f4e3040b6d8",
      "max": 1355863,
      "min": 0,
      "orientation": "horizontal",
      "style": "IPY_MODEL_218a958b469a49159940a668a9086820",
      "value": 1355863
     }
    },
    "07dcd9ee74084ef3b91fee6d56c7122c": {
     "model_module": "@jupyter-widgets/base",
     "model_module_version": "1.2.0",
     "model_name": "LayoutModel",
     "state": {
      "_model_module": "@jupyter-widgets/base",
      "_model_module_version": "1.2.0",
      "_model_name": "LayoutModel",
      "_view_count": null,
      "_view_module": "@jupyter-widgets/base",
      "_view_module_version": "1.2.0",
      "_view_name": "LayoutView",
      "align_content": null,
      "align_items": null,
      "align_self": null,
      "border": null,
      "bottom": null,
      "display": null,
      "flex": null,
      "flex_flow": null,
      "grid_area": null,
      "grid_auto_columns": null,
      "grid_auto_flow": null,
      "grid_auto_rows": null,
      "grid_column": null,
      "grid_gap": null,
      "grid_row": null,
      "grid_template_areas": null,
      "grid_template_columns": null,
      "grid_template_rows": null,
      "height": null,
      "justify_content": null,
      "justify_items": null,
      "left": null,
      "margin": null,
      "max_height": null,
      "max_width": null,
      "min_height": null,
      "min_width": null,
      "object_fit": null,
      "object_position": null,
      "order": null,
      "overflow": null,
      "overflow_x": null,
      "overflow_y": null,
      "padding": null,
      "right": null,
      "top": null,
      "visibility": null,
      "width": null
     }
    },
    "0f82aff47d384ff1930e35abae01eb3d": {
     "model_module": "@jupyter-widgets/controls",
     "model_module_version": "1.5.0",
     "model_name": "HBoxModel",
     "state": {
      "_dom_classes": [],
      "_model_module": "@jupyter-widgets/controls",
      "_model_module_version": "1.5.0",
      "_model_name": "HBoxModel",
      "_view_count": null,
      "_view_module": "@jupyter-widgets/controls",
      "_view_module_version": "1.5.0",
      "_view_name": "HBoxView",
      "box_style": "",
      "children": [
       "IPY_MODEL_146d459586f54d54b172651867ae228a",
       "IPY_MODEL_07cda7f7da1547768034f2ac33800af5",
       "IPY_MODEL_fc366dc21f5b46faa5a51ee8b770fed6"
      ],
      "layout": "IPY_MODEL_720155f9fa854d34a9fabb41f2397226"
     }
    },
    "0fb091871c064049991bfa2c7ec97588": {
     "model_module": "@jupyter-widgets/controls",
     "model_module_version": "1.5.0",
     "model_name": "FloatProgressModel",
     "state": {
      "_dom_classes": [],
      "_model_module": "@jupyter-widgets/controls",
      "_model_module_version": "1.5.0",
      "_model_name": "FloatProgressModel",
      "_view_count": null,
      "_view_module": "@jupyter-widgets/controls",
      "_view_module_version": "1.5.0",
      "_view_name": "ProgressView",
      "bar_style": "danger",
      "description": "",
      "description_tooltip": null,
      "layout": "IPY_MODEL_7439925ace49417d88671ed9736664f5",
      "max": 3,
      "min": 0,
      "orientation": "horizontal",
      "style": "IPY_MODEL_8be9f7b0e3df4065a0650d8d5f96faf3",
      "value": 0
     }
    },
    "10c7b156a22947cabc5dda663dc68ed7": {
     "model_module": "@jupyter-widgets/base",
     "model_module_version": "1.2.0",
     "model_name": "LayoutModel",
     "state": {
      "_model_module": "@jupyter-widgets/base",
      "_model_module_version": "1.2.0",
      "_model_name": "LayoutModel",
      "_view_count": null,
      "_view_module": "@jupyter-widgets/base",
      "_view_module_version": "1.2.0",
      "_view_name": "LayoutView",
      "align_content": null,
      "align_items": null,
      "align_self": null,
      "border": null,
      "bottom": null,
      "display": null,
      "flex": null,
      "flex_flow": null,
      "grid_area": null,
      "grid_auto_columns": null,
      "grid_auto_flow": null,
      "grid_auto_rows": null,
      "grid_column": null,
      "grid_gap": null,
      "grid_row": null,
      "grid_template_areas": null,
      "grid_template_columns": null,
      "grid_template_rows": null,
      "height": null,
      "justify_content": null,
      "justify_items": null,
      "left": null,
      "margin": null,
      "max_height": null,
      "max_width": null,
      "min_height": null,
      "min_width": null,
      "object_fit": null,
      "object_position": null,
      "order": null,
      "overflow": null,
      "overflow_x": null,
      "overflow_y": null,
      "padding": null,
      "right": null,
      "top": null,
      "visibility": null,
      "width": null
     }
    },
    "140ee77e073540f4b02629d5525c8193": {
     "model_module": "@jupyter-widgets/base",
     "model_module_version": "1.2.0",
     "model_name": "LayoutModel",
     "state": {
      "_model_module": "@jupyter-widgets/base",
      "_model_module_version": "1.2.0",
      "_model_name": "LayoutModel",
      "_view_count": null,
      "_view_module": "@jupyter-widgets/base",
      "_view_module_version": "1.2.0",
      "_view_name": "LayoutView",
      "align_content": null,
      "align_items": null,
      "align_self": null,
      "border": null,
      "bottom": null,
      "display": null,
      "flex": null,
      "flex_flow": null,
      "grid_area": null,
      "grid_auto_columns": null,
      "grid_auto_flow": null,
      "grid_auto_rows": null,
      "grid_column": null,
      "grid_gap": null,
      "grid_row": null,
      "grid_template_areas": null,
      "grid_template_columns": null,
      "grid_template_rows": null,
      "height": null,
      "justify_content": null,
      "justify_items": null,
      "left": null,
      "margin": null,
      "max_height": null,
      "max_width": null,
      "min_height": null,
      "min_width": null,
      "object_fit": null,
      "object_position": null,
      "order": null,
      "overflow": null,
      "overflow_x": null,
      "overflow_y": null,
      "padding": null,
      "right": null,
      "top": null,
      "visibility": null,
      "width": null
     }
    },
    "146d459586f54d54b172651867ae228a": {
     "model_module": "@jupyter-widgets/controls",
     "model_module_version": "1.5.0",
     "model_name": "HTMLModel",
     "state": {
      "_dom_classes": [],
      "_model_module": "@jupyter-widgets/controls",
      "_model_module_version": "1.5.0",
      "_model_name": "HTMLModel",
      "_view_count": null,
      "_view_module": "@jupyter-widgets/controls",
      "_view_module_version": "1.5.0",
      "_view_name": "HTMLView",
      "description": "",
      "description_tooltip": null,
      "layout": "IPY_MODEL_07dcd9ee74084ef3b91fee6d56c7122c",
      "placeholder": "​",
      "style": "IPY_MODEL_e34d48249bb44956bc69db680ec5d9f6",
      "value": "Downloading: 100%"
     }
    },
    "163d02d125284c5cbf422a313092bdd1": {
     "model_module": "@jupyter-widgets/controls",
     "model_module_version": "1.5.0",
     "model_name": "HTMLModel",
     "state": {
      "_dom_classes": [],
      "_model_module": "@jupyter-widgets/controls",
      "_model_module_version": "1.5.0",
      "_model_name": "HTMLModel",
      "_view_count": null,
      "_view_module": "@jupyter-widgets/controls",
      "_view_module_version": "1.5.0",
      "_view_name": "HTMLView",
      "description": "",
      "description_tooltip": null,
      "layout": "IPY_MODEL_b95322eed50948a0bdf8c8d475df279d",
      "placeholder": "​",
      "style": "IPY_MODEL_ebdafb1e6a554bb0a63317a12368eab8",
      "value": "Downloading: 100%"
     }
    },
    "1970ee72342f4c8593da95908e3964d9": {
     "model_module": "@jupyter-widgets/base",
     "model_module_version": "1.2.0",
     "model_name": "LayoutModel",
     "state": {
      "_model_module": "@jupyter-widgets/base",
      "_model_module_version": "1.2.0",
      "_model_name": "LayoutModel",
      "_view_count": null,
      "_view_module": "@jupyter-widgets/base",
      "_view_module_version": "1.2.0",
      "_view_name": "LayoutView",
      "align_content": null,
      "align_items": null,
      "align_self": null,
      "border": null,
      "bottom": null,
      "display": null,
      "flex": null,
      "flex_flow": null,
      "grid_area": null,
      "grid_auto_columns": null,
      "grid_auto_flow": null,
      "grid_auto_rows": null,
      "grid_column": null,
      "grid_gap": null,
      "grid_row": null,
      "grid_template_areas": null,
      "grid_template_columns": null,
      "grid_template_rows": null,
      "height": null,
      "justify_content": null,
      "justify_items": null,
      "left": null,
      "margin": null,
      "max_height": null,
      "max_width": null,
      "min_height": null,
      "min_width": null,
      "object_fit": null,
      "object_position": null,
      "order": null,
      "overflow": null,
      "overflow_x": null,
      "overflow_y": null,
      "padding": null,
      "right": null,
      "top": null,
      "visibility": null,
      "width": null
     }
    },
    "19ea1870c1f847c787824f4e3040b6d8": {
     "model_module": "@jupyter-widgets/base",
     "model_module_version": "1.2.0",
     "model_name": "LayoutModel",
     "state": {
      "_model_module": "@jupyter-widgets/base",
      "_model_module_version": "1.2.0",
      "_model_name": "LayoutModel",
      "_view_count": null,
      "_view_module": "@jupyter-widgets/base",
      "_view_module_version": "1.2.0",
      "_view_name": "LayoutView",
      "align_content": null,
      "align_items": null,
      "align_self": null,
      "border": null,
      "bottom": null,
      "display": null,
      "flex": null,
      "flex_flow": null,
      "grid_area": null,
      "grid_auto_columns": null,
      "grid_auto_flow": null,
      "grid_auto_rows": null,
      "grid_column": null,
      "grid_gap": null,
      "grid_row": null,
      "grid_template_areas": null,
      "grid_template_columns": null,
      "grid_template_rows": null,
      "height": null,
      "justify_content": null,
      "justify_items": null,
      "left": null,
      "margin": null,
      "max_height": null,
      "max_width": null,
      "min_height": null,
      "min_width": null,
      "object_fit": null,
      "object_position": null,
      "order": null,
      "overflow": null,
      "overflow_x": null,
      "overflow_y": null,
      "padding": null,
      "right": null,
      "top": null,
      "visibility": null,
      "width": null
     }
    },
    "1cc14e6cad42432e8ce96ca81c2bc7aa": {
     "model_module": "@jupyter-widgets/controls",
     "model_module_version": "1.5.0",
     "model_name": "HBoxModel",
     "state": {
      "_dom_classes": [],
      "_model_module": "@jupyter-widgets/controls",
      "_model_module_version": "1.5.0",
      "_model_name": "HBoxModel",
      "_view_count": null,
      "_view_module": "@jupyter-widgets/controls",
      "_view_module_version": "1.5.0",
      "_view_name": "HBoxView",
      "box_style": "",
      "children": [
       "IPY_MODEL_163d02d125284c5cbf422a313092bdd1",
       "IPY_MODEL_c37f3ac1570443668d65a3d371f2337d",
       "IPY_MODEL_828e9fa2d1774fae82f46e56198d6175"
      ],
      "layout": "IPY_MODEL_ebf4ecdce99c4648ab55a84087e3a74b"
     }
    },
    "218a958b469a49159940a668a9086820": {
     "model_module": "@jupyter-widgets/controls",
     "model_module_version": "1.5.0",
     "model_name": "ProgressStyleModel",
     "state": {
      "_model_module": "@jupyter-widgets/controls",
      "_model_module_version": "1.5.0",
      "_model_name": "ProgressStyleModel",
      "_view_count": null,
      "_view_module": "@jupyter-widgets/base",
      "_view_module_version": "1.2.0",
      "_view_name": "StyleView",
      "bar_color": null,
      "description_width": ""
     }
    },
    "21bfd62ecf51465fb6a95fd17dfc1763": {
     "model_module": "@jupyter-widgets/base",
     "model_module_version": "1.2.0",
     "model_name": "LayoutModel",
     "state": {
      "_model_module": "@jupyter-widgets/base",
      "_model_module_version": "1.2.0",
      "_model_name": "LayoutModel",
      "_view_count": null,
      "_view_module": "@jupyter-widgets/base",
      "_view_module_version": "1.2.0",
      "_view_name": "LayoutView",
      "align_content": null,
      "align_items": null,
      "align_self": null,
      "border": null,
      "bottom": null,
      "display": null,
      "flex": null,
      "flex_flow": null,
      "grid_area": null,
      "grid_auto_columns": null,
      "grid_auto_flow": null,
      "grid_auto_rows": null,
      "grid_column": null,
      "grid_gap": null,
      "grid_row": null,
      "grid_template_areas": null,
      "grid_template_columns": null,
      "grid_template_rows": null,
      "height": null,
      "justify_content": null,
      "justify_items": null,
      "left": null,
      "margin": null,
      "max_height": null,
      "max_width": null,
      "min_height": null,
      "min_width": null,
      "object_fit": null,
      "object_position": null,
      "order": null,
      "overflow": null,
      "overflow_x": null,
      "overflow_y": null,
      "padding": null,
      "right": null,
      "top": null,
      "visibility": null,
      "width": null
     }
    },
    "2ab98788487949ebb08391c2aa689fa7": {
     "model_module": "@jupyter-widgets/controls",
     "model_module_version": "1.5.0",
     "model_name": "HBoxModel",
     "state": {
      "_dom_classes": [],
      "_model_module": "@jupyter-widgets/controls",
      "_model_module_version": "1.5.0",
      "_model_name": "HBoxModel",
      "_view_count": null,
      "_view_module": "@jupyter-widgets/controls",
      "_view_module_version": "1.5.0",
      "_view_name": "HBoxView",
      "box_style": "",
      "children": [
       "IPY_MODEL_7fa5c617a83e484cb4b8ce26186bd636",
       "IPY_MODEL_0fb091871c064049991bfa2c7ec97588",
       "IPY_MODEL_696f5993ceca442bbd72952f4ce3edea"
      ],
      "layout": "IPY_MODEL_c95eb61374f7452890c67a8a6fdc50da"
     }
    },
    "366ee7f2fcf34340a40082ec29f90658": {
     "model_module": "@jupyter-widgets/base",
     "model_module_version": "1.2.0",
     "model_name": "LayoutModel",
     "state": {
      "_model_module": "@jupyter-widgets/base",
      "_model_module_version": "1.2.0",
      "_model_name": "LayoutModel",
      "_view_count": null,
      "_view_module": "@jupyter-widgets/base",
      "_view_module_version": "1.2.0",
      "_view_name": "LayoutView",
      "align_content": null,
      "align_items": null,
      "align_self": null,
      "border": null,
      "bottom": null,
      "display": null,
      "flex": null,
      "flex_flow": null,
      "grid_area": null,
      "grid_auto_columns": null,
      "grid_auto_flow": null,
      "grid_auto_rows": null,
      "grid_column": null,
      "grid_gap": null,
      "grid_row": null,
      "grid_template_areas": null,
      "grid_template_columns": null,
      "grid_template_rows": null,
      "height": null,
      "justify_content": null,
      "justify_items": null,
      "left": null,
      "margin": null,
      "max_height": null,
      "max_width": null,
      "min_height": null,
      "min_width": null,
      "object_fit": null,
      "object_position": null,
      "order": null,
      "overflow": null,
      "overflow_x": null,
      "overflow_y": null,
      "padding": null,
      "right": null,
      "top": null,
      "visibility": null,
      "width": null
     }
    },
    "39971a7144514aa8812de5ea9ccb1259": {
     "model_module": "@jupyter-widgets/controls",
     "model_module_version": "1.5.0",
     "model_name": "HBoxModel",
     "state": {
      "_dom_classes": [],
      "_model_module": "@jupyter-widgets/controls",
      "_model_module_version": "1.5.0",
      "_model_name": "HBoxModel",
      "_view_count": null,
      "_view_module": "@jupyter-widgets/controls",
      "_view_module_version": "1.5.0",
      "_view_name": "HBoxView",
      "box_style": "",
      "children": [
       "IPY_MODEL_4c79aa0409b74ab0b8e1451bc44d2478",
       "IPY_MODEL_7cd4bc43555841599c11b5c1a220cce7",
       "IPY_MODEL_b7ec040060a344c696e241c5963f16f0"
      ],
      "layout": "IPY_MODEL_1970ee72342f4c8593da95908e3964d9"
     }
    },
    "3cc60ce0250a4208941ec31d350e0e1f": {
     "model_module": "@jupyter-widgets/controls",
     "model_module_version": "1.5.0",
     "model_name": "ProgressStyleModel",
     "state": {
      "_model_module": "@jupyter-widgets/controls",
      "_model_module_version": "1.5.0",
      "_model_name": "ProgressStyleModel",
      "_view_count": null,
      "_view_module": "@jupyter-widgets/base",
      "_view_module_version": "1.2.0",
      "_view_name": "StyleView",
      "bar_color": null,
      "description_width": ""
     }
    },
    "43e8075ae00448019b288a73b9b85ed4": {
     "model_module": "@jupyter-widgets/base",
     "model_module_version": "1.2.0",
     "model_name": "LayoutModel",
     "state": {
      "_model_module": "@jupyter-widgets/base",
      "_model_module_version": "1.2.0",
      "_model_name": "LayoutModel",
      "_view_count": null,
      "_view_module": "@jupyter-widgets/base",
      "_view_module_version": "1.2.0",
      "_view_name": "LayoutView",
      "align_content": null,
      "align_items": null,
      "align_self": null,
      "border": null,
      "bottom": null,
      "display": null,
      "flex": null,
      "flex_flow": null,
      "grid_area": null,
      "grid_auto_columns": null,
      "grid_auto_flow": null,
      "grid_auto_rows": null,
      "grid_column": null,
      "grid_gap": null,
      "grid_row": null,
      "grid_template_areas": null,
      "grid_template_columns": null,
      "grid_template_rows": null,
      "height": null,
      "justify_content": null,
      "justify_items": null,
      "left": null,
      "margin": null,
      "max_height": null,
      "max_width": null,
      "min_height": null,
      "min_width": null,
      "object_fit": null,
      "object_position": null,
      "order": null,
      "overflow": null,
      "overflow_x": null,
      "overflow_y": null,
      "padding": null,
      "right": null,
      "top": null,
      "visibility": null,
      "width": null
     }
    },
    "43e8c882b3974284949eed30a1f566f7": {
     "model_module": "@jupyter-widgets/base",
     "model_module_version": "1.2.0",
     "model_name": "LayoutModel",
     "state": {
      "_model_module": "@jupyter-widgets/base",
      "_model_module_version": "1.2.0",
      "_model_name": "LayoutModel",
      "_view_count": null,
      "_view_module": "@jupyter-widgets/base",
      "_view_module_version": "1.2.0",
      "_view_name": "LayoutView",
      "align_content": null,
      "align_items": null,
      "align_self": null,
      "border": null,
      "bottom": null,
      "display": null,
      "flex": null,
      "flex_flow": null,
      "grid_area": null,
      "grid_auto_columns": null,
      "grid_auto_flow": null,
      "grid_auto_rows": null,
      "grid_column": null,
      "grid_gap": null,
      "grid_row": null,
      "grid_template_areas": null,
      "grid_template_columns": null,
      "grid_template_rows": null,
      "height": null,
      "justify_content": null,
      "justify_items": null,
      "left": null,
      "margin": null,
      "max_height": null,
      "max_width": null,
      "min_height": null,
      "min_width": null,
      "object_fit": null,
      "object_position": null,
      "order": null,
      "overflow": null,
      "overflow_x": null,
      "overflow_y": null,
      "padding": null,
      "right": null,
      "top": null,
      "visibility": null,
      "width": null
     }
    },
    "44eca82293fe41e388e9d2d538ca05ec": {
     "model_module": "@jupyter-widgets/controls",
     "model_module_version": "1.5.0",
     "model_name": "DescriptionStyleModel",
     "state": {
      "_model_module": "@jupyter-widgets/controls",
      "_model_module_version": "1.5.0",
      "_model_name": "DescriptionStyleModel",
      "_view_count": null,
      "_view_module": "@jupyter-widgets/base",
      "_view_module_version": "1.2.0",
      "_view_name": "StyleView",
      "description_width": ""
     }
    },
    "46706bd24a4a4369b1f5a1bec99fb215": {
     "model_module": "@jupyter-widgets/controls",
     "model_module_version": "1.5.0",
     "model_name": "DescriptionStyleModel",
     "state": {
      "_model_module": "@jupyter-widgets/controls",
      "_model_module_version": "1.5.0",
      "_model_name": "DescriptionStyleModel",
      "_view_count": null,
      "_view_module": "@jupyter-widgets/base",
      "_view_module_version": "1.2.0",
      "_view_name": "StyleView",
      "description_width": ""
     }
    },
    "48da03f285224438ba7e332c3772aff9": {
     "model_module": "@jupyter-widgets/controls",
     "model_module_version": "1.5.0",
     "model_name": "HBoxModel",
     "state": {
      "_dom_classes": [],
      "_model_module": "@jupyter-widgets/controls",
      "_model_module_version": "1.5.0",
      "_model_name": "HBoxModel",
      "_view_count": null,
      "_view_module": "@jupyter-widgets/controls",
      "_view_module_version": "1.5.0",
      "_view_name": "HBoxView",
      "box_style": "",
      "children": [
       "IPY_MODEL_88dc4e7fe3e04488910502e10c2fb23a",
       "IPY_MODEL_697d0fc37b5c45e282eebd27abc9008b",
       "IPY_MODEL_a82ecf43b46741c8adbb904218a7fead"
      ],
      "layout": "IPY_MODEL_7555e161fc444026bead595cb506102a"
     }
    },
    "4c79aa0409b74ab0b8e1451bc44d2478": {
     "model_module": "@jupyter-widgets/controls",
     "model_module_version": "1.5.0",
     "model_name": "HTMLModel",
     "state": {
      "_dom_classes": [],
      "_model_module": "@jupyter-widgets/controls",
      "_model_module_version": "1.5.0",
      "_model_name": "HTMLModel",
      "_view_count": null,
      "_view_module": "@jupyter-widgets/controls",
      "_view_module_version": "1.5.0",
      "_view_name": "HTMLView",
      "description": "",
      "description_tooltip": null,
      "layout": "IPY_MODEL_ccf6f98adbfc4740bfd5b901816d7cfd",
      "placeholder": "​",
      "style": "IPY_MODEL_80d19b9cc3614cf0b14a25665cb27065",
      "value": "Downloading: 100%"
     }
    },
    "4d6a06530aa5414db78e23793500ef54": {
     "model_module": "@jupyter-widgets/controls",
     "model_module_version": "1.5.0",
     "model_name": "DescriptionStyleModel",
     "state": {
      "_model_module": "@jupyter-widgets/controls",
      "_model_module_version": "1.5.0",
      "_model_name": "DescriptionStyleModel",
      "_view_count": null,
      "_view_module": "@jupyter-widgets/base",
      "_view_module_version": "1.2.0",
      "_view_name": "StyleView",
      "description_width": ""
     }
    },
    "4d700edf6eb042108847cd1c995b18c8": {
     "model_module": "@jupyter-widgets/controls",
     "model_module_version": "1.5.0",
     "model_name": "DescriptionStyleModel",
     "state": {
      "_model_module": "@jupyter-widgets/controls",
      "_model_module_version": "1.5.0",
      "_model_name": "DescriptionStyleModel",
      "_view_count": null,
      "_view_module": "@jupyter-widgets/base",
      "_view_module_version": "1.2.0",
      "_view_name": "StyleView",
      "description_width": ""
     }
    },
    "542988cdf2154b27af1876a573111039": {
     "model_module": "@jupyter-widgets/controls",
     "model_module_version": "1.5.0",
     "model_name": "ProgressStyleModel",
     "state": {
      "_model_module": "@jupyter-widgets/controls",
      "_model_module_version": "1.5.0",
      "_model_name": "ProgressStyleModel",
      "_view_count": null,
      "_view_module": "@jupyter-widgets/base",
      "_view_module_version": "1.2.0",
      "_view_name": "StyleView",
      "bar_color": null,
      "description_width": ""
     }
    },
    "545cb65f6a934a9d88f54ab698c4ceb3": {
     "model_module": "@jupyter-widgets/controls",
     "model_module_version": "1.5.0",
     "model_name": "HTMLModel",
     "state": {
      "_dom_classes": [],
      "_model_module": "@jupyter-widgets/controls",
      "_model_module_version": "1.5.0",
      "_model_name": "HTMLModel",
      "_view_count": null,
      "_view_module": "@jupyter-widgets/controls",
      "_view_module_version": "1.5.0",
      "_view_name": "HTMLView",
      "description": "",
      "description_tooltip": null,
      "layout": "IPY_MODEL_140ee77e073540f4b02629d5525c8193",
      "placeholder": "​",
      "style": "IPY_MODEL_4d700edf6eb042108847cd1c995b18c8",
      "value": "Downloading: 100%"
     }
    },
    "5cc8426d7e4c4bc6ad271124a3b59016": {
     "model_module": "@jupyter-widgets/base",
     "model_module_version": "1.2.0",
     "model_name": "LayoutModel",
     "state": {
      "_model_module": "@jupyter-widgets/base",
      "_model_module_version": "1.2.0",
      "_model_name": "LayoutModel",
      "_view_count": null,
      "_view_module": "@jupyter-widgets/base",
      "_view_module_version": "1.2.0",
      "_view_name": "LayoutView",
      "align_content": null,
      "align_items": null,
      "align_self": null,
      "border": null,
      "bottom": null,
      "display": null,
      "flex": null,
      "flex_flow": null,
      "grid_area": null,
      "grid_auto_columns": null,
      "grid_auto_flow": null,
      "grid_auto_rows": null,
      "grid_column": null,
      "grid_gap": null,
      "grid_row": null,
      "grid_template_areas": null,
      "grid_template_columns": null,
      "grid_template_rows": null,
      "height": null,
      "justify_content": null,
      "justify_items": null,
      "left": null,
      "margin": null,
      "max_height": null,
      "max_width": null,
      "min_height": null,
      "min_width": null,
      "object_fit": null,
      "object_position": null,
      "order": null,
      "overflow": null,
      "overflow_x": null,
      "overflow_y": null,
      "padding": null,
      "right": null,
      "top": null,
      "visibility": null,
      "width": null
     }
    },
    "696f5993ceca442bbd72952f4ce3edea": {
     "model_module": "@jupyter-widgets/controls",
     "model_module_version": "1.5.0",
     "model_name": "HTMLModel",
     "state": {
      "_dom_classes": [],
      "_model_module": "@jupyter-widgets/controls",
      "_model_module_version": "1.5.0",
      "_model_name": "HTMLModel",
      "_view_count": null,
      "_view_module": "@jupyter-widgets/controls",
      "_view_module_version": "1.5.0",
      "_view_name": "HTMLView",
      "description": "",
      "description_tooltip": null,
      "layout": "IPY_MODEL_10c7b156a22947cabc5dda663dc68ed7",
      "placeholder": "​",
      "style": "IPY_MODEL_c05977cbe7bc4049bdfa30e138d0b6da",
      "value": " 0/3 [00:00&lt;?, ?it/s]"
     }
    },
    "697d0fc37b5c45e282eebd27abc9008b": {
     "model_module": "@jupyter-widgets/controls",
     "model_module_version": "1.5.0",
     "model_name": "FloatProgressModel",
     "state": {
      "_dom_classes": [],
      "_model_module": "@jupyter-widgets/controls",
      "_model_module_version": "1.5.0",
      "_model_name": "FloatProgressModel",
      "_view_count": null,
      "_view_module": "@jupyter-widgets/controls",
      "_view_module_version": "1.5.0",
      "_view_name": "ProgressView",
      "bar_style": "danger",
      "description": "",
      "description_tooltip": null,
      "layout": "IPY_MODEL_ebb28733090e40d4b34e73301f3c0a3d",
      "max": 13240,
      "min": 0,
      "orientation": "horizontal",
      "style": "IPY_MODEL_cb70632ac6ba49c2ac245530a4222062",
      "value": 0
     }
    },
    "6e9f00a87a3348ebb2944eb5a9fc4db3": {
     "model_module": "@jupyter-widgets/controls",
     "model_module_version": "1.5.0",
     "model_name": "FloatProgressModel",
     "state": {
      "_dom_classes": [],
      "_model_module": "@jupyter-widgets/controls",
      "_model_module_version": "1.5.0",
      "_model_name": "FloatProgressModel",
      "_view_count": null,
      "_view_module": "@jupyter-widgets/controls",
      "_view_module_version": "1.5.0",
      "_view_name": "ProgressView",
      "bar_style": "success",
      "description": "",
      "description_tooltip": null,
      "layout": "IPY_MODEL_21bfd62ecf51465fb6a95fd17dfc1763",
      "max": 480,
      "min": 0,
      "orientation": "horizontal",
      "style": "IPY_MODEL_c212c97e635e4cdcb7a91e2194adc372",
      "value": 480
     }
    },
    "71216ad3310c4298b50332790fb14656": {
     "model_module": "@jupyter-widgets/base",
     "model_module_version": "1.2.0",
     "model_name": "LayoutModel",
     "state": {
      "_model_module": "@jupyter-widgets/base",
      "_model_module_version": "1.2.0",
      "_model_name": "LayoutModel",
      "_view_count": null,
      "_view_module": "@jupyter-widgets/base",
      "_view_module_version": "1.2.0",
      "_view_name": "LayoutView",
      "align_content": null,
      "align_items": null,
      "align_self": null,
      "border": null,
      "bottom": null,
      "display": null,
      "flex": null,
      "flex_flow": null,
      "grid_area": null,
      "grid_auto_columns": null,
      "grid_auto_flow": null,
      "grid_auto_rows": null,
      "grid_column": null,
      "grid_gap": null,
      "grid_row": null,
      "grid_template_areas": null,
      "grid_template_columns": null,
      "grid_template_rows": null,
      "height": null,
      "justify_content": null,
      "justify_items": null,
      "left": null,
      "margin": null,
      "max_height": null,
      "max_width": null,
      "min_height": null,
      "min_width": null,
      "object_fit": null,
      "object_position": null,
      "order": null,
      "overflow": null,
      "overflow_x": null,
      "overflow_y": null,
      "padding": null,
      "right": null,
      "top": null,
      "visibility": null,
      "width": null
     }
    },
    "720155f9fa854d34a9fabb41f2397226": {
     "model_module": "@jupyter-widgets/base",
     "model_module_version": "1.2.0",
     "model_name": "LayoutModel",
     "state": {
      "_model_module": "@jupyter-widgets/base",
      "_model_module_version": "1.2.0",
      "_model_name": "LayoutModel",
      "_view_count": null,
      "_view_module": "@jupyter-widgets/base",
      "_view_module_version": "1.2.0",
      "_view_name": "LayoutView",
      "align_content": null,
      "align_items": null,
      "align_self": null,
      "border": null,
      "bottom": null,
      "display": null,
      "flex": null,
      "flex_flow": null,
      "grid_area": null,
      "grid_auto_columns": null,
      "grid_auto_flow": null,
      "grid_auto_rows": null,
      "grid_column": null,
      "grid_gap": null,
      "grid_row": null,
      "grid_template_areas": null,
      "grid_template_columns": null,
      "grid_template_rows": null,
      "height": null,
      "justify_content": null,
      "justify_items": null,
      "left": null,
      "margin": null,
      "max_height": null,
      "max_width": null,
      "min_height": null,
      "min_width": null,
      "object_fit": null,
      "object_position": null,
      "order": null,
      "overflow": null,
      "overflow_x": null,
      "overflow_y": null,
      "padding": null,
      "right": null,
      "top": null,
      "visibility": null,
      "width": null
     }
    },
    "7439925ace49417d88671ed9736664f5": {
     "model_module": "@jupyter-widgets/base",
     "model_module_version": "1.2.0",
     "model_name": "LayoutModel",
     "state": {
      "_model_module": "@jupyter-widgets/base",
      "_model_module_version": "1.2.0",
      "_model_name": "LayoutModel",
      "_view_count": null,
      "_view_module": "@jupyter-widgets/base",
      "_view_module_version": "1.2.0",
      "_view_name": "LayoutView",
      "align_content": null,
      "align_items": null,
      "align_self": null,
      "border": null,
      "bottom": null,
      "display": null,
      "flex": null,
      "flex_flow": null,
      "grid_area": null,
      "grid_auto_columns": null,
      "grid_auto_flow": null,
      "grid_auto_rows": null,
      "grid_column": null,
      "grid_gap": null,
      "grid_row": null,
      "grid_template_areas": null,
      "grid_template_columns": null,
      "grid_template_rows": null,
      "height": null,
      "justify_content": null,
      "justify_items": null,
      "left": null,
      "margin": null,
      "max_height": null,
      "max_width": null,
      "min_height": null,
      "min_width": null,
      "object_fit": null,
      "object_position": null,
      "order": null,
      "overflow": null,
      "overflow_x": null,
      "overflow_y": null,
      "padding": null,
      "right": null,
      "top": null,
      "visibility": null,
      "width": null
     }
    },
    "75056a99e2cb436e8598ccbecb56ea33": {
     "model_module": "@jupyter-widgets/base",
     "model_module_version": "1.2.0",
     "model_name": "LayoutModel",
     "state": {
      "_model_module": "@jupyter-widgets/base",
      "_model_module_version": "1.2.0",
      "_model_name": "LayoutModel",
      "_view_count": null,
      "_view_module": "@jupyter-widgets/base",
      "_view_module_version": "1.2.0",
      "_view_name": "LayoutView",
      "align_content": null,
      "align_items": null,
      "align_self": null,
      "border": null,
      "bottom": null,
      "display": null,
      "flex": null,
      "flex_flow": null,
      "grid_area": null,
      "grid_auto_columns": null,
      "grid_auto_flow": null,
      "grid_auto_rows": null,
      "grid_column": null,
      "grid_gap": null,
      "grid_row": null,
      "grid_template_areas": null,
      "grid_template_columns": null,
      "grid_template_rows": null,
      "height": null,
      "justify_content": null,
      "justify_items": null,
      "left": null,
      "margin": null,
      "max_height": null,
      "max_width": null,
      "min_height": null,
      "min_width": null,
      "object_fit": null,
      "object_position": null,
      "order": null,
      "overflow": null,
      "overflow_x": null,
      "overflow_y": null,
      "padding": null,
      "right": null,
      "top": null,
      "visibility": null,
      "width": null
     }
    },
    "7555e161fc444026bead595cb506102a": {
     "model_module": "@jupyter-widgets/base",
     "model_module_version": "1.2.0",
     "model_name": "LayoutModel",
     "state": {
      "_model_module": "@jupyter-widgets/base",
      "_model_module_version": "1.2.0",
      "_model_name": "LayoutModel",
      "_view_count": null,
      "_view_module": "@jupyter-widgets/base",
      "_view_module_version": "1.2.0",
      "_view_name": "LayoutView",
      "align_content": null,
      "align_items": null,
      "align_self": null,
      "border": null,
      "bottom": null,
      "display": null,
      "flex": null,
      "flex_flow": null,
      "grid_area": null,
      "grid_auto_columns": null,
      "grid_auto_flow": null,
      "grid_auto_rows": null,
      "grid_column": null,
      "grid_gap": null,
      "grid_row": null,
      "grid_template_areas": null,
      "grid_template_columns": null,
      "grid_template_rows": null,
      "height": null,
      "justify_content": null,
      "justify_items": null,
      "left": null,
      "margin": null,
      "max_height": null,
      "max_width": null,
      "min_height": null,
      "min_width": null,
      "object_fit": null,
      "object_position": null,
      "order": null,
      "overflow": null,
      "overflow_x": null,
      "overflow_y": null,
      "padding": null,
      "right": null,
      "top": null,
      "visibility": null,
      "width": null
     }
    },
    "776ceaf41e154c5b91e26c8a0ea196b9": {
     "model_module": "@jupyter-widgets/controls",
     "model_module_version": "1.5.0",
     "model_name": "DescriptionStyleModel",
     "state": {
      "_model_module": "@jupyter-widgets/controls",
      "_model_module_version": "1.5.0",
      "_model_name": "DescriptionStyleModel",
      "_view_count": null,
      "_view_module": "@jupyter-widgets/base",
      "_view_module_version": "1.2.0",
      "_view_name": "StyleView",
      "description_width": ""
     }
    },
    "7cd4bc43555841599c11b5c1a220cce7": {
     "model_module": "@jupyter-widgets/controls",
     "model_module_version": "1.5.0",
     "model_name": "FloatProgressModel",
     "state": {
      "_dom_classes": [],
      "_model_module": "@jupyter-widgets/controls",
      "_model_module_version": "1.5.0",
      "_model_name": "FloatProgressModel",
      "_view_count": null,
      "_view_module": "@jupyter-widgets/controls",
      "_view_module_version": "1.5.0",
      "_view_name": "ProgressView",
      "bar_style": "success",
      "description": "",
      "description_tooltip": null,
      "layout": "IPY_MODEL_a50ea5c6c93e4a2cbe71222760d2dbde",
      "max": 456318,
      "min": 0,
      "orientation": "horizontal",
      "style": "IPY_MODEL_542988cdf2154b27af1876a573111039",
      "value": 456318
     }
    },
    "7fa5c617a83e484cb4b8ce26186bd636": {
     "model_module": "@jupyter-widgets/controls",
     "model_module_version": "1.5.0",
     "model_name": "HTMLModel",
     "state": {
      "_dom_classes": [],
      "_model_module": "@jupyter-widgets/controls",
      "_model_module_version": "1.5.0",
      "_model_name": "HTMLModel",
      "_view_count": null,
      "_view_module": "@jupyter-widgets/controls",
      "_view_module_version": "1.5.0",
      "_view_name": "HTMLView",
      "description": "",
      "description_tooltip": null,
      "layout": "IPY_MODEL_8641397c1bcb41ab900326b407d782a6",
      "placeholder": "​",
      "style": "IPY_MODEL_44eca82293fe41e388e9d2d538ca05ec",
      "value": "Epoch:   0%"
     }
    },
    "8081e531b5034c8a9442e933d0c4576c": {
     "model_module": "@jupyter-widgets/base",
     "model_module_version": "1.2.0",
     "model_name": "LayoutModel",
     "state": {
      "_model_module": "@jupyter-widgets/base",
      "_model_module_version": "1.2.0",
      "_model_name": "LayoutModel",
      "_view_count": null,
      "_view_module": "@jupyter-widgets/base",
      "_view_module_version": "1.2.0",
      "_view_name": "LayoutView",
      "align_content": null,
      "align_items": null,
      "align_self": null,
      "border": null,
      "bottom": null,
      "display": null,
      "flex": null,
      "flex_flow": null,
      "grid_area": null,
      "grid_auto_columns": null,
      "grid_auto_flow": null,
      "grid_auto_rows": null,
      "grid_column": null,
      "grid_gap": null,
      "grid_row": null,
      "grid_template_areas": null,
      "grid_template_columns": null,
      "grid_template_rows": null,
      "height": null,
      "justify_content": null,
      "justify_items": null,
      "left": null,
      "margin": null,
      "max_height": null,
      "max_width": null,
      "min_height": null,
      "min_width": null,
      "object_fit": null,
      "object_position": null,
      "order": null,
      "overflow": null,
      "overflow_x": null,
      "overflow_y": null,
      "padding": null,
      "right": null,
      "top": null,
      "visibility": null,
      "width": null
     }
    },
    "80d19b9cc3614cf0b14a25665cb27065": {
     "model_module": "@jupyter-widgets/controls",
     "model_module_version": "1.5.0",
     "model_name": "DescriptionStyleModel",
     "state": {
      "_model_module": "@jupyter-widgets/controls",
      "_model_module_version": "1.5.0",
      "_model_name": "DescriptionStyleModel",
      "_view_count": null,
      "_view_module": "@jupyter-widgets/base",
      "_view_module_version": "1.2.0",
      "_view_name": "StyleView",
      "description_width": ""
     }
    },
    "828e9fa2d1774fae82f46e56198d6175": {
     "model_module": "@jupyter-widgets/controls",
     "model_module_version": "1.5.0",
     "model_name": "HTMLModel",
     "state": {
      "_dom_classes": [],
      "_model_module": "@jupyter-widgets/controls",
      "_model_module_version": "1.5.0",
      "_model_name": "HTMLModel",
      "_view_count": null,
      "_view_module": "@jupyter-widgets/controls",
      "_view_module_version": "1.5.0",
      "_view_name": "HTMLView",
      "description": "",
      "description_tooltip": null,
      "layout": "IPY_MODEL_75056a99e2cb436e8598ccbecb56ea33",
      "placeholder": "​",
      "style": "IPY_MODEL_9881a054c12c479582f659365c4bc3db",
      "value": " 899k/899k [00:00&lt;00:00, 2.01MB/s]"
     }
    },
    "8641397c1bcb41ab900326b407d782a6": {
     "model_module": "@jupyter-widgets/base",
     "model_module_version": "1.2.0",
     "model_name": "LayoutModel",
     "state": {
      "_model_module": "@jupyter-widgets/base",
      "_model_module_version": "1.2.0",
      "_model_name": "LayoutModel",
      "_view_count": null,
      "_view_module": "@jupyter-widgets/base",
      "_view_module_version": "1.2.0",
      "_view_name": "LayoutView",
      "align_content": null,
      "align_items": null,
      "align_self": null,
      "border": null,
      "bottom": null,
      "display": null,
      "flex": null,
      "flex_flow": null,
      "grid_area": null,
      "grid_auto_columns": null,
      "grid_auto_flow": null,
      "grid_auto_rows": null,
      "grid_column": null,
      "grid_gap": null,
      "grid_row": null,
      "grid_template_areas": null,
      "grid_template_columns": null,
      "grid_template_rows": null,
      "height": null,
      "justify_content": null,
      "justify_items": null,
      "left": null,
      "margin": null,
      "max_height": null,
      "max_width": null,
      "min_height": null,
      "min_width": null,
      "object_fit": null,
      "object_position": null,
      "order": null,
      "overflow": null,
      "overflow_x": null,
      "overflow_y": null,
      "padding": null,
      "right": null,
      "top": null,
      "visibility": null,
      "width": null
     }
    },
    "88dc4e7fe3e04488910502e10c2fb23a": {
     "model_module": "@jupyter-widgets/controls",
     "model_module_version": "1.5.0",
     "model_name": "HTMLModel",
     "state": {
      "_dom_classes": [],
      "_model_module": "@jupyter-widgets/controls",
      "_model_module_version": "1.5.0",
      "_model_name": "HTMLModel",
      "_view_count": null,
      "_view_module": "@jupyter-widgets/controls",
      "_view_module_version": "1.5.0",
      "_view_name": "HTMLView",
      "description": "",
      "description_tooltip": null,
      "layout": "IPY_MODEL_b6fbb2015ea54c518b4a3775da6665e5",
      "placeholder": "​",
      "style": "IPY_MODEL_cd70764a01cc4af9b5361679c0ff0f68",
      "value": "Iteration:   0%"
     }
    },
    "8be9f7b0e3df4065a0650d8d5f96faf3": {
     "model_module": "@jupyter-widgets/controls",
     "model_module_version": "1.5.0",
     "model_name": "ProgressStyleModel",
     "state": {
      "_model_module": "@jupyter-widgets/controls",
      "_model_module_version": "1.5.0",
      "_model_name": "ProgressStyleModel",
      "_view_count": null,
      "_view_module": "@jupyter-widgets/base",
      "_view_module_version": "1.2.0",
      "_view_name": "StyleView",
      "bar_color": null,
      "description_width": ""
     }
    },
    "9881a054c12c479582f659365c4bc3db": {
     "model_module": "@jupyter-widgets/controls",
     "model_module_version": "1.5.0",
     "model_name": "DescriptionStyleModel",
     "state": {
      "_model_module": "@jupyter-widgets/controls",
      "_model_module_version": "1.5.0",
      "_model_name": "DescriptionStyleModel",
      "_view_count": null,
      "_view_module": "@jupyter-widgets/base",
      "_view_module_version": "1.2.0",
      "_view_name": "StyleView",
      "description_width": ""
     }
    },
    "a44299112c49439d8e8fd274d81bee19": {
     "model_module": "@jupyter-widgets/controls",
     "model_module_version": "1.5.0",
     "model_name": "HTMLModel",
     "state": {
      "_dom_classes": [],
      "_model_module": "@jupyter-widgets/controls",
      "_model_module_version": "1.5.0",
      "_model_name": "HTMLModel",
      "_view_count": null,
      "_view_module": "@jupyter-widgets/controls",
      "_view_module_version": "1.5.0",
      "_view_name": "HTMLView",
      "description": "",
      "description_tooltip": null,
      "layout": "IPY_MODEL_a45ad24760e3494680e7d6223422c9b3",
      "placeholder": "​",
      "style": "IPY_MODEL_da0a05d60e0844f89457c3c273dd727d",
      "value": " 331M/331M [00:12&lt;00:00, 39.1MB/s]"
     }
    },
    "a45ad24760e3494680e7d6223422c9b3": {
     "model_module": "@jupyter-widgets/base",
     "model_module_version": "1.2.0",
     "model_name": "LayoutModel",
     "state": {
      "_model_module": "@jupyter-widgets/base",
      "_model_module_version": "1.2.0",
      "_model_name": "LayoutModel",
      "_view_count": null,
      "_view_module": "@jupyter-widgets/base",
      "_view_module_version": "1.2.0",
      "_view_name": "LayoutView",
      "align_content": null,
      "align_items": null,
      "align_self": null,
      "border": null,
      "bottom": null,
      "display": null,
      "flex": null,
      "flex_flow": null,
      "grid_area": null,
      "grid_auto_columns": null,
      "grid_auto_flow": null,
      "grid_auto_rows": null,
      "grid_column": null,
      "grid_gap": null,
      "grid_row": null,
      "grid_template_areas": null,
      "grid_template_columns": null,
      "grid_template_rows": null,
      "height": null,
      "justify_content": null,
      "justify_items": null,
      "left": null,
      "margin": null,
      "max_height": null,
      "max_width": null,
      "min_height": null,
      "min_width": null,
      "object_fit": null,
      "object_position": null,
      "order": null,
      "overflow": null,
      "overflow_x": null,
      "overflow_y": null,
      "padding": null,
      "right": null,
      "top": null,
      "visibility": null,
      "width": null
     }
    },
    "a50ea5c6c93e4a2cbe71222760d2dbde": {
     "model_module": "@jupyter-widgets/base",
     "model_module_version": "1.2.0",
     "model_name": "LayoutModel",
     "state": {
      "_model_module": "@jupyter-widgets/base",
      "_model_module_version": "1.2.0",
      "_model_name": "LayoutModel",
      "_view_count": null,
      "_view_module": "@jupyter-widgets/base",
      "_view_module_version": "1.2.0",
      "_view_name": "LayoutView",
      "align_content": null,
      "align_items": null,
      "align_self": null,
      "border": null,
      "bottom": null,
      "display": null,
      "flex": null,
      "flex_flow": null,
      "grid_area": null,
      "grid_auto_columns": null,
      "grid_auto_flow": null,
      "grid_auto_rows": null,
      "grid_column": null,
      "grid_gap": null,
      "grid_row": null,
      "grid_template_areas": null,
      "grid_template_columns": null,
      "grid_template_rows": null,
      "height": null,
      "justify_content": null,
      "justify_items": null,
      "left": null,
      "margin": null,
      "max_height": null,
      "max_width": null,
      "min_height": null,
      "min_width": null,
      "object_fit": null,
      "object_position": null,
      "order": null,
      "overflow": null,
      "overflow_x": null,
      "overflow_y": null,
      "padding": null,
      "right": null,
      "top": null,
      "visibility": null,
      "width": null
     }
    },
    "a82ecf43b46741c8adbb904218a7fead": {
     "model_module": "@jupyter-widgets/controls",
     "model_module_version": "1.5.0",
     "model_name": "HTMLModel",
     "state": {
      "_dom_classes": [],
      "_model_module": "@jupyter-widgets/controls",
      "_model_module_version": "1.5.0",
      "_model_name": "HTMLModel",
      "_view_count": null,
      "_view_module": "@jupyter-widgets/controls",
      "_view_module_version": "1.5.0",
      "_view_name": "HTMLView",
      "description": "",
      "description_tooltip": null,
      "layout": "IPY_MODEL_43e8c882b3974284949eed30a1f566f7",
      "placeholder": "​",
      "style": "IPY_MODEL_776ceaf41e154c5b91e26c8a0ea196b9",
      "value": " 0/13240 [00:00&lt;?, ?it/s]"
     }
    },
    "a896bb13fb9a495eafb772a44a9708fd": {
     "model_module": "@jupyter-widgets/controls",
     "model_module_version": "1.5.0",
     "model_name": "HBoxModel",
     "state": {
      "_dom_classes": [],
      "_model_module": "@jupyter-widgets/controls",
      "_model_module_version": "1.5.0",
      "_model_name": "HBoxModel",
      "_view_count": null,
      "_view_module": "@jupyter-widgets/controls",
      "_view_module_version": "1.5.0",
      "_view_name": "HBoxView",
      "box_style": "",
      "children": [
       "IPY_MODEL_545cb65f6a934a9d88f54ab698c4ceb3",
       "IPY_MODEL_ce2a75aa1e8245da8e7a7058922bd316",
       "IPY_MODEL_a44299112c49439d8e8fd274d81bee19"
      ],
      "layout": "IPY_MODEL_43e8075ae00448019b288a73b9b85ed4"
     }
    },
    "b6fbb2015ea54c518b4a3775da6665e5": {
     "model_module": "@jupyter-widgets/base",
     "model_module_version": "1.2.0",
     "model_name": "LayoutModel",
     "state": {
      "_model_module": "@jupyter-widgets/base",
      "_model_module_version": "1.2.0",
      "_model_name": "LayoutModel",
      "_view_count": null,
      "_view_module": "@jupyter-widgets/base",
      "_view_module_version": "1.2.0",
      "_view_name": "LayoutView",
      "align_content": null,
      "align_items": null,
      "align_self": null,
      "border": null,
      "bottom": null,
      "display": null,
      "flex": null,
      "flex_flow": null,
      "grid_area": null,
      "grid_auto_columns": null,
      "grid_auto_flow": null,
      "grid_auto_rows": null,
      "grid_column": null,
      "grid_gap": null,
      "grid_row": null,
      "grid_template_areas": null,
      "grid_template_columns": null,
      "grid_template_rows": null,
      "height": null,
      "justify_content": null,
      "justify_items": null,
      "left": null,
      "margin": null,
      "max_height": null,
      "max_width": null,
      "min_height": null,
      "min_width": null,
      "object_fit": null,
      "object_position": null,
      "order": null,
      "overflow": null,
      "overflow_x": null,
      "overflow_y": null,
      "padding": null,
      "right": null,
      "top": null,
      "visibility": null,
      "width": null
     }
    },
    "b7ec040060a344c696e241c5963f16f0": {
     "model_module": "@jupyter-widgets/controls",
     "model_module_version": "1.5.0",
     "model_name": "HTMLModel",
     "state": {
      "_dom_classes": [],
      "_model_module": "@jupyter-widgets/controls",
      "_model_module_version": "1.5.0",
      "_model_name": "HTMLModel",
      "_view_count": null,
      "_view_module": "@jupyter-widgets/controls",
      "_view_module_version": "1.5.0",
      "_view_name": "HTMLView",
      "description": "",
      "description_tooltip": null,
      "layout": "IPY_MODEL_d004b154dc04470f90b5c543b66b8f85",
      "placeholder": "​",
      "style": "IPY_MODEL_46706bd24a4a4369b1f5a1bec99fb215",
      "value": " 456k/456k [00:00&lt;00:00, 1.66MB/s]"
     }
    },
    "b95322eed50948a0bdf8c8d475df279d": {
     "model_module": "@jupyter-widgets/base",
     "model_module_version": "1.2.0",
     "model_name": "LayoutModel",
     "state": {
      "_model_module": "@jupyter-widgets/base",
      "_model_module_version": "1.2.0",
      "_model_name": "LayoutModel",
      "_view_count": null,
      "_view_module": "@jupyter-widgets/base",
      "_view_module_version": "1.2.0",
      "_view_name": "LayoutView",
      "align_content": null,
      "align_items": null,
      "align_self": null,
      "border": null,
      "bottom": null,
      "display": null,
      "flex": null,
      "flex_flow": null,
      "grid_area": null,
      "grid_auto_columns": null,
      "grid_auto_flow": null,
      "grid_auto_rows": null,
      "grid_column": null,
      "grid_gap": null,
      "grid_row": null,
      "grid_template_areas": null,
      "grid_template_columns": null,
      "grid_template_rows": null,
      "height": null,
      "justify_content": null,
      "justify_items": null,
      "left": null,
      "margin": null,
      "max_height": null,
      "max_width": null,
      "min_height": null,
      "min_width": null,
      "object_fit": null,
      "object_position": null,
      "order": null,
      "overflow": null,
      "overflow_x": null,
      "overflow_y": null,
      "padding": null,
      "right": null,
      "top": null,
      "visibility": null,
      "width": null
     }
    },
    "ba81be466171421b892f1e0283761227": {
     "model_module": "@jupyter-widgets/controls",
     "model_module_version": "1.5.0",
     "model_name": "HTMLModel",
     "state": {
      "_dom_classes": [],
      "_model_module": "@jupyter-widgets/controls",
      "_model_module_version": "1.5.0",
      "_model_name": "HTMLModel",
      "_view_count": null,
      "_view_module": "@jupyter-widgets/controls",
      "_view_module_version": "1.5.0",
      "_view_name": "HTMLView",
      "description": "",
      "description_tooltip": null,
      "layout": "IPY_MODEL_5cc8426d7e4c4bc6ad271124a3b59016",
      "placeholder": "​",
      "style": "IPY_MODEL_4d6a06530aa5414db78e23793500ef54",
      "value": "Downloading: 100%"
     }
    },
    "be6eed0c11f2409e9e60768c296a8900": {
     "model_module": "@jupyter-widgets/controls",
     "model_module_version": "1.5.0",
     "model_name": "DescriptionStyleModel",
     "state": {
      "_model_module": "@jupyter-widgets/controls",
      "_model_module_version": "1.5.0",
      "_model_name": "DescriptionStyleModel",
      "_view_count": null,
      "_view_module": "@jupyter-widgets/base",
      "_view_module_version": "1.2.0",
      "_view_name": "StyleView",
      "description_width": ""
     }
    },
    "c05977cbe7bc4049bdfa30e138d0b6da": {
     "model_module": "@jupyter-widgets/controls",
     "model_module_version": "1.5.0",
     "model_name": "DescriptionStyleModel",
     "state": {
      "_model_module": "@jupyter-widgets/controls",
      "_model_module_version": "1.5.0",
      "_model_name": "DescriptionStyleModel",
      "_view_count": null,
      "_view_module": "@jupyter-widgets/base",
      "_view_module_version": "1.2.0",
      "_view_name": "StyleView",
      "description_width": ""
     }
    },
    "c212c97e635e4cdcb7a91e2194adc372": {
     "model_module": "@jupyter-widgets/controls",
     "model_module_version": "1.5.0",
     "model_name": "ProgressStyleModel",
     "state": {
      "_model_module": "@jupyter-widgets/controls",
      "_model_module_version": "1.5.0",
      "_model_name": "ProgressStyleModel",
      "_view_count": null,
      "_view_module": "@jupyter-widgets/base",
      "_view_module_version": "1.2.0",
      "_view_name": "StyleView",
      "bar_color": null,
      "description_width": ""
     }
    },
    "c37f3ac1570443668d65a3d371f2337d": {
     "model_module": "@jupyter-widgets/controls",
     "model_module_version": "1.5.0",
     "model_name": "FloatProgressModel",
     "state": {
      "_dom_classes": [],
      "_model_module": "@jupyter-widgets/controls",
      "_model_module_version": "1.5.0",
      "_model_name": "FloatProgressModel",
      "_view_count": null,
      "_view_module": "@jupyter-widgets/controls",
      "_view_module_version": "1.5.0",
      "_view_name": "ProgressView",
      "bar_style": "success",
      "description": "",
      "description_tooltip": null,
      "layout": "IPY_MODEL_71216ad3310c4298b50332790fb14656",
      "max": 898823,
      "min": 0,
      "orientation": "horizontal",
      "style": "IPY_MODEL_3cc60ce0250a4208941ec31d350e0e1f",
      "value": 898823
     }
    },
    "c95eb61374f7452890c67a8a6fdc50da": {
     "model_module": "@jupyter-widgets/base",
     "model_module_version": "1.2.0",
     "model_name": "LayoutModel",
     "state": {
      "_model_module": "@jupyter-widgets/base",
      "_model_module_version": "1.2.0",
      "_model_name": "LayoutModel",
      "_view_count": null,
      "_view_module": "@jupyter-widgets/base",
      "_view_module_version": "1.2.0",
      "_view_name": "LayoutView",
      "align_content": null,
      "align_items": null,
      "align_self": null,
      "border": null,
      "bottom": null,
      "display": null,
      "flex": null,
      "flex_flow": null,
      "grid_area": null,
      "grid_auto_columns": null,
      "grid_auto_flow": null,
      "grid_auto_rows": null,
      "grid_column": null,
      "grid_gap": null,
      "grid_row": null,
      "grid_template_areas": null,
      "grid_template_columns": null,
      "grid_template_rows": null,
      "height": null,
      "justify_content": null,
      "justify_items": null,
      "left": null,
      "margin": null,
      "max_height": null,
      "max_width": null,
      "min_height": null,
      "min_width": null,
      "object_fit": null,
      "object_position": null,
      "order": null,
      "overflow": null,
      "overflow_x": null,
      "overflow_y": null,
      "padding": null,
      "right": null,
      "top": null,
      "visibility": null,
      "width": null
     }
    },
    "cb70632ac6ba49c2ac245530a4222062": {
     "model_module": "@jupyter-widgets/controls",
     "model_module_version": "1.5.0",
     "model_name": "ProgressStyleModel",
     "state": {
      "_model_module": "@jupyter-widgets/controls",
      "_model_module_version": "1.5.0",
      "_model_name": "ProgressStyleModel",
      "_view_count": null,
      "_view_module": "@jupyter-widgets/base",
      "_view_module_version": "1.2.0",
      "_view_name": "StyleView",
      "bar_color": null,
      "description_width": ""
     }
    },
    "cba519db4809480dbd73d63fcd6e5c1f": {
     "model_module": "@jupyter-widgets/base",
     "model_module_version": "1.2.0",
     "model_name": "LayoutModel",
     "state": {
      "_model_module": "@jupyter-widgets/base",
      "_model_module_version": "1.2.0",
      "_model_name": "LayoutModel",
      "_view_count": null,
      "_view_module": "@jupyter-widgets/base",
      "_view_module_version": "1.2.0",
      "_view_name": "LayoutView",
      "align_content": null,
      "align_items": null,
      "align_self": null,
      "border": null,
      "bottom": null,
      "display": null,
      "flex": null,
      "flex_flow": null,
      "grid_area": null,
      "grid_auto_columns": null,
      "grid_auto_flow": null,
      "grid_auto_rows": null,
      "grid_column": null,
      "grid_gap": null,
      "grid_row": null,
      "grid_template_areas": null,
      "grid_template_columns": null,
      "grid_template_rows": null,
      "height": null,
      "justify_content": null,
      "justify_items": null,
      "left": null,
      "margin": null,
      "max_height": null,
      "max_width": null,
      "min_height": null,
      "min_width": null,
      "object_fit": null,
      "object_position": null,
      "order": null,
      "overflow": null,
      "overflow_x": null,
      "overflow_y": null,
      "padding": null,
      "right": null,
      "top": null,
      "visibility": null,
      "width": null
     }
    },
    "cbc19da055f544e8a4d0c2470b1a762b": {
     "model_module": "@jupyter-widgets/controls",
     "model_module_version": "1.5.0",
     "model_name": "HBoxModel",
     "state": {
      "_dom_classes": [],
      "_model_module": "@jupyter-widgets/controls",
      "_model_module_version": "1.5.0",
      "_model_name": "HBoxModel",
      "_view_count": null,
      "_view_module": "@jupyter-widgets/controls",
      "_view_module_version": "1.5.0",
      "_view_name": "HBoxView",
      "box_style": "",
      "children": [
       "IPY_MODEL_ba81be466171421b892f1e0283761227",
       "IPY_MODEL_6e9f00a87a3348ebb2944eb5a9fc4db3",
       "IPY_MODEL_d0401b32b7d74f40bacdf622c1963b4d"
      ],
      "layout": "IPY_MODEL_8081e531b5034c8a9442e933d0c4576c"
     }
    },
    "ccf6f98adbfc4740bfd5b901816d7cfd": {
     "model_module": "@jupyter-widgets/base",
     "model_module_version": "1.2.0",
     "model_name": "LayoutModel",
     "state": {
      "_model_module": "@jupyter-widgets/base",
      "_model_module_version": "1.2.0",
      "_model_name": "LayoutModel",
      "_view_count": null,
      "_view_module": "@jupyter-widgets/base",
      "_view_module_version": "1.2.0",
      "_view_name": "LayoutView",
      "align_content": null,
      "align_items": null,
      "align_self": null,
      "border": null,
      "bottom": null,
      "display": null,
      "flex": null,
      "flex_flow": null,
      "grid_area": null,
      "grid_auto_columns": null,
      "grid_auto_flow": null,
      "grid_auto_rows": null,
      "grid_column": null,
      "grid_gap": null,
      "grid_row": null,
      "grid_template_areas": null,
      "grid_template_columns": null,
      "grid_template_rows": null,
      "height": null,
      "justify_content": null,
      "justify_items": null,
      "left": null,
      "margin": null,
      "max_height": null,
      "max_width": null,
      "min_height": null,
      "min_width": null,
      "object_fit": null,
      "object_position": null,
      "order": null,
      "overflow": null,
      "overflow_x": null,
      "overflow_y": null,
      "padding": null,
      "right": null,
      "top": null,
      "visibility": null,
      "width": null
     }
    },
    "cd70764a01cc4af9b5361679c0ff0f68": {
     "model_module": "@jupyter-widgets/controls",
     "model_module_version": "1.5.0",
     "model_name": "DescriptionStyleModel",
     "state": {
      "_model_module": "@jupyter-widgets/controls",
      "_model_module_version": "1.5.0",
      "_model_name": "DescriptionStyleModel",
      "_view_count": null,
      "_view_module": "@jupyter-widgets/base",
      "_view_module_version": "1.2.0",
      "_view_name": "StyleView",
      "description_width": ""
     }
    },
    "ce2a75aa1e8245da8e7a7058922bd316": {
     "model_module": "@jupyter-widgets/controls",
     "model_module_version": "1.5.0",
     "model_name": "FloatProgressModel",
     "state": {
      "_dom_classes": [],
      "_model_module": "@jupyter-widgets/controls",
      "_model_module_version": "1.5.0",
      "_model_name": "FloatProgressModel",
      "_view_count": null,
      "_view_module": "@jupyter-widgets/controls",
      "_view_module_version": "1.5.0",
      "_view_name": "ProgressView",
      "bar_style": "success",
      "description": "",
      "description_tooltip": null,
      "layout": "IPY_MODEL_366ee7f2fcf34340a40082ec29f90658",
      "max": 331070498,
      "min": 0,
      "orientation": "horizontal",
      "style": "IPY_MODEL_d86840de22c54680a8df96e40ca9ef7f",
      "value": 331070498
     }
    },
    "d004b154dc04470f90b5c543b66b8f85": {
     "model_module": "@jupyter-widgets/base",
     "model_module_version": "1.2.0",
     "model_name": "LayoutModel",
     "state": {
      "_model_module": "@jupyter-widgets/base",
      "_model_module_version": "1.2.0",
      "_model_name": "LayoutModel",
      "_view_count": null,
      "_view_module": "@jupyter-widgets/base",
      "_view_module_version": "1.2.0",
      "_view_name": "LayoutView",
      "align_content": null,
      "align_items": null,
      "align_self": null,
      "border": null,
      "bottom": null,
      "display": null,
      "flex": null,
      "flex_flow": null,
      "grid_area": null,
      "grid_auto_columns": null,
      "grid_auto_flow": null,
      "grid_auto_rows": null,
      "grid_column": null,
      "grid_gap": null,
      "grid_row": null,
      "grid_template_areas": null,
      "grid_template_columns": null,
      "grid_template_rows": null,
      "height": null,
      "justify_content": null,
      "justify_items": null,
      "left": null,
      "margin": null,
      "max_height": null,
      "max_width": null,
      "min_height": null,
      "min_width": null,
      "object_fit": null,
      "object_position": null,
      "order": null,
      "overflow": null,
      "overflow_x": null,
      "overflow_y": null,
      "padding": null,
      "right": null,
      "top": null,
      "visibility": null,
      "width": null
     }
    },
    "d0401b32b7d74f40bacdf622c1963b4d": {
     "model_module": "@jupyter-widgets/controls",
     "model_module_version": "1.5.0",
     "model_name": "HTMLModel",
     "state": {
      "_dom_classes": [],
      "_model_module": "@jupyter-widgets/controls",
      "_model_module_version": "1.5.0",
      "_model_name": "HTMLModel",
      "_view_count": null,
      "_view_module": "@jupyter-widgets/controls",
      "_view_module_version": "1.5.0",
      "_view_name": "HTMLView",
      "description": "",
      "description_tooltip": null,
      "layout": "IPY_MODEL_e606346348954a4ab3fadb9af09d234a",
      "placeholder": "​",
      "style": "IPY_MODEL_f72a7c640c0c4c21b68b0f676e7f87b4",
      "value": " 480/480 [00:00&lt;00:00, 4.04kB/s]"
     }
    },
    "d86840de22c54680a8df96e40ca9ef7f": {
     "model_module": "@jupyter-widgets/controls",
     "model_module_version": "1.5.0",
     "model_name": "ProgressStyleModel",
     "state": {
      "_model_module": "@jupyter-widgets/controls",
      "_model_module_version": "1.5.0",
      "_model_name": "ProgressStyleModel",
      "_view_count": null,
      "_view_module": "@jupyter-widgets/base",
      "_view_module_version": "1.2.0",
      "_view_name": "StyleView",
      "bar_color": null,
      "description_width": ""
     }
    },
    "da0a05d60e0844f89457c3c273dd727d": {
     "model_module": "@jupyter-widgets/controls",
     "model_module_version": "1.5.0",
     "model_name": "DescriptionStyleModel",
     "state": {
      "_model_module": "@jupyter-widgets/controls",
      "_model_module_version": "1.5.0",
      "_model_name": "DescriptionStyleModel",
      "_view_count": null,
      "_view_module": "@jupyter-widgets/base",
      "_view_module_version": "1.2.0",
      "_view_name": "StyleView",
      "description_width": ""
     }
    },
    "e34d48249bb44956bc69db680ec5d9f6": {
     "model_module": "@jupyter-widgets/controls",
     "model_module_version": "1.5.0",
     "model_name": "DescriptionStyleModel",
     "state": {
      "_model_module": "@jupyter-widgets/controls",
      "_model_module_version": "1.5.0",
      "_model_name": "DescriptionStyleModel",
      "_view_count": null,
      "_view_module": "@jupyter-widgets/base",
      "_view_module_version": "1.2.0",
      "_view_name": "StyleView",
      "description_width": ""
     }
    },
    "e606346348954a4ab3fadb9af09d234a": {
     "model_module": "@jupyter-widgets/base",
     "model_module_version": "1.2.0",
     "model_name": "LayoutModel",
     "state": {
      "_model_module": "@jupyter-widgets/base",
      "_model_module_version": "1.2.0",
      "_model_name": "LayoutModel",
      "_view_count": null,
      "_view_module": "@jupyter-widgets/base",
      "_view_module_version": "1.2.0",
      "_view_name": "LayoutView",
      "align_content": null,
      "align_items": null,
      "align_self": null,
      "border": null,
      "bottom": null,
      "display": null,
      "flex": null,
      "flex_flow": null,
      "grid_area": null,
      "grid_auto_columns": null,
      "grid_auto_flow": null,
      "grid_auto_rows": null,
      "grid_column": null,
      "grid_gap": null,
      "grid_row": null,
      "grid_template_areas": null,
      "grid_template_columns": null,
      "grid_template_rows": null,
      "height": null,
      "justify_content": null,
      "justify_items": null,
      "left": null,
      "margin": null,
      "max_height": null,
      "max_width": null,
      "min_height": null,
      "min_width": null,
      "object_fit": null,
      "object_position": null,
      "order": null,
      "overflow": null,
      "overflow_x": null,
      "overflow_y": null,
      "padding": null,
      "right": null,
      "top": null,
      "visibility": null,
      "width": null
     }
    },
    "ebb28733090e40d4b34e73301f3c0a3d": {
     "model_module": "@jupyter-widgets/base",
     "model_module_version": "1.2.0",
     "model_name": "LayoutModel",
     "state": {
      "_model_module": "@jupyter-widgets/base",
      "_model_module_version": "1.2.0",
      "_model_name": "LayoutModel",
      "_view_count": null,
      "_view_module": "@jupyter-widgets/base",
      "_view_module_version": "1.2.0",
      "_view_name": "LayoutView",
      "align_content": null,
      "align_items": null,
      "align_self": null,
      "border": null,
      "bottom": null,
      "display": null,
      "flex": null,
      "flex_flow": null,
      "grid_area": null,
      "grid_auto_columns": null,
      "grid_auto_flow": null,
      "grid_auto_rows": null,
      "grid_column": null,
      "grid_gap": null,
      "grid_row": null,
      "grid_template_areas": null,
      "grid_template_columns": null,
      "grid_template_rows": null,
      "height": null,
      "justify_content": null,
      "justify_items": null,
      "left": null,
      "margin": null,
      "max_height": null,
      "max_width": null,
      "min_height": null,
      "min_width": null,
      "object_fit": null,
      "object_position": null,
      "order": null,
      "overflow": null,
      "overflow_x": null,
      "overflow_y": null,
      "padding": null,
      "right": null,
      "top": null,
      "visibility": null,
      "width": null
     }
    },
    "ebdafb1e6a554bb0a63317a12368eab8": {
     "model_module": "@jupyter-widgets/controls",
     "model_module_version": "1.5.0",
     "model_name": "DescriptionStyleModel",
     "state": {
      "_model_module": "@jupyter-widgets/controls",
      "_model_module_version": "1.5.0",
      "_model_name": "DescriptionStyleModel",
      "_view_count": null,
      "_view_module": "@jupyter-widgets/base",
      "_view_module_version": "1.2.0",
      "_view_name": "StyleView",
      "description_width": ""
     }
    },
    "ebf4ecdce99c4648ab55a84087e3a74b": {
     "model_module": "@jupyter-widgets/base",
     "model_module_version": "1.2.0",
     "model_name": "LayoutModel",
     "state": {
      "_model_module": "@jupyter-widgets/base",
      "_model_module_version": "1.2.0",
      "_model_name": "LayoutModel",
      "_view_count": null,
      "_view_module": "@jupyter-widgets/base",
      "_view_module_version": "1.2.0",
      "_view_name": "LayoutView",
      "align_content": null,
      "align_items": null,
      "align_self": null,
      "border": null,
      "bottom": null,
      "display": null,
      "flex": null,
      "flex_flow": null,
      "grid_area": null,
      "grid_auto_columns": null,
      "grid_auto_flow": null,
      "grid_auto_rows": null,
      "grid_column": null,
      "grid_gap": null,
      "grid_row": null,
      "grid_template_areas": null,
      "grid_template_columns": null,
      "grid_template_rows": null,
      "height": null,
      "justify_content": null,
      "justify_items": null,
      "left": null,
      "margin": null,
      "max_height": null,
      "max_width": null,
      "min_height": null,
      "min_width": null,
      "object_fit": null,
      "object_position": null,
      "order": null,
      "overflow": null,
      "overflow_x": null,
      "overflow_y": null,
      "padding": null,
      "right": null,
      "top": null,
      "visibility": null,
      "width": null
     }
    },
    "f72a7c640c0c4c21b68b0f676e7f87b4": {
     "model_module": "@jupyter-widgets/controls",
     "model_module_version": "1.5.0",
     "model_name": "DescriptionStyleModel",
     "state": {
      "_model_module": "@jupyter-widgets/controls",
      "_model_module_version": "1.5.0",
      "_model_name": "DescriptionStyleModel",
      "_view_count": null,
      "_view_module": "@jupyter-widgets/base",
      "_view_module_version": "1.2.0",
      "_view_name": "StyleView",
      "description_width": ""
     }
    },
    "fc366dc21f5b46faa5a51ee8b770fed6": {
     "model_module": "@jupyter-widgets/controls",
     "model_module_version": "1.5.0",
     "model_name": "HTMLModel",
     "state": {
      "_dom_classes": [],
      "_model_module": "@jupyter-widgets/controls",
      "_model_module_version": "1.5.0",
      "_model_name": "HTMLModel",
      "_view_count": null,
      "_view_module": "@jupyter-widgets/controls",
      "_view_module_version": "1.5.0",
      "_view_name": "HTMLView",
      "description": "",
      "description_tooltip": null,
      "layout": "IPY_MODEL_cba519db4809480dbd73d63fcd6e5c1f",
      "placeholder": "​",
      "style": "IPY_MODEL_be6eed0c11f2409e9e60768c296a8900",
      "value": " 1.36M/1.36M [00:00&lt;00:00, 2.13MB/s]"
     }
    }
   }
  }
 },
 "nbformat": 4,
 "nbformat_minor": 5
}
